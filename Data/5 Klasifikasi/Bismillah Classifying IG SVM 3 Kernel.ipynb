{
 "cells": [
  {
   "cell_type": "code",
   "execution_count": 1,
   "metadata": {},
   "outputs": [
    {
     "name": "stdout",
     "output_type": "stream",
     "text": [
      "[nltk_data] Downloading package stopwords to\n",
      "[nltk_data]     C:\\Users\\bimak\\AppData\\Roaming\\nltk_data...\n",
      "[nltk_data]   Package stopwords is already up-to-date!\n",
      "[nltk_data] Downloading package punkt to\n",
      "[nltk_data]     C:\\Users\\bimak\\AppData\\Roaming\\nltk_data...\n",
      "[nltk_data]   Package punkt is already up-to-date!\n",
      "[nltk_data] Downloading package wordnet to\n",
      "[nltk_data]     C:\\Users\\bimak\\AppData\\Roaming\\nltk_data...\n",
      "[nltk_data]   Package wordnet is already up-to-date!\n"
     ]
    }
   ],
   "source": [
    "import pandas as pd\n",
    "import numpy as np\n",
    "import matplotlib.pyplot as plt\n",
    "import re\n",
    "import scipy\n",
    "import sklearn\n",
    "import math\n",
    "%matplotlib inline\n",
    "import seaborn as sns\n",
    "from collections import Counter, defaultdict\n",
    "\n",
    "# Text Library\n",
    "import nltk\n",
    "from nltk.corpus import stopwords\n",
    "from nltk.tokenize import word_tokenize\n",
    "from nltk.corpus import stopwords\n",
    "nltk.download('stopwords')\n",
    "nltk.download('punkt')\n",
    "nltk.download('wordnet')\n",
    "stop_words = set(stopwords.words('english'))\n",
    "\n",
    "from nltk.stem import PorterStemmer\n",
    "from nltk.stem import WordNetLemmatizer\n",
    "\n",
    "# Splitting Data\n",
    "from sklearn.model_selection import train_test_split\n",
    "\n",
    "# Import libary for TFID Vectorizer\n",
    "from sklearn.feature_extraction.text import TfidfTransformer\n",
    "from sklearn.feature_extraction.text import TfidfVectorizer\n",
    "\n",
    "# Import feature selection Libraries\n",
    "from sklearn.feature_selection import SelectKBest, chi2, f_regression, mutual_info_classif\n",
    "\n",
    "# Algorithm\n",
    "from sklearn.naive_bayes import MultinomialNB\n",
    "\n",
    "# Evaluation\n",
    "from sklearn.metrics import f1_score\n",
    "from sklearn.metrics import accuracy_score\n",
    "from sklearn.metrics import classification_report, confusion_matrix\n",
    "\n",
    "import seaborn as sb"
   ]
  },
  {
   "cell_type": "code",
   "execution_count": 2,
   "metadata": {},
   "outputs": [],
   "source": [
    "dfTrain_PreStem = pd.read_csv('dfTrain_PreStem.csv')\n",
    "dfTest_PreStem = pd.read_csv('dfTest_PreStem.csv')\n",
    "\n",
    "fitur_prestem = pd.read_csv('fitur_prestem.csv')"
   ]
  },
  {
   "cell_type": "code",
   "execution_count": 3,
   "metadata": {},
   "outputs": [
    {
     "data": {
      "text/html": [
       "<div>\n",
       "<style scoped>\n",
       "    .dataframe tbody tr th:only-of-type {\n",
       "        vertical-align: middle;\n",
       "    }\n",
       "\n",
       "    .dataframe tbody tr th {\n",
       "        vertical-align: top;\n",
       "    }\n",
       "\n",
       "    .dataframe thead th {\n",
       "        text-align: right;\n",
       "    }\n",
       "</style>\n",
       "<table border=\"1\" class=\"dataframe\">\n",
       "  <thead>\n",
       "    <tr style=\"text-align: right;\">\n",
       "      <th></th>\n",
       "      <th>Unnamed: 0</th>\n",
       "      <th>feature</th>\n",
       "      <th>tfidf</th>\n",
       "      <th>ig_value</th>\n",
       "    </tr>\n",
       "  </thead>\n",
       "  <tbody>\n",
       "    <tr>\n",
       "      <td>2592</td>\n",
       "      <td>2592</td>\n",
       "      <td>NaN</td>\n",
       "      <td>0.0</td>\n",
       "      <td>0.001751</td>\n",
       "    </tr>\n",
       "  </tbody>\n",
       "</table>\n",
       "</div>"
      ],
      "text/plain": [
       "      Unnamed: 0 feature  tfidf  ig_value\n",
       "2592        2592     NaN    0.0  0.001751"
      ]
     },
     "execution_count": 3,
     "metadata": {},
     "output_type": "execute_result"
    }
   ],
   "source": [
    "fitur_prestem[fitur_prestem['feature'].isnull() == True]"
   ]
  },
  {
   "cell_type": "code",
   "execution_count": 4,
   "metadata": {},
   "outputs": [
    {
     "data": {
      "text/html": [
       "<div>\n",
       "<style scoped>\n",
       "    .dataframe tbody tr th:only-of-type {\n",
       "        vertical-align: middle;\n",
       "    }\n",
       "\n",
       "    .dataframe tbody tr th {\n",
       "        vertical-align: top;\n",
       "    }\n",
       "\n",
       "    .dataframe thead th {\n",
       "        text-align: right;\n",
       "    }\n",
       "</style>\n",
       "<table border=\"1\" class=\"dataframe\">\n",
       "  <thead>\n",
       "    <tr style=\"text-align: right;\">\n",
       "      <th></th>\n",
       "      <th>feature</th>\n",
       "      <th>tfidf</th>\n",
       "      <th>ig_value</th>\n",
       "    </tr>\n",
       "  </thead>\n",
       "  <tbody>\n",
       "    <tr>\n",
       "      <td>0</td>\n",
       "      <td>aaaccchhh</td>\n",
       "      <td>0.0</td>\n",
       "      <td>0.000798</td>\n",
       "    </tr>\n",
       "    <tr>\n",
       "      <td>1</td>\n",
       "      <td>aaeu</td>\n",
       "      <td>0.0</td>\n",
       "      <td>0.000784</td>\n",
       "    </tr>\n",
       "    <tr>\n",
       "      <td>2</td>\n",
       "      <td>aamiin</td>\n",
       "      <td>0.0</td>\n",
       "      <td>0.001751</td>\n",
       "    </tr>\n",
       "    <tr>\n",
       "      <td>3</td>\n",
       "      <td>ab</td>\n",
       "      <td>0.0</td>\n",
       "      <td>0.000798</td>\n",
       "    </tr>\n",
       "    <tr>\n",
       "      <td>4</td>\n",
       "      <td>abad</td>\n",
       "      <td>0.0</td>\n",
       "      <td>0.000784</td>\n",
       "    </tr>\n",
       "    <tr>\n",
       "      <td>...</td>\n",
       "      <td>...</td>\n",
       "      <td>...</td>\n",
       "      <td>...</td>\n",
       "    </tr>\n",
       "    <tr>\n",
       "      <td>4416</td>\n",
       "      <td>zuudhvtnbc</td>\n",
       "      <td>0.0</td>\n",
       "      <td>0.000967</td>\n",
       "    </tr>\n",
       "    <tr>\n",
       "      <td>4417</td>\n",
       "      <td>zw</td>\n",
       "      <td>0.0</td>\n",
       "      <td>0.000784</td>\n",
       "    </tr>\n",
       "    <tr>\n",
       "      <td>4418</td>\n",
       "      <td>zww</td>\n",
       "      <td>0.0</td>\n",
       "      <td>0.000784</td>\n",
       "    </tr>\n",
       "    <tr>\n",
       "      <td>4419</td>\n",
       "      <td>zygzu</td>\n",
       "      <td>0.0</td>\n",
       "      <td>0.000967</td>\n",
       "    </tr>\n",
       "    <tr>\n",
       "      <td>4420</td>\n",
       "      <td>zzdysjods</td>\n",
       "      <td>0.0</td>\n",
       "      <td>0.000967</td>\n",
       "    </tr>\n",
       "  </tbody>\n",
       "</table>\n",
       "<p>4421 rows × 3 columns</p>\n",
       "</div>"
      ],
      "text/plain": [
       "         feature  tfidf  ig_value\n",
       "0      aaaccchhh    0.0  0.000798\n",
       "1           aaeu    0.0  0.000784\n",
       "2         aamiin    0.0  0.001751\n",
       "3             ab    0.0  0.000798\n",
       "4           abad    0.0  0.000784\n",
       "...          ...    ...       ...\n",
       "4416  zuudhvtnbc    0.0  0.000967\n",
       "4417          zw    0.0  0.000784\n",
       "4418         zww    0.0  0.000784\n",
       "4419       zygzu    0.0  0.000967\n",
       "4420   zzdysjods    0.0  0.000967\n",
       "\n",
       "[4421 rows x 3 columns]"
      ]
     },
     "execution_count": 4,
     "metadata": {},
     "output_type": "execute_result"
    }
   ],
   "source": [
    "fitur_prestem = fitur_prestem.drop(columns=['Unnamed: 0'])\n",
    "fitur_prestem"
   ]
  },
  {
   "cell_type": "code",
   "execution_count": 5,
   "metadata": {},
   "outputs": [
    {
     "data": {
      "text/html": [
       "<div>\n",
       "<style scoped>\n",
       "    .dataframe tbody tr th:only-of-type {\n",
       "        vertical-align: middle;\n",
       "    }\n",
       "\n",
       "    .dataframe tbody tr th {\n",
       "        vertical-align: top;\n",
       "    }\n",
       "\n",
       "    .dataframe thead th {\n",
       "        text-align: right;\n",
       "    }\n",
       "</style>\n",
       "<table border=\"1\" class=\"dataframe\">\n",
       "  <thead>\n",
       "    <tr style=\"text-align: right;\">\n",
       "      <th></th>\n",
       "      <th>feature</th>\n",
       "      <th>tfidf</th>\n",
       "      <th>ig_value</th>\n",
       "    </tr>\n",
       "  </thead>\n",
       "  <tbody>\n",
       "    <tr>\n",
       "      <td>0</td>\n",
       "      <td>aaaccchhh</td>\n",
       "      <td>0.0</td>\n",
       "      <td>0.000798</td>\n",
       "    </tr>\n",
       "    <tr>\n",
       "      <td>1</td>\n",
       "      <td>aaeu</td>\n",
       "      <td>0.0</td>\n",
       "      <td>0.000784</td>\n",
       "    </tr>\n",
       "    <tr>\n",
       "      <td>2</td>\n",
       "      <td>aamiin</td>\n",
       "      <td>0.0</td>\n",
       "      <td>0.001751</td>\n",
       "    </tr>\n",
       "    <tr>\n",
       "      <td>3</td>\n",
       "      <td>ab</td>\n",
       "      <td>0.0</td>\n",
       "      <td>0.000798</td>\n",
       "    </tr>\n",
       "    <tr>\n",
       "      <td>4</td>\n",
       "      <td>abad</td>\n",
       "      <td>0.0</td>\n",
       "      <td>0.000784</td>\n",
       "    </tr>\n",
       "    <tr>\n",
       "      <td>...</td>\n",
       "      <td>...</td>\n",
       "      <td>...</td>\n",
       "      <td>...</td>\n",
       "    </tr>\n",
       "    <tr>\n",
       "      <td>4416</td>\n",
       "      <td>zuudhvtnbc</td>\n",
       "      <td>0.0</td>\n",
       "      <td>0.000967</td>\n",
       "    </tr>\n",
       "    <tr>\n",
       "      <td>4417</td>\n",
       "      <td>zw</td>\n",
       "      <td>0.0</td>\n",
       "      <td>0.000784</td>\n",
       "    </tr>\n",
       "    <tr>\n",
       "      <td>4418</td>\n",
       "      <td>zww</td>\n",
       "      <td>0.0</td>\n",
       "      <td>0.000784</td>\n",
       "    </tr>\n",
       "    <tr>\n",
       "      <td>4419</td>\n",
       "      <td>zygzu</td>\n",
       "      <td>0.0</td>\n",
       "      <td>0.000967</td>\n",
       "    </tr>\n",
       "    <tr>\n",
       "      <td>4420</td>\n",
       "      <td>zzdysjods</td>\n",
       "      <td>0.0</td>\n",
       "      <td>0.000967</td>\n",
       "    </tr>\n",
       "  </tbody>\n",
       "</table>\n",
       "<p>4420 rows × 3 columns</p>\n",
       "</div>"
      ],
      "text/plain": [
       "         feature  tfidf  ig_value\n",
       "0      aaaccchhh    0.0  0.000798\n",
       "1           aaeu    0.0  0.000784\n",
       "2         aamiin    0.0  0.001751\n",
       "3             ab    0.0  0.000798\n",
       "4           abad    0.0  0.000784\n",
       "...          ...    ...       ...\n",
       "4416  zuudhvtnbc    0.0  0.000967\n",
       "4417          zw    0.0  0.000784\n",
       "4418         zww    0.0  0.000784\n",
       "4419       zygzu    0.0  0.000967\n",
       "4420   zzdysjods    0.0  0.000967\n",
       "\n",
       "[4420 rows x 3 columns]"
      ]
     },
     "execution_count": 5,
     "metadata": {},
     "output_type": "execute_result"
    }
   ],
   "source": [
    "fitur_prestem = fitur_prestem.dropna()\n",
    "fitur_prestem"
   ]
  },
  {
   "cell_type": "code",
   "execution_count": 6,
   "metadata": {},
   "outputs": [],
   "source": [
    "X_train_prestem = dfTrain_PreStem['tweet'].values\n",
    "y_train_prestem = dfTrain_PreStem['label'].values\n",
    "\n",
    "X_test_prestem = dfTest_PreStem['tweet'].values\n",
    "y_test_prestem = dfTest_PreStem['label'].values"
   ]
  },
  {
   "cell_type": "code",
   "execution_count": 7,
   "metadata": {},
   "outputs": [],
   "source": [
    "# Get feature train and test for dfPreStem\n",
    "tfidf_vectorizer = TfidfVectorizer(max_df=1.0, min_df=1, lowercase = False, stop_words=None)\n",
    "\n",
    "# Fit transform to data train\n",
    "tfidf_train_prestem = tfidf_vectorizer.fit_transform(X_train_prestem)\n",
    "tfidf_test_prestem = tfidf_vectorizer.transform(X_test_prestem)\n",
    "\n",
    "# Get feature matrix for dfTrain_PreStem\n",
    "fitur_train_prestem = tfidf_train_prestem.toarray()\n",
    "fitur_tr4 = tfidf_vectorizer.get_feature_names()\n",
    "train_prestem_mtx = pd.DataFrame(data=fitur_train_prestem,columns=fitur_tr4)\n",
    "\n",
    "# Get feature matrix for dfTest_PreStem\n",
    "fitur_test_prestem = tfidf_test_prestem.toarray()\n",
    "fitur_te4 = tfidf_vectorizer.get_feature_names()\n",
    "test_prestem_mtx = pd.DataFrame(data=fitur_test_prestem,columns=fitur_te4)"
   ]
  },
  {
   "cell_type": "code",
   "execution_count": 8,
   "metadata": {},
   "outputs": [],
   "source": [
    "train_prestem_mtx['label_value'] = y_train_prestem"
   ]
  },
  {
   "cell_type": "code",
   "execution_count": 9,
   "metadata": {},
   "outputs": [],
   "source": [
    "# Sort each fitur dataframe based on ig_value\n",
    "fitur_prestem_sorted = fitur_prestem.sort_values(by='ig_value', ascending=False)\n",
    "fitur_prestem_sorted = list(fitur_prestem_sorted.feature)"
   ]
  },
  {
   "cell_type": "code",
   "execution_count": 10,
   "metadata": {},
   "outputs": [],
   "source": [
    "# Fungsi mengambil banyak top-k fitur yang harus diambil\n",
    "\n",
    "def perc_fitur(train_vector):\n",
    "    panjang = train_vector.shape[1]\n",
    "    lenFitur = []\n",
    "    for i in range (1,10):\n",
    "      lenFitur.append(round((i/10)*panjang))\n",
    "    lenFitur.reverse()\n",
    "    \n",
    "    return lenFitur\n",
    "\n",
    "def generate_vec(train_data, test_data):\n",
    "    X_train = train_data['tweet'].values\n",
    "    y_train = train_data['label'].values\n",
    "\n",
    "    X_test = test_data['tweet'].values\n",
    "    y_test = test_data['label'].values\n",
    "    \n",
    "    tfidf_vectorizer = TfidfVectorizer(max_df=1.0, min_df=1, lowercase = False, stop_words=None)\n",
    "\n",
    "    # Fit transform to data train\n",
    "    tfidf_train = tfidf_vectorizer.fit_transform(X_train)\n",
    "    tfidf_test = tfidf_vectorizer.transform(X_test)\n",
    "    \n",
    "    return [tfidf_train, tfidf_test]"
   ]
  },
  {
   "cell_type": "code",
   "execution_count": 11,
   "metadata": {},
   "outputs": [],
   "source": [
    "# Generate feature vector for each dataset\n",
    "vec_prestem = generate_vec(dfTrain_PreStem, dfTest_PreStem)"
   ]
  },
  {
   "cell_type": "code",
   "execution_count": 12,
   "metadata": {},
   "outputs": [],
   "source": [
    "# Ambil top-fitur setiap dataset dengan ukuran descending\n",
    "lenFitur_prestem = perc_fitur(vec_prestem[0])"
   ]
  },
  {
   "cell_type": "code",
   "execution_count": 13,
   "metadata": {},
   "outputs": [],
   "source": [
    "from sklearn import model_selection, svm"
   ]
  },
  {
   "cell_type": "code",
   "execution_count": 14,
   "metadata": {},
   "outputs": [
    {
     "name": "stdout",
     "output_type": "stream",
     "text": [
      "SVM Testing Accuracy Score ->  69.77611940298507\n",
      "SVM Testing Accuracy Score ->  69.90049751243781\n",
      "SVM Testing Accuracy Score ->  69.40298507462687\n",
      "SVM Testing Accuracy Score ->  69.65174129353234\n",
      "SVM Testing Accuracy Score ->  69.5273631840796\n",
      "SVM Testing Accuracy Score ->  70.1492537313433\n",
      "SVM Testing Accuracy Score ->  69.65174129353234\n",
      "SVM Testing Accuracy Score ->  68.78109452736318\n",
      "SVM Testing Accuracy Score ->  65.92039800995025\n"
     ]
    }
   ],
   "source": [
    "# Accuracy for df_pre1\n",
    "acc_ig_prestem = []\n",
    "for i in range(len(lenFitur_prestem)):\n",
    "    # Create subset feature based on top-n lenFitur\n",
    "    subset_feature = fitur_prestem_sorted[:lenFitur_prestem[i]]\n",
    "    \n",
    "    # Create feature matrix for train and test\n",
    "    features_train = scipy.sparse.csr_matrix(train_prestem_mtx[subset_feature].values)\n",
    "    features_test = scipy.sparse.csr_matrix(test_prestem_mtx[subset_feature].values)\n",
    "    \n",
    "#     # Build models and fit to train vector\n",
    "#     mnb = MultinomialNB()\n",
    "#     mnbTfidf = mnb.fit(features_train, y_train_prestem) # training the model\n",
    "#     predictTfidf = mnbTfidf.predict(features_test)\n",
    "        \n",
    "#     # Append accuracy score for each \n",
    "#     acc_ig_pre1.append(accuracy_score(y_test_pre1,predictTfidf))\n",
    "    \n",
    "    # Classifier - Algorithm - SVM\n",
    "    # fit the training dataset on the classifier\n",
    "    SVM = svm.SVC(kernel = 'linear')\n",
    "    SVM.fit(features_train, y_train_prestem)\n",
    "\n",
    "    # Use accuracy_score function to get the accuracy\n",
    "#     print(\"SVM Training Accuracy Score -> \", SVM.score(features_train, y_train_prestem)*100)\n",
    "    print(\"SVM Testing Accuracy Score -> \", SVM.score(features_test, y_test_prestem)*100)"
   ]
  },
  {
   "cell_type": "code",
   "execution_count": 15,
   "metadata": {},
   "outputs": [],
   "source": [
    "from sklearn.model_selection import train_test_split, RandomizedSearchCV, GridSearchCV\n",
    "from sklearn.pipeline import Pipeline"
   ]
  },
  {
   "cell_type": "code",
   "execution_count": 16,
   "metadata": {},
   "outputs": [
    {
     "data": {
      "text/plain": [
       "[3979, 3537, 3095, 2653, 2210, 1768, 1326, 884, 442]"
      ]
     },
     "execution_count": 16,
     "metadata": {},
     "output_type": "execute_result"
    }
   ],
   "source": [
    "lenFitur_prestem"
   ]
  },
  {
   "cell_type": "code",
   "execution_count": 17,
   "metadata": {},
   "outputs": [],
   "source": [
    "linear_grid = {'tfidf__max_features': [500, 1000, 5000, None],\n",
    "    'tfidf__ngram_range': [(1, 1), (1, 2), (1, 3)],\n",
    "    'clf__C': np.logspace(-1, 3, 5),\n",
    "    'clf__kernel' : ['linear']}\n",
    "    \n",
    "poly_grid = {'tfidf__max_features': [500, 1000, 5000, None],\n",
    "    'tfidf__ngram_range': [(1, 1), (1, 2), (1, 3)],\n",
    "    'clf__C': np.logspace(-1, 3, 5),\n",
    "    'clf__kernel' : ['poly'],\n",
    "    'clf__degree' : [2, 3],\n",
    "    'clf__gamma': np.logspace(-2, 2, 5)}\n",
    "\n",
    "rbf_grid = {'tfidf__max_features': [500, 1000, 5000, None],\n",
    "    'tfidf__ngram_range': [(1, 1), (1, 2), (1, 3)],\n",
    "    'clf__C': np.logspace(-1, 3, 5),\n",
    "    'clf__kernel' : ['rbf'],\n",
    "    'clf__gamma': np.logspace(-2, 2, 5)}"
   ]
  },
  {
   "cell_type": "code",
   "execution_count": 18,
   "metadata": {},
   "outputs": [],
   "source": [
    "clfPreStem = svm.SVC()\n",
    "tfidfPreStem = TfidfVectorizer()\n",
    "\n",
    "pipePreStem = Pipeline([\n",
    "    ('tfidf', tfidfPreStem),\n",
    "    ('clf', clfPreStem)\n",
    "])"
   ]
  },
  {
   "cell_type": "code",
   "execution_count": 19,
   "metadata": {},
   "outputs": [
    {
     "name": "stdout",
     "output_type": "stream",
     "text": [
      "Fitting 5 folds for each of 10 candidates, totalling 50 fits\n"
     ]
    },
    {
     "name": "stderr",
     "output_type": "stream",
     "text": [
      "[Parallel(n_jobs=-1)]: Using backend LokyBackend with 8 concurrent workers.\n",
      "[Parallel(n_jobs=-1)]: Done  25 tasks      | elapsed:   20.3s\n",
      "[Parallel(n_jobs=-1)]: Done  50 out of  50 | elapsed:   31.6s finished\n"
     ]
    }
   ],
   "source": [
    "scv_linear = RandomizedSearchCV(pipePreStem, param_distributions = linear_grid, n_iter = 10, cv = 5, verbose = 2, n_jobs = -1, return_train_score = True, random_state = 42)\n",
    "scv_linear.fit(X_train_prestem, y_train_prestem);"
   ]
  },
  {
   "cell_type": "code",
   "execution_count": 20,
   "metadata": {},
   "outputs": [
    {
     "name": "stdout",
     "output_type": "stream",
     "text": [
      "Fitting 5 folds for each of 10 candidates, totalling 50 fits\n"
     ]
    },
    {
     "name": "stderr",
     "output_type": "stream",
     "text": [
      "[Parallel(n_jobs=-1)]: Using backend LokyBackend with 8 concurrent workers.\n",
      "[Parallel(n_jobs=-1)]: Done  25 tasks      | elapsed:   18.3s\n",
      "[Parallel(n_jobs=-1)]: Done  50 out of  50 | elapsed:   34.6s finished\n"
     ]
    }
   ],
   "source": [
    "#using a randomized grid search to find the optimal value of the hyperparameters over a 5-fold cross-validation\n",
    "scv_poly = RandomizedSearchCV(pipePreStem, param_distributions = poly_grid, n_iter = 10, cv = 5, verbose = 2, n_jobs = -1, return_train_score = True, random_state = 42)\n",
    "scv_poly.fit(X_train_prestem, y_train_prestem);"
   ]
  },
  {
   "cell_type": "code",
   "execution_count": 21,
   "metadata": {},
   "outputs": [
    {
     "name": "stdout",
     "output_type": "stream",
     "text": [
      "Fitting 5 folds for each of 10 candidates, totalling 50 fits\n"
     ]
    },
    {
     "name": "stderr",
     "output_type": "stream",
     "text": [
      "[Parallel(n_jobs=-1)]: Using backend LokyBackend with 8 concurrent workers.\n",
      "[Parallel(n_jobs=-1)]: Done  25 tasks      | elapsed:   23.4s\n",
      "[Parallel(n_jobs=-1)]: Done  50 out of  50 | elapsed:   40.0s finished\n"
     ]
    }
   ],
   "source": [
    "#using a randomized grid search to find the optimal value of the hyperparameters over a 5-fold cross-validation\n",
    "scv_rbf = RandomizedSearchCV(pipePreStem, param_distributions = rbf_grid, n_iter = 10, cv = 5, verbose = 2, n_jobs = -1, return_train_score = True, random_state = 42)\n",
    "scv_rbf.fit(X_train_prestem, y_train_prestem);"
   ]
  },
  {
   "cell_type": "code",
   "execution_count": 22,
   "metadata": {},
   "outputs": [
    {
     "data": {
      "text/plain": [
       "{'tfidf__ngram_range': (1, 1),\n",
       " 'tfidf__max_features': None,\n",
       " 'clf__kernel': 'linear',\n",
       " 'clf__C': 10.0}"
      ]
     },
     "execution_count": 22,
     "metadata": {},
     "output_type": "execute_result"
    }
   ],
   "source": [
    "#preview the best parameters as found by the gridsearch\n",
    "scv_linear.best_params_"
   ]
  },
  {
   "cell_type": "code",
   "execution_count": 23,
   "metadata": {},
   "outputs": [
    {
     "data": {
      "text/plain": [
       "{'tfidf__ngram_range': (1, 3),\n",
       " 'tfidf__max_features': None,\n",
       " 'clf__kernel': 'poly',\n",
       " 'clf__gamma': 100.0,\n",
       " 'clf__degree': 2,\n",
       " 'clf__C': 100.0}"
      ]
     },
     "execution_count": 23,
     "metadata": {},
     "output_type": "execute_result"
    }
   ],
   "source": [
    "scv_poly.best_params_"
   ]
  },
  {
   "cell_type": "code",
   "execution_count": 24,
   "metadata": {},
   "outputs": [
    {
     "data": {
      "text/plain": [
       "{'tfidf__ngram_range': (1, 3),\n",
       " 'tfidf__max_features': None,\n",
       " 'clf__kernel': 'rbf',\n",
       " 'clf__gamma': 0.1,\n",
       " 'clf__C': 100.0}"
      ]
     },
     "execution_count": 24,
     "metadata": {},
     "output_type": "execute_result"
    }
   ],
   "source": [
    "scv_rbf.best_params_"
   ]
  },
  {
   "cell_type": "code",
   "execution_count": 25,
   "metadata": {},
   "outputs": [
    {
     "data": {
      "text/plain": [
       "Pipeline(memory=None,\n",
       "         steps=[('tfidf',\n",
       "                 TfidfVectorizer(analyzer='word', binary=False,\n",
       "                                 decode_error='strict',\n",
       "                                 dtype=<class 'numpy.float64'>,\n",
       "                                 encoding='utf-8', input='content',\n",
       "                                 lowercase=True, max_df=1.0, max_features=None,\n",
       "                                 min_df=1, ngram_range=(1, 3), norm='l2',\n",
       "                                 preprocessor=None, smooth_idf=True,\n",
       "                                 stop_words=None, strip_accents=None,\n",
       "                                 sublinear_tf=False,\n",
       "                                 token_pattern='(?u)\\\\b\\\\w\\\\w+\\\\b',\n",
       "                                 tokenizer=None, use_idf=True,\n",
       "                                 vocabulary=None)),\n",
       "                ('clf',\n",
       "                 SVC(C=100.0, cache_size=200, class_weight=None, coef0=0.0,\n",
       "                     decision_function_shape='ovr', degree=3, gamma=0.1,\n",
       "                     kernel='rbf', max_iter=-1, probability=False,\n",
       "                     random_state=None, shrinking=True, tol=0.001,\n",
       "                     verbose=False))],\n",
       "         verbose=False)"
      ]
     },
     "execution_count": 25,
     "metadata": {},
     "output_type": "execute_result"
    }
   ],
   "source": [
    "scv_rbf.best_estimator_"
   ]
  },
  {
   "cell_type": "code",
   "execution_count": 26,
   "metadata": {},
   "outputs": [
    {
     "data": {
      "text/plain": [
       "[3979, 3537, 3095, 2653, 2210, 1768, 1326, 884, 442]"
      ]
     },
     "execution_count": 26,
     "metadata": {},
     "output_type": "execute_result"
    }
   ],
   "source": [
    "lenFitur_prestem"
   ]
  },
  {
   "cell_type": "code",
   "execution_count": 27,
   "metadata": {},
   "outputs": [
    {
     "name": "stdout",
     "output_type": "stream",
     "text": [
      "SVM Testing Accuracy Score ->  67.28855721393035\n",
      "SVM Testing Accuracy Score ->  67.7860696517413\n",
      "SVM Testing Accuracy Score ->  67.7860696517413\n",
      "SVM Testing Accuracy Score ->  68.1592039800995\n",
      "SVM Testing Accuracy Score ->  69.40298507462687\n",
      "SVM Testing Accuracy Score ->  67.66169154228857\n",
      "SVM Testing Accuracy Score ->  65.54726368159204\n",
      "SVM Testing Accuracy Score ->  65.54726368159204\n",
      "SVM Testing Accuracy Score ->  65.92039800995025\n"
     ]
    }
   ],
   "source": [
    "# Accuracy for df_pre1\n",
    "acc_ig_prestem = []\n",
    "for i in range(len(lenFitur_prestem)):\n",
    "    # Create subset feature based on top-n lenFitur\n",
    "    subset_feature = fitur_prestem_sorted[:lenFitur_prestem[i]]\n",
    "    \n",
    "    # Create feature matrix for train and test\n",
    "    features_train = scipy.sparse.csr_matrix(train_prestem_mtx[subset_feature].values)\n",
    "    features_test = scipy.sparse.csr_matrix(test_prestem_mtx[subset_feature].values)\n",
    "       \n",
    "    # Classifier - Algorithm - SVM\n",
    "    # fit the training dataset on the classifier\n",
    "    SVML1 = svm.SVC(kernel = 'linear', C=10)\n",
    "    SVML1.fit(features_train, y_train_prestem)\n",
    "\n",
    "    # Use accuracy_score function to get the accuracy\n",
    "    print(\"SVM Testing Accuracy Score -> \", SVML1.score(features_test, y_test_prestem)*100)"
   ]
  },
  {
   "cell_type": "code",
   "execution_count": 28,
   "metadata": {},
   "outputs": [
    {
     "name": "stdout",
     "output_type": "stream",
     "text": [
      "SVM Testing Accuracy Score ->  69.15422885572139\n",
      "SVM Testing Accuracy Score ->  65.67164179104478\n",
      "SVM Testing Accuracy Score ->  68.28358208955224\n",
      "SVM Testing Accuracy Score ->  67.16417910447761\n",
      "SVM Testing Accuracy Score ->  69.40298507462687\n",
      "SVM Testing Accuracy Score ->  63.557213930348254\n",
      "SVM Testing Accuracy Score ->  62.56218905472637\n",
      "SVM Testing Accuracy Score ->  56.840796019900495\n",
      "SVM Testing Accuracy Score ->  61.19402985074627\n"
     ]
    }
   ],
   "source": [
    "# Accuracy for df_pre1\n",
    "acc_ig_prestem = []\n",
    "for i in range(len(lenFitur_prestem)):\n",
    "    # Create subset feature based on top-n lenFitur\n",
    "    subset_feature = fitur_prestem_sorted[:lenFitur_prestem[i]]\n",
    "    \n",
    "    # Create feature matrix for train and test\n",
    "    features_train = scipy.sparse.csr_matrix(train_prestem_mtx[subset_feature].values)\n",
    "    features_test = scipy.sparse.csr_matrix(test_prestem_mtx[subset_feature].values)\n",
    "       \n",
    "    # Classifier - Algorithm - SVM\n",
    "    # fit the training dataset on the classifier\n",
    "    SVMP1 = svm.SVC(kernel = 'poly', degree = 2, gamma = 100, C = 100)\n",
    "    SVMP1.fit(features_train, y_train_prestem)\n",
    "\n",
    "    # Use accuracy_score function to get the accuracy\n",
    "    print(\"SVM Testing Accuracy Score -> \", SVMP1.score(features_test, y_test_prestem)*100)"
   ]
  },
  {
   "cell_type": "code",
   "execution_count": 29,
   "metadata": {},
   "outputs": [
    {
     "name": "stdout",
     "output_type": "stream",
     "text": [
      "SVM Testing Accuracy Score ->  68.28358208955224\n",
      "SVM Testing Accuracy Score ->  66.66666666666666\n",
      "SVM Testing Accuracy Score ->  67.66169154228857\n",
      "SVM Testing Accuracy Score ->  66.7910447761194\n",
      "SVM Testing Accuracy Score ->  66.16915422885572\n",
      "SVM Testing Accuracy Score ->  67.66169154228857\n",
      "SVM Testing Accuracy Score ->  65.29850746268657\n",
      "SVM Testing Accuracy Score ->  65.04975124378109\n",
      "SVM Testing Accuracy Score ->  66.7910447761194\n"
     ]
    }
   ],
   "source": [
    "# Accuracy for df_pre1\n",
    "acc_ig_prestem = []\n",
    "for i in range(len(lenFitur_prestem)):\n",
    "    # Create subset feature based on top-n lenFitur\n",
    "    subset_feature = fitur_prestem_sorted[:lenFitur_prestem[i]]\n",
    "    \n",
    "    # Create feature matrix for train and test\n",
    "    features_train = scipy.sparse.csr_matrix(train_prestem_mtx[subset_feature].values)\n",
    "    features_test = scipy.sparse.csr_matrix(test_prestem_mtx[subset_feature].values)\n",
    "       \n",
    "    # Classifier - Algorithm - SVM\n",
    "    # fit the training dataset on the classifier\n",
    "    SVMR1 = svm.SVC(kernel = 'rbf', gamma = 0.1, C = 100)\n",
    "    SVMR1.fit(features_train, y_train_prestem)\n",
    "\n",
    "    # Use accuracy_score function to get the accuracy\n",
    "    print(\"SVM Testing Accuracy Score -> \", SVMR1.score(features_test, y_test_prestem)*100)"
   ]
  },
  {
   "cell_type": "code",
   "execution_count": 30,
   "metadata": {},
   "outputs": [
    {
     "data": {
      "text/plain": [
       "[3979, 3537, 3095, 2653, 2210, 1768, 1326, 884, 442]"
      ]
     },
     "execution_count": 30,
     "metadata": {},
     "output_type": "execute_result"
    }
   ],
   "source": [
    "lenFitur_prestem"
   ]
  },
  {
   "cell_type": "code",
   "execution_count": null,
   "metadata": {},
   "outputs": [],
   "source": []
  },
  {
   "cell_type": "code",
   "execution_count": 31,
   "metadata": {},
   "outputs": [],
   "source": [
    "#obtaining predictions and decision function scores\n",
    "Pred_YPreStem = SVML1.predict(features_test)"
   ]
  },
  {
   "cell_type": "code",
   "execution_count": 33,
   "metadata": {},
   "outputs": [],
   "source": [
    "wrong_classified_PreStem = Pred_YPreStem != y_test_prestem"
   ]
  },
  {
   "cell_type": "code",
   "execution_count": 34,
   "metadata": {},
   "outputs": [
    {
     "data": {
      "text/plain": [
       "array([ True, False, False, False,  True, False, False, False, False,\n",
       "        True, False, False,  True, False,  True, False, False,  True,\n",
       "        True,  True, False, False,  True, False,  True, False, False,\n",
       "       False,  True,  True,  True, False, False,  True,  True,  True,\n",
       "       False,  True, False,  True, False, False, False, False, False,\n",
       "        True, False,  True, False, False,  True, False,  True,  True,\n",
       "       False,  True, False, False, False, False,  True, False, False,\n",
       "       False, False,  True, False, False,  True,  True, False,  True,\n",
       "        True,  True, False,  True,  True,  True, False, False,  True,\n",
       "       False,  True, False,  True,  True,  True,  True,  True, False,\n",
       "       False, False,  True, False, False,  True, False, False, False,\n",
       "        True, False, False,  True,  True,  True, False, False,  True,\n",
       "       False, False, False, False, False, False,  True, False, False,\n",
       "       False, False, False,  True, False, False, False, False,  True,\n",
       "       False, False,  True,  True, False,  True, False,  True,  True,\n",
       "        True, False,  True,  True, False,  True,  True,  True, False,\n",
       "       False, False, False, False, False,  True, False,  True,  True,\n",
       "       False, False, False,  True,  True, False, False, False,  True,\n",
       "        True,  True, False, False, False, False, False, False, False,\n",
       "        True, False, False, False, False, False,  True, False,  True,\n",
       "       False, False, False, False, False, False, False, False, False,\n",
       "       False, False, False, False, False, False, False, False, False,\n",
       "       False, False,  True,  True, False, False, False, False,  True,\n",
       "       False,  True, False, False, False, False, False, False,  True,\n",
       "       False, False, False,  True,  True, False,  True, False, False,\n",
       "        True, False,  True, False,  True, False, False, False, False,\n",
       "       False, False,  True,  True, False, False, False,  True,  True,\n",
       "        True,  True, False,  True, False,  True,  True,  True, False,\n",
       "        True,  True,  True, False, False, False,  True,  True, False,\n",
       "       False, False,  True, False, False,  True,  True,  True, False,\n",
       "        True,  True,  True, False, False, False,  True,  True, False,\n",
       "       False,  True, False, False, False, False, False, False, False,\n",
       "        True,  True, False, False,  True, False, False,  True,  True,\n",
       "        True,  True,  True, False, False, False,  True, False,  True,\n",
       "       False, False,  True,  True, False,  True,  True, False,  True,\n",
       "        True, False, False, False, False,  True,  True,  True, False,\n",
       "       False,  True,  True, False,  True, False, False, False,  True,\n",
       "       False, False, False, False, False, False, False, False, False,\n",
       "       False, False,  True,  True, False, False, False,  True, False,\n",
       "        True, False, False, False,  True,  True,  True,  True,  True,\n",
       "       False,  True, False,  True, False, False, False,  True,  True,\n",
       "       False, False, False,  True, False, False,  True,  True, False,\n",
       "       False,  True,  True, False, False, False, False,  True,  True,\n",
       "        True, False,  True, False, False,  True,  True, False, False,\n",
       "        True,  True,  True, False,  True,  True, False, False, False,\n",
       "       False,  True, False, False, False, False, False, False,  True,\n",
       "       False, False, False,  True, False, False, False, False, False,\n",
       "       False, False, False,  True, False, False, False, False, False,\n",
       "       False,  True, False, False,  True, False, False, False, False,\n",
       "        True, False, False, False, False, False, False, False, False,\n",
       "       False, False,  True, False,  True,  True, False, False, False,\n",
       "       False, False, False, False, False, False, False, False, False,\n",
       "       False, False, False, False, False,  True, False, False, False,\n",
       "       False,  True,  True, False,  True, False,  True, False, False,\n",
       "        True, False,  True,  True, False, False,  True, False, False,\n",
       "       False,  True, False, False, False, False,  True,  True, False,\n",
       "       False, False,  True,  True, False, False, False,  True,  True,\n",
       "       False,  True, False,  True, False, False, False, False,  True,\n",
       "       False, False,  True, False,  True, False, False, False,  True,\n",
       "       False, False, False, False,  True, False,  True, False, False,\n",
       "       False, False, False, False, False, False, False,  True, False,\n",
       "        True, False, False, False, False, False,  True, False,  True,\n",
       "        True,  True,  True, False, False, False, False, False,  True,\n",
       "       False,  True,  True,  True, False, False,  True,  True,  True,\n",
       "       False,  True, False, False, False, False,  True, False, False,\n",
       "       False, False,  True, False, False, False,  True, False, False,\n",
       "        True,  True, False,  True, False, False, False,  True, False,\n",
       "       False, False,  True, False,  True, False, False, False, False,\n",
       "       False, False, False, False,  True, False, False, False, False,\n",
       "       False,  True, False,  True, False, False,  True,  True, False,\n",
       "       False,  True,  True, False, False,  True,  True, False,  True,\n",
       "        True, False, False, False,  True, False, False, False, False,\n",
       "       False, False, False, False, False, False, False, False, False,\n",
       "        True, False, False,  True,  True, False, False,  True,  True,\n",
       "       False, False, False, False, False,  True, False, False, False,\n",
       "        True,  True, False, False,  True, False,  True, False, False,\n",
       "       False, False,  True, False, False,  True, False, False, False,\n",
       "       False, False,  True, False, False, False, False, False,  True,\n",
       "        True, False, False, False,  True, False,  True,  True, False,\n",
       "       False, False,  True, False,  True,  True, False, False, False,\n",
       "       False,  True, False, False,  True,  True, False,  True, False,\n",
       "        True,  True, False, False, False, False, False, False, False,\n",
       "       False,  True,  True, False, False, False, False, False, False,\n",
       "       False, False,  True, False, False, False, False, False, False,\n",
       "       False,  True, False,  True, False, False,  True,  True, False,\n",
       "       False, False,  True, False, False,  True, False, False, False,\n",
       "       False, False, False, False, False, False,  True, False, False,\n",
       "        True, False, False, False, False, False, False, False,  True,\n",
       "       False,  True, False,  True,  True,  True, False, False, False,\n",
       "       False, False, False])"
      ]
     },
     "execution_count": 34,
     "metadata": {},
     "output_type": "execute_result"
    }
   ],
   "source": [
    "wrong_classified_PreStem"
   ]
  },
  {
   "cell_type": "code",
   "execution_count": 35,
   "metadata": {},
   "outputs": [],
   "source": [
    "wrong_data_PreStem = dfTest_PreStem[wrong_classified_PreStem == True]\n",
    "wrong_labels_PreStem = Pred_YPreStem[wrong_classified_PreStem == True]"
   ]
  },
  {
   "cell_type": "code",
   "execution_count": 36,
   "metadata": {},
   "outputs": [
    {
     "data": {
      "text/html": [
       "<div>\n",
       "<style scoped>\n",
       "    .dataframe tbody tr th:only-of-type {\n",
       "        vertical-align: middle;\n",
       "    }\n",
       "\n",
       "    .dataframe tbody tr th {\n",
       "        vertical-align: top;\n",
       "    }\n",
       "\n",
       "    .dataframe thead th {\n",
       "        text-align: right;\n",
       "    }\n",
       "</style>\n",
       "<table border=\"1\" class=\"dataframe\">\n",
       "  <thead>\n",
       "    <tr style=\"text-align: right;\">\n",
       "      <th></th>\n",
       "      <th>tweet</th>\n",
       "      <th>label</th>\n",
       "    </tr>\n",
       "  </thead>\n",
       "  <tbody>\n",
       "    <tr>\n",
       "      <td>0</td>\n",
       "      <td>aspek historis calon ibu kota negara kuta kart...</td>\n",
       "      <td>0</td>\n",
       "    </tr>\n",
       "    <tr>\n",
       "      <td>4</td>\n",
       "      <td>negara kelola  sporadis</td>\n",
       "      <td>0</td>\n",
       "    </tr>\n",
       "    <tr>\n",
       "      <td>17</td>\n",
       "      <td>pindah ibu kota trending  twitter lihat koment...</td>\n",
       "      <td>0</td>\n",
       "    </tr>\n",
       "    <tr>\n",
       "      <td>18</td>\n",
       "      <td>proses pindah makan biaya t bagi tanggung wila...</td>\n",
       "      <td>-1</td>\n",
       "    </tr>\n",
       "    <tr>\n",
       "      <td>29</td>\n",
       "      <td>skema pembiayan pindah ibu kota negara lewat</td>\n",
       "      <td>0</td>\n",
       "    </tr>\n",
       "    <tr>\n",
       "      <td>...</td>\n",
       "      <td>...</td>\n",
       "      <td>...</td>\n",
       "    </tr>\n",
       "    <tr>\n",
       "      <td>727</td>\n",
       "      <td>jual negara  halus pindah ibu kota dgn dominas...</td>\n",
       "      <td>-1</td>\n",
       "    </tr>\n",
       "    <tr>\n",
       "      <td>759</td>\n",
       "      <td>geopolitik pindah ibu kota negara sangat bahaya</td>\n",
       "      <td>-1</td>\n",
       "    </tr>\n",
       "    <tr>\n",
       "      <td>770</td>\n",
       "      <td>pindah ibu kota    merta langsung   perlu tuju...</td>\n",
       "      <td>0</td>\n",
       "    </tr>\n",
       "    <tr>\n",
       "      <td>793</td>\n",
       "      <td>amien rais perintah tunggu kaji tiongkok soal ...</td>\n",
       "      <td>-1</td>\n",
       "    </tr>\n",
       "    <tr>\n",
       "      <td>795</td>\n",
       "      <td>survei median mayoritas tolak ibu kota pindah ...</td>\n",
       "      <td>-1</td>\n",
       "    </tr>\n",
       "  </tbody>\n",
       "</table>\n",
       "<p>105 rows × 2 columns</p>\n",
       "</div>"
      ],
      "text/plain": [
       "                                                 tweet  label\n",
       "0    aspek historis calon ibu kota negara kuta kart...      0\n",
       "4                              negara kelola  sporadis      0\n",
       "17   pindah ibu kota trending  twitter lihat koment...      0\n",
       "18   proses pindah makan biaya t bagi tanggung wila...     -1\n",
       "29       skema pembiayan pindah ibu kota negara lewat       0\n",
       "..                                                 ...    ...\n",
       "727  jual negara  halus pindah ibu kota dgn dominas...     -1\n",
       "759    geopolitik pindah ibu kota negara sangat bahaya     -1\n",
       "770  pindah ibu kota    merta langsung   perlu tuju...      0\n",
       "793  amien rais perintah tunggu kaji tiongkok soal ...     -1\n",
       "795  survei median mayoritas tolak ibu kota pindah ...     -1\n",
       "\n",
       "[105 rows x 2 columns]"
      ]
     },
     "execution_count": 36,
     "metadata": {},
     "output_type": "execute_result"
    }
   ],
   "source": [
    "false_pronet_PreStem = wrong_data_PreStem[wrong_labels_PreStem == 1]\n",
    "false_pronet_PreStem"
   ]
  },
  {
   "cell_type": "code",
   "execution_count": 37,
   "metadata": {},
   "outputs": [
    {
     "data": {
      "text/html": [
       "<div>\n",
       "<style scoped>\n",
       "    .dataframe tbody tr th:only-of-type {\n",
       "        vertical-align: middle;\n",
       "    }\n",
       "\n",
       "    .dataframe tbody tr th {\n",
       "        vertical-align: top;\n",
       "    }\n",
       "\n",
       "    .dataframe thead th {\n",
       "        text-align: right;\n",
       "    }\n",
       "</style>\n",
       "<table border=\"1\" class=\"dataframe\">\n",
       "  <thead>\n",
       "    <tr style=\"text-align: right;\">\n",
       "      <th></th>\n",
       "      <th>tweet</th>\n",
       "      <th>label</th>\n",
       "    </tr>\n",
       "  </thead>\n",
       "  <tbody>\n",
       "    <tr>\n",
       "      <td>12</td>\n",
       "      <td>abis ngumumin pindah ibu kota negara biasa jaw...</td>\n",
       "      <td>-1</td>\n",
       "    </tr>\n",
       "    <tr>\n",
       "      <td>24</td>\n",
       "      <td>timbang  tambah utang gitu maksud  nikmat geli...</td>\n",
       "      <td>-1</td>\n",
       "    </tr>\n",
       "    <tr>\n",
       "      <td>52</td>\n",
       "      <td>apbn  biaya pindah ibu kota  kalimantan timur ...</td>\n",
       "      <td>1</td>\n",
       "    </tr>\n",
       "    <tr>\n",
       "      <td>53</td>\n",
       "      <td>masyarakat gunung mas minta hormat putus pinda...</td>\n",
       "      <td>1</td>\n",
       "    </tr>\n",
       "    <tr>\n",
       "      <td>55</td>\n",
       "      <td>mohon kaji  kabid mitigasi gempa  tsunami bmkg...</td>\n",
       "      <td>-1</td>\n",
       "    </tr>\n",
       "    <tr>\n",
       "      <td>...</td>\n",
       "      <td>...</td>\n",
       "      <td>...</td>\n",
       "    </tr>\n",
       "    <tr>\n",
       "      <td>725</td>\n",
       "      <td>yah skrng khan lg tren yg unfaedah kyk pindah ...</td>\n",
       "      <td>-1</td>\n",
       "    </tr>\n",
       "    <tr>\n",
       "      <td>730</td>\n",
       "      <td>benar pindah ibukota  ringan beban jakrta yg ...</td>\n",
       "      <td>1</td>\n",
       "    </tr>\n",
       "    <tr>\n",
       "      <td>739</td>\n",
       "      <td>pindah ibu kota  hak presiden pic twitter com ...</td>\n",
       "      <td>1</td>\n",
       "    </tr>\n",
       "    <tr>\n",
       "      <td>740</td>\n",
       "      <td>median rilis dapat masyarakat kait pindah ibu ...</td>\n",
       "      <td>-1</td>\n",
       "    </tr>\n",
       "    <tr>\n",
       "      <td>791</td>\n",
       "      <td>pindah ibu kota  kaltim  turun aktivitas ekono...</td>\n",
       "      <td>-1</td>\n",
       "    </tr>\n",
       "  </tbody>\n",
       "</table>\n",
       "<p>70 rows × 2 columns</p>\n",
       "</div>"
      ],
      "text/plain": [
       "                                                 tweet  label\n",
       "12   abis ngumumin pindah ibu kota negara biasa jaw...     -1\n",
       "24   timbang  tambah utang gitu maksud  nikmat geli...     -1\n",
       "52   apbn  biaya pindah ibu kota  kalimantan timur ...      1\n",
       "53   masyarakat gunung mas minta hormat putus pinda...      1\n",
       "55   mohon kaji  kabid mitigasi gempa  tsunami bmkg...     -1\n",
       "..                                                 ...    ...\n",
       "725  yah skrng khan lg tren yg unfaedah kyk pindah ...     -1\n",
       "730   benar pindah ibukota  ringan beban jakrta yg ...      1\n",
       "739  pindah ibu kota  hak presiden pic twitter com ...      1\n",
       "740  median rilis dapat masyarakat kait pindah ibu ...     -1\n",
       "791  pindah ibu kota  kaltim  turun aktivitas ekono...     -1\n",
       "\n",
       "[70 rows x 2 columns]"
      ]
     },
     "execution_count": 37,
     "metadata": {},
     "output_type": "execute_result"
    }
   ],
   "source": [
    "false_procon_PreStem = wrong_data_PreStem[wrong_labels_PreStem == 0]\n",
    "false_procon_PreStem"
   ]
  },
  {
   "cell_type": "code",
   "execution_count": 38,
   "metadata": {},
   "outputs": [
    {
     "data": {
      "text/html": [
       "<div>\n",
       "<style scoped>\n",
       "    .dataframe tbody tr th:only-of-type {\n",
       "        vertical-align: middle;\n",
       "    }\n",
       "\n",
       "    .dataframe tbody tr th {\n",
       "        vertical-align: top;\n",
       "    }\n",
       "\n",
       "    .dataframe thead th {\n",
       "        text-align: right;\n",
       "    }\n",
       "</style>\n",
       "<table border=\"1\" class=\"dataframe\">\n",
       "  <thead>\n",
       "    <tr style=\"text-align: right;\">\n",
       "      <th></th>\n",
       "      <th>tweet</th>\n",
       "      <th>label</th>\n",
       "    </tr>\n",
       "  </thead>\n",
       "  <tbody>\n",
       "    <tr>\n",
       "      <td>9</td>\n",
       "      <td>tuju alas realisasi sila  adil sosial  seluruh...</td>\n",
       "      <td>1</td>\n",
       "    </tr>\n",
       "    <tr>\n",
       "      <td>14</td>\n",
       "      <td>bapak tdk tolak tp bapak cuma jelas kakurangan...</td>\n",
       "      <td>0</td>\n",
       "    </tr>\n",
       "    <tr>\n",
       "      <td>19</td>\n",
       "      <td>kait rencana pindah ibu kota  kalimantan banya...</td>\n",
       "      <td>1</td>\n",
       "    </tr>\n",
       "    <tr>\n",
       "      <td>22</td>\n",
       "      <td>ngebayangin gmna proses pindah ibu kota  yg  ...</td>\n",
       "      <td>0</td>\n",
       "    </tr>\n",
       "    <tr>\n",
       "      <td>28</td>\n",
       "      <td>bicara untung rugi pindah ibu kota negara lu...</td>\n",
       "      <td>0</td>\n",
       "    </tr>\n",
       "    <tr>\n",
       "      <td>...</td>\n",
       "      <td>...</td>\n",
       "      <td>...</td>\n",
       "    </tr>\n",
       "    <tr>\n",
       "      <td>767</td>\n",
       "      <td>amien rais bahas rencana pindah ibu kota</td>\n",
       "      <td>0</td>\n",
       "    </tr>\n",
       "    <tr>\n",
       "      <td>780</td>\n",
       "      <td>ppp nilai kritik ketua dewan hormat pan amien ...</td>\n",
       "      <td>1</td>\n",
       "    </tr>\n",
       "    <tr>\n",
       "      <td>783</td>\n",
       "      <td>soal pindah ibu kota  kaltim amien rais keluar...</td>\n",
       "      <td>0</td>\n",
       "    </tr>\n",
       "    <tr>\n",
       "      <td>796</td>\n",
       "      <td>pindah ibu kota amien rais caper</td>\n",
       "      <td>0</td>\n",
       "    </tr>\n",
       "    <tr>\n",
       "      <td>797</td>\n",
       "      <td>pindah ibu kota ri  perspektif tahan</td>\n",
       "      <td>0</td>\n",
       "    </tr>\n",
       "  </tbody>\n",
       "</table>\n",
       "<p>99 rows × 2 columns</p>\n",
       "</div>"
      ],
      "text/plain": [
       "                                                 tweet  label\n",
       "9    tuju alas realisasi sila  adil sosial  seluruh...      1\n",
       "14   bapak tdk tolak tp bapak cuma jelas kakurangan...      0\n",
       "19   kait rencana pindah ibu kota  kalimantan banya...      1\n",
       "22    ngebayangin gmna proses pindah ibu kota  yg  ...      0\n",
       "28     bicara untung rugi pindah ibu kota negara lu...      0\n",
       "..                                                 ...    ...\n",
       "767           amien rais bahas rencana pindah ibu kota      0\n",
       "780  ppp nilai kritik ketua dewan hormat pan amien ...      1\n",
       "783  soal pindah ibu kota  kaltim amien rais keluar...      0\n",
       "796                   pindah ibu kota amien rais caper      0\n",
       "797               pindah ibu kota ri  perspektif tahan      0\n",
       "\n",
       "[99 rows x 2 columns]"
      ]
     },
     "execution_count": 38,
     "metadata": {},
     "output_type": "execute_result"
    }
   ],
   "source": [
    "false_netcon_PreStem = wrong_data_PreStem[wrong_labels_PreStem == -1]\n",
    "false_netcon_PreStem"
   ]
  },
  {
   "cell_type": "markdown",
   "metadata": {},
   "source": [
    "# rawstem"
   ]
  },
  {
   "cell_type": "code",
   "execution_count": 39,
   "metadata": {},
   "outputs": [],
   "source": [
    "dfTrain_RawStem = pd.read_csv('dfTrain_RawStem.csv')\n",
    "dfTest_RawStem = pd.read_csv('dfTest_RawStem.csv')\n",
    "\n",
    "fitur_rawstem = pd.read_csv('ig_rawstem.csv')"
   ]
  },
  {
   "cell_type": "code",
   "execution_count": 40,
   "metadata": {},
   "outputs": [
    {
     "data": {
      "text/html": [
       "<div>\n",
       "<style scoped>\n",
       "    .dataframe tbody tr th:only-of-type {\n",
       "        vertical-align: middle;\n",
       "    }\n",
       "\n",
       "    .dataframe tbody tr th {\n",
       "        vertical-align: top;\n",
       "    }\n",
       "\n",
       "    .dataframe thead th {\n",
       "        text-align: right;\n",
       "    }\n",
       "</style>\n",
       "<table border=\"1\" class=\"dataframe\">\n",
       "  <thead>\n",
       "    <tr style=\"text-align: right;\">\n",
       "      <th></th>\n",
       "      <th>Unnamed: 0</th>\n",
       "      <th>feature</th>\n",
       "      <th>tfidf</th>\n",
       "      <th>ig_value</th>\n",
       "    </tr>\n",
       "  </thead>\n",
       "  <tbody>\n",
       "    <tr>\n",
       "      <td>2821</td>\n",
       "      <td>2821</td>\n",
       "      <td>NaN</td>\n",
       "      <td>0.0</td>\n",
       "      <td>0.001751</td>\n",
       "    </tr>\n",
       "  </tbody>\n",
       "</table>\n",
       "</div>"
      ],
      "text/plain": [
       "      Unnamed: 0 feature  tfidf  ig_value\n",
       "2821        2821     NaN    0.0  0.001751"
      ]
     },
     "execution_count": 40,
     "metadata": {},
     "output_type": "execute_result"
    }
   ],
   "source": [
    "fitur_rawstem[fitur_rawstem['feature'].isnull() == True]"
   ]
  },
  {
   "cell_type": "code",
   "execution_count": 41,
   "metadata": {},
   "outputs": [
    {
     "data": {
      "text/html": [
       "<div>\n",
       "<style scoped>\n",
       "    .dataframe tbody tr th:only-of-type {\n",
       "        vertical-align: middle;\n",
       "    }\n",
       "\n",
       "    .dataframe tbody tr th {\n",
       "        vertical-align: top;\n",
       "    }\n",
       "\n",
       "    .dataframe thead th {\n",
       "        text-align: right;\n",
       "    }\n",
       "</style>\n",
       "<table border=\"1\" class=\"dataframe\">\n",
       "  <thead>\n",
       "    <tr style=\"text-align: right;\">\n",
       "      <th></th>\n",
       "      <th>feature</th>\n",
       "      <th>tfidf</th>\n",
       "      <th>ig_value</th>\n",
       "    </tr>\n",
       "  </thead>\n",
       "  <tbody>\n",
       "    <tr>\n",
       "      <td>0</td>\n",
       "      <td>00</td>\n",
       "      <td>0.0</td>\n",
       "      <td>0.006409</td>\n",
       "    </tr>\n",
       "    <tr>\n",
       "      <td>1</td>\n",
       "      <td>000</td>\n",
       "      <td>0.0</td>\n",
       "      <td>0.001569</td>\n",
       "    </tr>\n",
       "    <tr>\n",
       "      <td>2</td>\n",
       "      <td>03</td>\n",
       "      <td>0.0</td>\n",
       "      <td>0.000784</td>\n",
       "    </tr>\n",
       "    <tr>\n",
       "      <td>3</td>\n",
       "      <td>03persatuanindonesia</td>\n",
       "      <td>0.0</td>\n",
       "      <td>0.001582</td>\n",
       "    </tr>\n",
       "    <tr>\n",
       "      <td>4</td>\n",
       "      <td>05</td>\n",
       "      <td>0.0</td>\n",
       "      <td>0.002718</td>\n",
       "    </tr>\n",
       "    <tr>\n",
       "      <td>...</td>\n",
       "      <td>...</td>\n",
       "      <td>...</td>\n",
       "      <td>...</td>\n",
       "    </tr>\n",
       "    <tr>\n",
       "      <td>4689</td>\n",
       "      <td>zulkieflimansyah</td>\n",
       "      <td>0.0</td>\n",
       "      <td>0.000967</td>\n",
       "    </tr>\n",
       "    <tr>\n",
       "      <td>4690</td>\n",
       "      <td>zulkifli</td>\n",
       "      <td>0.0</td>\n",
       "      <td>0.000798</td>\n",
       "    </tr>\n",
       "    <tr>\n",
       "      <td>4691</td>\n",
       "      <td>zuudhvtnbc</td>\n",
       "      <td>0.0</td>\n",
       "      <td>0.000967</td>\n",
       "    </tr>\n",
       "    <tr>\n",
       "      <td>4692</td>\n",
       "      <td>zww4y9zufc</td>\n",
       "      <td>0.0</td>\n",
       "      <td>0.000784</td>\n",
       "    </tr>\n",
       "    <tr>\n",
       "      <td>4693</td>\n",
       "      <td>zygzu3ww5k</td>\n",
       "      <td>0.0</td>\n",
       "      <td>0.000967</td>\n",
       "    </tr>\n",
       "  </tbody>\n",
       "</table>\n",
       "<p>4694 rows × 3 columns</p>\n",
       "</div>"
      ],
      "text/plain": [
       "                   feature  tfidf  ig_value\n",
       "0                       00    0.0  0.006409\n",
       "1                      000    0.0  0.001569\n",
       "2                       03    0.0  0.000784\n",
       "3     03persatuanindonesia    0.0  0.001582\n",
       "4                       05    0.0  0.002718\n",
       "...                    ...    ...       ...\n",
       "4689      zulkieflimansyah    0.0  0.000967\n",
       "4690              zulkifli    0.0  0.000798\n",
       "4691            zuudhvtnbc    0.0  0.000967\n",
       "4692            zww4y9zufc    0.0  0.000784\n",
       "4693            zygzu3ww5k    0.0  0.000967\n",
       "\n",
       "[4694 rows x 3 columns]"
      ]
     },
     "execution_count": 41,
     "metadata": {},
     "output_type": "execute_result"
    }
   ],
   "source": [
    "fitur_rawstem = fitur_rawstem.drop(columns=['Unnamed: 0'])\n",
    "fitur_rawstem"
   ]
  },
  {
   "cell_type": "code",
   "execution_count": 42,
   "metadata": {},
   "outputs": [
    {
     "data": {
      "text/html": [
       "<div>\n",
       "<style scoped>\n",
       "    .dataframe tbody tr th:only-of-type {\n",
       "        vertical-align: middle;\n",
       "    }\n",
       "\n",
       "    .dataframe tbody tr th {\n",
       "        vertical-align: top;\n",
       "    }\n",
       "\n",
       "    .dataframe thead th {\n",
       "        text-align: right;\n",
       "    }\n",
       "</style>\n",
       "<table border=\"1\" class=\"dataframe\">\n",
       "  <thead>\n",
       "    <tr style=\"text-align: right;\">\n",
       "      <th></th>\n",
       "      <th>feature</th>\n",
       "      <th>tfidf</th>\n",
       "      <th>ig_value</th>\n",
       "    </tr>\n",
       "  </thead>\n",
       "  <tbody>\n",
       "    <tr>\n",
       "      <td>0</td>\n",
       "      <td>00</td>\n",
       "      <td>0.0</td>\n",
       "      <td>0.006409</td>\n",
       "    </tr>\n",
       "    <tr>\n",
       "      <td>1</td>\n",
       "      <td>000</td>\n",
       "      <td>0.0</td>\n",
       "      <td>0.001569</td>\n",
       "    </tr>\n",
       "    <tr>\n",
       "      <td>2</td>\n",
       "      <td>03</td>\n",
       "      <td>0.0</td>\n",
       "      <td>0.000784</td>\n",
       "    </tr>\n",
       "    <tr>\n",
       "      <td>3</td>\n",
       "      <td>03persatuanindonesia</td>\n",
       "      <td>0.0</td>\n",
       "      <td>0.001582</td>\n",
       "    </tr>\n",
       "    <tr>\n",
       "      <td>4</td>\n",
       "      <td>05</td>\n",
       "      <td>0.0</td>\n",
       "      <td>0.002718</td>\n",
       "    </tr>\n",
       "    <tr>\n",
       "      <td>...</td>\n",
       "      <td>...</td>\n",
       "      <td>...</td>\n",
       "      <td>...</td>\n",
       "    </tr>\n",
       "    <tr>\n",
       "      <td>4689</td>\n",
       "      <td>zulkieflimansyah</td>\n",
       "      <td>0.0</td>\n",
       "      <td>0.000967</td>\n",
       "    </tr>\n",
       "    <tr>\n",
       "      <td>4690</td>\n",
       "      <td>zulkifli</td>\n",
       "      <td>0.0</td>\n",
       "      <td>0.000798</td>\n",
       "    </tr>\n",
       "    <tr>\n",
       "      <td>4691</td>\n",
       "      <td>zuudhvtnbc</td>\n",
       "      <td>0.0</td>\n",
       "      <td>0.000967</td>\n",
       "    </tr>\n",
       "    <tr>\n",
       "      <td>4692</td>\n",
       "      <td>zww4y9zufc</td>\n",
       "      <td>0.0</td>\n",
       "      <td>0.000784</td>\n",
       "    </tr>\n",
       "    <tr>\n",
       "      <td>4693</td>\n",
       "      <td>zygzu3ww5k</td>\n",
       "      <td>0.0</td>\n",
       "      <td>0.000967</td>\n",
       "    </tr>\n",
       "  </tbody>\n",
       "</table>\n",
       "<p>4693 rows × 3 columns</p>\n",
       "</div>"
      ],
      "text/plain": [
       "                   feature  tfidf  ig_value\n",
       "0                       00    0.0  0.006409\n",
       "1                      000    0.0  0.001569\n",
       "2                       03    0.0  0.000784\n",
       "3     03persatuanindonesia    0.0  0.001582\n",
       "4                       05    0.0  0.002718\n",
       "...                    ...    ...       ...\n",
       "4689      zulkieflimansyah    0.0  0.000967\n",
       "4690              zulkifli    0.0  0.000798\n",
       "4691            zuudhvtnbc    0.0  0.000967\n",
       "4692            zww4y9zufc    0.0  0.000784\n",
       "4693            zygzu3ww5k    0.0  0.000967\n",
       "\n",
       "[4693 rows x 3 columns]"
      ]
     },
     "execution_count": 42,
     "metadata": {},
     "output_type": "execute_result"
    }
   ],
   "source": [
    "fitur_rawstem = fitur_rawstem.dropna()\n",
    "fitur_rawstem"
   ]
  },
  {
   "cell_type": "code",
   "execution_count": 43,
   "metadata": {},
   "outputs": [],
   "source": [
    "X_train_rawstem = dfTrain_RawStem['tweet'].values\n",
    "y_train_rawstem = dfTrain_RawStem['label'].values\n",
    "\n",
    "X_test_rawstem = dfTest_RawStem['tweet'].values\n",
    "y_test_rawstem = dfTest_RawStem['label'].values"
   ]
  },
  {
   "cell_type": "code",
   "execution_count": 44,
   "metadata": {},
   "outputs": [],
   "source": [
    "# Get feature train and test for df_pre1\n",
    "tfidf_vectorizer = TfidfVectorizer(max_df=1.0, min_df=1, lowercase = False, stop_words=None)\n",
    "\n",
    "# Fit transform to data train\n",
    "tfidf_train_rawstem = tfidf_vectorizer.fit_transform(X_train_rawstem)\n",
    "tfidf_test_rawstem = tfidf_vectorizer.transform(X_test_rawstem)\n",
    "\n",
    "# Get feature matrix for train_pre1\n",
    "fitur_train_rawstem = tfidf_train_rawstem.toarray()\n",
    "fitur_tr2 = tfidf_vectorizer.get_feature_names()\n",
    "train_rawstem_mtx = pd.DataFrame(data=fitur_train_rawstem,columns=fitur_tr2)\n",
    "\n",
    "# Get feature matrix for test_pre1\n",
    "fitur_test_rawstem = tfidf_test_rawstem.toarray()\n",
    "fitur_te2 = tfidf_vectorizer.get_feature_names()\n",
    "test_rawstem_mtx = pd.DataFrame(data=fitur_test_rawstem,columns=fitur_te2)"
   ]
  },
  {
   "cell_type": "code",
   "execution_count": 45,
   "metadata": {},
   "outputs": [],
   "source": [
    "train_rawstem_mtx['label_value'] = y_train_rawstem"
   ]
  },
  {
   "cell_type": "code",
   "execution_count": 46,
   "metadata": {},
   "outputs": [],
   "source": [
    "# Sort each fitur dataframe based on ig_value\n",
    "fitur_rawstem_sorted = fitur_rawstem.sort_values(by='ig_value', ascending=False)\n",
    "fitur_rawstem_sorted = list(fitur_rawstem_sorted.feature)"
   ]
  },
  {
   "cell_type": "code",
   "execution_count": 47,
   "metadata": {},
   "outputs": [],
   "source": [
    "# Fungsi mengambil banyak top-k fitur yang harus diambil\n",
    "\n",
    "def perc_fitur(train_vector):\n",
    "    panjang = train_vector.shape[1]\n",
    "    lenFitur = []\n",
    "    for i in range (1,10):\n",
    "      lenFitur.append(round((i/10)*panjang))\n",
    "    lenFitur.reverse()\n",
    "    \n",
    "    return lenFitur\n",
    "\n",
    "def generate_vec(train_data, test_data):\n",
    "    X_train = train_data['tweet'].values\n",
    "    y_train = train_data['label'].values\n",
    "\n",
    "    X_test = test_data['tweet'].values\n",
    "    y_test = test_data['label'].values\n",
    "    \n",
    "    tfidf_vectorizer = TfidfVectorizer(max_df=1.0, min_df=1, lowercase = False, stop_words=None)\n",
    "\n",
    "    # Fit transform to data train\n",
    "    tfidf_train = tfidf_vectorizer.fit_transform(X_train)\n",
    "    tfidf_test = tfidf_vectorizer.transform(X_test)\n",
    "    \n",
    "    return [tfidf_train, tfidf_test]"
   ]
  },
  {
   "cell_type": "code",
   "execution_count": 48,
   "metadata": {},
   "outputs": [],
   "source": [
    "# Generate feature vector for each dataset\n",
    "vec_rawstem = generate_vec(dfTrain_RawStem, dfTest_RawStem)"
   ]
  },
  {
   "cell_type": "code",
   "execution_count": 49,
   "metadata": {},
   "outputs": [],
   "source": [
    "# Ambil top-fitur setiap dataset dengan ukuran descending\n",
    "lenFitur_rawstem = perc_fitur(vec_rawstem[0])"
   ]
  },
  {
   "cell_type": "code",
   "execution_count": 50,
   "metadata": {},
   "outputs": [
    {
     "name": "stdout",
     "output_type": "stream",
     "text": [
      "SVM Testing Accuracy Score ->  70.77114427860697\n",
      "SVM Testing Accuracy Score ->  71.14427860696517\n",
      "SVM Testing Accuracy Score ->  71.26865671641791\n",
      "SVM Testing Accuracy Score ->  71.26865671641791\n",
      "SVM Testing Accuracy Score ->  70.77114427860697\n",
      "SVM Testing Accuracy Score ->  69.65174129353234\n",
      "SVM Testing Accuracy Score ->  69.77611940298507\n",
      "SVM Testing Accuracy Score ->  69.40298507462687\n",
      "SVM Testing Accuracy Score ->  67.91044776119402\n"
     ]
    }
   ],
   "source": [
    "# Accuracy for dfRawStem\n",
    "acc_ig_rawstem = []\n",
    "for i in range(len(lenFitur_rawstem)):\n",
    "    # Create subset feature based on top-n lenFitur\n",
    "    subset_feature = fitur_rawstem_sorted[:lenFitur_rawstem[i]]\n",
    "    \n",
    "    # Create feature matrix for train and test\n",
    "    features_train = scipy.sparse.csr_matrix(train_rawstem_mtx[subset_feature].values)\n",
    "    features_test = scipy.sparse.csr_matrix(test_rawstem_mtx[subset_feature].values)\n",
    "       \n",
    "    # Classifier - Algorithm - SVM\n",
    "    # fit the training dataset on the classifier\n",
    "    SVM = svm.SVC(kernel = 'linear')\n",
    "    SVM.fit(features_train, y_train_rawstem)\n",
    "\n",
    "    # Use accuracy_score function to get the accuracy\n",
    "#     print(\"SVM Training Accuracy Score -> \", SVM.score(features_train, y_train_prestem)*100)\n",
    "    print(\"SVM Testing Accuracy Score -> \", SVM.score(features_test, y_test_rawstem)*100)"
   ]
  },
  {
   "cell_type": "code",
   "execution_count": 51,
   "metadata": {},
   "outputs": [
    {
     "data": {
      "text/plain": [
       "[4225, 3755, 3286, 2816, 2347, 1878, 1408, 939, 469]"
      ]
     },
     "execution_count": 51,
     "metadata": {},
     "output_type": "execute_result"
    }
   ],
   "source": [
    "lenFitur_rawstem"
   ]
  },
  {
   "cell_type": "code",
   "execution_count": 52,
   "metadata": {},
   "outputs": [],
   "source": [
    "linear_grid = {'tfidf__max_features': [500, 1000, 5000, None],\n",
    "    'tfidf__ngram_range': [(1, 1), (1, 2), (1, 3)],\n",
    "    'clf__C': np.logspace(-1, 3, 5),\n",
    "    'clf__kernel' : ['linear']}\n",
    "    \n",
    "poly_grid = {'tfidf__max_features': [500, 1000, 5000, None],\n",
    "    'tfidf__ngram_range': [(1, 1), (1, 2), (1, 3)],\n",
    "    'clf__C': np.logspace(-1, 3, 5),\n",
    "    'clf__kernel' : ['poly'],\n",
    "    'clf__degree' : [2, 3],\n",
    "    'clf__gamma': np.logspace(-2, 2, 5)}\n",
    "\n",
    "rbf_grid = {'tfidf__max_features': [500, 1000, 5000, None],\n",
    "    'tfidf__ngram_range': [(1, 1), (1, 2), (1, 3)],\n",
    "    'clf__C': np.logspace(-1, 3, 5),\n",
    "    'clf__kernel' : ['rbf'],\n",
    "    'clf__gamma': np.logspace(-2, 2, 5)}"
   ]
  },
  {
   "cell_type": "code",
   "execution_count": 53,
   "metadata": {},
   "outputs": [],
   "source": [
    "clfRawStem = svm.SVC()\n",
    "tfidfRawStem = TfidfVectorizer()\n",
    "\n",
    "pipeRawStem = Pipeline([\n",
    "    ('tfidf', tfidfRawStem),\n",
    "    ('clf', clfRawStem)\n",
    "])"
   ]
  },
  {
   "cell_type": "code",
   "execution_count": 54,
   "metadata": {},
   "outputs": [],
   "source": [
    "clfRawStem = svm.SVC()\n",
    "tfidfRawStem = TfidfVectorizer()\n",
    "\n",
    "pipeRawStem = Pipeline([\n",
    "    ('tfidf', tfidfRawStem),\n",
    "    ('clf', clfRawStem)\n",
    "])"
   ]
  },
  {
   "cell_type": "code",
   "execution_count": 55,
   "metadata": {},
   "outputs": [
    {
     "name": "stdout",
     "output_type": "stream",
     "text": [
      "Fitting 5 folds for each of 10 candidates, totalling 50 fits\n"
     ]
    },
    {
     "name": "stderr",
     "output_type": "stream",
     "text": [
      "[Parallel(n_jobs=-1)]: Using backend LokyBackend with 8 concurrent workers.\n",
      "[Parallel(n_jobs=-1)]: Done  25 tasks      | elapsed:   24.5s\n",
      "[Parallel(n_jobs=-1)]: Done  50 out of  50 | elapsed:   37.9s finished\n"
     ]
    }
   ],
   "source": [
    "scv_linear = RandomizedSearchCV(pipeRawStem, param_distributions = linear_grid, n_iter = 10, cv = 5, verbose = 2, n_jobs = -1, return_train_score = True, random_state = 42)\n",
    "scv_linear.fit(X_train_rawstem, y_train_rawstem);"
   ]
  },
  {
   "cell_type": "code",
   "execution_count": 56,
   "metadata": {},
   "outputs": [
    {
     "name": "stdout",
     "output_type": "stream",
     "text": [
      "Fitting 5 folds for each of 10 candidates, totalling 50 fits\n"
     ]
    },
    {
     "name": "stderr",
     "output_type": "stream",
     "text": [
      "[Parallel(n_jobs=-1)]: Using backend LokyBackend with 8 concurrent workers.\n",
      "[Parallel(n_jobs=-1)]: Done  25 tasks      | elapsed:   27.3s\n",
      "[Parallel(n_jobs=-1)]: Done  50 out of  50 | elapsed:   53.1s finished\n"
     ]
    }
   ],
   "source": [
    "#using a randomized grid search to find the optimal value of the hyperparameters over a 5-fold cross-validation\n",
    "scv_poly = RandomizedSearchCV(pipeRawStem, param_distributions = poly_grid, n_iter = 10, cv = 5, verbose = 2, n_jobs = -1, return_train_score = True, random_state = 42)\n",
    "scv_poly.fit(X_train_rawstem, y_train_rawstem);"
   ]
  },
  {
   "cell_type": "code",
   "execution_count": 57,
   "metadata": {},
   "outputs": [
    {
     "name": "stdout",
     "output_type": "stream",
     "text": [
      "Fitting 5 folds for each of 10 candidates, totalling 50 fits\n"
     ]
    },
    {
     "name": "stderr",
     "output_type": "stream",
     "text": [
      "[Parallel(n_jobs=-1)]: Using backend LokyBackend with 8 concurrent workers.\n",
      "[Parallel(n_jobs=-1)]: Done  25 tasks      | elapsed:   31.8s\n",
      "[Parallel(n_jobs=-1)]: Done  50 out of  50 | elapsed:   54.3s finished\n"
     ]
    }
   ],
   "source": [
    "#using a randomized grid search to find the optimal value of the hyperparameters over a 5-fold cross-validation\n",
    "scv_rbf = RandomizedSearchCV(pipeRawStem, param_distributions = rbf_grid, n_iter = 10, cv = 5, verbose = 2, n_jobs = -1, return_train_score = True, random_state = 42)\n",
    "scv_rbf.fit(X_train_rawstem, y_train_rawstem);"
   ]
  },
  {
   "cell_type": "code",
   "execution_count": 58,
   "metadata": {},
   "outputs": [
    {
     "data": {
      "text/plain": [
       "{'tfidf__ngram_range': (1, 1),\n",
       " 'tfidf__max_features': None,\n",
       " 'clf__kernel': 'linear',\n",
       " 'clf__C': 10.0}"
      ]
     },
     "execution_count": 58,
     "metadata": {},
     "output_type": "execute_result"
    }
   ],
   "source": [
    "#preview the best parameters as found by the gridsearch\n",
    "scv_linear.best_params_"
   ]
  },
  {
   "cell_type": "code",
   "execution_count": 59,
   "metadata": {},
   "outputs": [
    {
     "data": {
      "text/plain": [
       "{'tfidf__ngram_range': (1, 3),\n",
       " 'tfidf__max_features': 5000,\n",
       " 'clf__kernel': 'poly',\n",
       " 'clf__gamma': 10.0,\n",
       " 'clf__degree': 2,\n",
       " 'clf__C': 10.0}"
      ]
     },
     "execution_count": 59,
     "metadata": {},
     "output_type": "execute_result"
    }
   ],
   "source": [
    "#preview the best parameters as found by the gridsearch\n",
    "scv_poly.best_params_"
   ]
  },
  {
   "cell_type": "code",
   "execution_count": 60,
   "metadata": {},
   "outputs": [
    {
     "data": {
      "text/plain": [
       "{'tfidf__ngram_range': (1, 3),\n",
       " 'tfidf__max_features': 5000,\n",
       " 'clf__kernel': 'rbf',\n",
       " 'clf__gamma': 1.0,\n",
       " 'clf__C': 10.0}"
      ]
     },
     "execution_count": 60,
     "metadata": {},
     "output_type": "execute_result"
    }
   ],
   "source": [
    "#preview the best parameters as found by the gridsearch\n",
    "scv_rbf.best_params_"
   ]
  },
  {
   "cell_type": "code",
   "execution_count": 61,
   "metadata": {},
   "outputs": [
    {
     "data": {
      "text/plain": [
       "[4225, 3755, 3286, 2816, 2347, 1878, 1408, 939, 469]"
      ]
     },
     "execution_count": 61,
     "metadata": {},
     "output_type": "execute_result"
    }
   ],
   "source": [
    "lenFitur_rawstem"
   ]
  },
  {
   "cell_type": "code",
   "execution_count": 62,
   "metadata": {},
   "outputs": [
    {
     "name": "stdout",
     "output_type": "stream",
     "text": [
      "SVM Testing Accuracy Score ->  69.27860696517413\n",
      "SVM Testing Accuracy Score ->  67.16417910447761\n",
      "SVM Testing Accuracy Score ->  67.16417910447761\n",
      "SVM Testing Accuracy Score ->  68.1592039800995\n",
      "SVM Testing Accuracy Score ->  68.03482587064677\n",
      "SVM Testing Accuracy Score ->  69.02985074626866\n",
      "SVM Testing Accuracy Score ->  65.29850746268657\n",
      "SVM Testing Accuracy Score ->  65.92039800995025\n",
      "SVM Testing Accuracy Score ->  69.77611940298507\n"
     ]
    }
   ],
   "source": [
    "# Accuracy for dfRawStem\n",
    "acc_ig_rawstem = []\n",
    "for i in range(len(lenFitur_rawstem)):\n",
    "    # Create subset feature based on top-n lenFitur\n",
    "    subset_feature = fitur_rawstem_sorted[:lenFitur_rawstem[i]]\n",
    "    \n",
    "    # Create feature matrix for train and test\n",
    "    features_train = scipy.sparse.csr_matrix(train_rawstem_mtx[subset_feature].values)\n",
    "    features_test = scipy.sparse.csr_matrix(test_rawstem_mtx[subset_feature].values)\n",
    "       \n",
    "    # Classifier - Algorithm - SVM\n",
    "    # fit the training dataset on the classifier\n",
    "    SVML2 = svm.SVC(kernel = 'linear', C= 10)\n",
    "    SVML2.fit(features_train, y_train_rawstem)\n",
    "\n",
    "    # Use accuracy_score function to get the accuracy\n",
    "#     print(\"SVM Training Accuracy Score -> \", SVM.score(features_train, y_train_prestem)*100)\n",
    "    print(\"SVM Testing Accuracy Score -> \", SVML2.score(features_test, y_test_rawstem)*100)"
   ]
  },
  {
   "cell_type": "code",
   "execution_count": 63,
   "metadata": {},
   "outputs": [
    {
     "name": "stdout",
     "output_type": "stream",
     "text": [
      "SVM Testing Accuracy Score ->  70.1492537313433\n",
      "SVM Testing Accuracy Score ->  67.7860696517413\n",
      "SVM Testing Accuracy Score ->  69.5273631840796\n",
      "SVM Testing Accuracy Score ->  70.39800995024875\n",
      "SVM Testing Accuracy Score ->  71.64179104477611\n",
      "SVM Testing Accuracy Score ->  70.27363184079603\n",
      "SVM Testing Accuracy Score ->  69.5273631840796\n",
      "SVM Testing Accuracy Score ->  67.41293532338308\n",
      "SVM Testing Accuracy Score ->  65.92039800995025\n"
     ]
    }
   ],
   "source": [
    "# Accuracy for dfRawStem\n",
    "acc_ig_rawstem = []\n",
    "for i in range(len(lenFitur_rawstem)):\n",
    "    # Create subset feature based on top-n lenFitur\n",
    "    subset_feature = fitur_rawstem_sorted[:lenFitur_rawstem[i]]\n",
    "    \n",
    "    # Create feature matrix for train and test\n",
    "    features_train = scipy.sparse.csr_matrix(train_rawstem_mtx[subset_feature].values)\n",
    "    features_test = scipy.sparse.csr_matrix(test_rawstem_mtx[subset_feature].values)\n",
    "       \n",
    "    # Classifier - Algorithm - SVM\n",
    "    # fit the training dataset on the classifier\n",
    "    SVMP2 = svm.SVC(kernel = 'poly', C= 10, degree = 2, gamma = 10)\n",
    "    SVMP2.fit(features_train, y_train_rawstem)\n",
    "\n",
    "    # Use accuracy_score function to get the accuracy\n",
    "#     print(\"SVM Training Accuracy Score -> \", SVM.score(features_train, y_train_prestem)*100)\n",
    "    print(\"SVM Testing Accuracy Score -> \", SVMP2.score(features_test, y_test_rawstem)*100)"
   ]
  },
  {
   "cell_type": "code",
   "execution_count": 64,
   "metadata": {},
   "outputs": [
    {
     "name": "stdout",
     "output_type": "stream",
     "text": [
      "SVM Testing Accuracy Score ->  56.59203980099502\n",
      "SVM Testing Accuracy Score ->  52.363184079601986\n",
      "SVM Testing Accuracy Score ->  55.59701492537313\n",
      "SVM Testing Accuracy Score ->  66.29353233830845\n",
      "SVM Testing Accuracy Score ->  67.53731343283582\n",
      "SVM Testing Accuracy Score ->  63.557213930348254\n",
      "SVM Testing Accuracy Score ->  66.54228855721394\n",
      "SVM Testing Accuracy Score ->  67.66169154228857\n",
      "SVM Testing Accuracy Score ->  67.16417910447761\n"
     ]
    }
   ],
   "source": [
    "# Accuracy for dfRawStem\n",
    "acc_ig_rawstem = []\n",
    "for i in range(len(lenFitur_rawstem)):\n",
    "    # Create subset feature based on top-n lenFitur\n",
    "    subset_feature = fitur_rawstem_sorted[:lenFitur_rawstem[i]]\n",
    "    \n",
    "    # Create feature matrix for train and test\n",
    "    features_train = scipy.sparse.csr_matrix(train_rawstem_mtx[subset_feature].values)\n",
    "    features_test = scipy.sparse.csr_matrix(test_rawstem_mtx[subset_feature].values)\n",
    "       \n",
    "    # Classifier - Algorithm - SVM\n",
    "    # fit the training dataset on the classifier\n",
    "    SVMR2 = svm.SVC(kernel = 'poly', C= 10, gamma = 1)\n",
    "    SVMR2.fit(features_train, y_train_rawstem)\n",
    "\n",
    "    # Use accuracy_score function to get the accuracy\n",
    "#     print(\"SVM Training Accuracy Score -> \", SVM.score(features_train, y_train_prestem)*100)\n",
    "    print(\"SVM Testing Accuracy Score -> \", SVMR2.score(features_test, y_test_rawstem)*100)"
   ]
  },
  {
   "cell_type": "code",
   "execution_count": 57,
   "metadata": {},
   "outputs": [
    {
     "data": {
      "text/plain": [
       "[4225, 3755, 3286, 2816, 2347, 1878, 1408, 939, 469]"
      ]
     },
     "execution_count": 57,
     "metadata": {},
     "output_type": "execute_result"
    }
   ],
   "source": [
    "lenFitur_rawstem"
   ]
  },
  {
   "cell_type": "code",
   "execution_count": 65,
   "metadata": {},
   "outputs": [],
   "source": [
    "Pred_YRawStem = SVMP2.predict(features_test)"
   ]
  },
  {
   "cell_type": "code",
   "execution_count": 66,
   "metadata": {},
   "outputs": [],
   "source": [
    "wrong_classified_RawStem = Pred_YRawStem != y_test_rawstem"
   ]
  },
  {
   "cell_type": "code",
   "execution_count": 67,
   "metadata": {},
   "outputs": [
    {
     "data": {
      "text/plain": [
       "array([ True, False, False,  True, False, False, False,  True,  True,\n",
       "       False, False,  True,  True,  True,  True, False, False,  True,\n",
       "        True, False,  True, False,  True, False,  True,  True, False,\n",
       "       False, False, False,  True, False, False, False,  True,  True,\n",
       "       False,  True, False, False,  True, False, False, False, False,\n",
       "        True, False, False, False, False, False, False,  True,  True,\n",
       "       False,  True, False, False, False,  True,  True, False,  True,\n",
       "       False, False, False, False, False,  True,  True, False, False,\n",
       "        True, False, False, False,  True, False,  True, False,  True,\n",
       "       False, False, False, False,  True, False,  True,  True, False,\n",
       "       False,  True, False, False, False,  True, False, False, False,\n",
       "        True, False, False,  True, False, False,  True, False,  True,\n",
       "       False, False, False, False, False, False,  True,  True,  True,\n",
       "       False, False,  True, False, False,  True, False, False,  True,\n",
       "       False, False, False, False,  True,  True,  True,  True,  True,\n",
       "        True,  True, False, False, False, False,  True,  True, False,\n",
       "        True,  True, False, False,  True,  True, False,  True, False,\n",
       "        True, False, False, False, False,  True, False,  True, False,\n",
       "        True,  True, False,  True, False,  True,  True, False, False,\n",
       "        True, False, False, False, False, False, False, False, False,\n",
       "       False, False, False, False, False, False, False, False, False,\n",
       "       False, False, False, False, False, False, False, False, False,\n",
       "       False, False,  True,  True, False, False, False, False,  True,\n",
       "       False,  True,  True, False, False, False, False, False,  True,\n",
       "       False, False, False,  True, False, False,  True, False, False,\n",
       "        True, False,  True, False,  True, False,  True,  True, False,\n",
       "       False,  True,  True,  True, False, False, False, False,  True,\n",
       "        True,  True, False, False, False,  True,  True, False,  True,\n",
       "        True,  True, False, False, False, False,  True,  True, False,\n",
       "       False, False, False, False, False,  True, False,  True, False,\n",
       "        True,  True, False, False, False, False,  True,  True,  True,\n",
       "       False,  True,  True, False, False, False, False, False, False,\n",
       "        True,  True, False,  True, False, False, False,  True,  True,\n",
       "        True,  True,  True, False, False, False, False, False, False,\n",
       "       False, False,  True,  True, False,  True, False,  True, False,\n",
       "        True, False, False, False, False,  True,  True,  True, False,\n",
       "       False,  True,  True, False,  True, False, False,  True, False,\n",
       "       False, False, False,  True,  True,  True, False, False, False,\n",
       "       False, False,  True,  True, False, False, False,  True,  True,\n",
       "       False, False, False, False,  True,  True, False, False, False,\n",
       "       False,  True, False,  True, False, False, False,  True, False,\n",
       "       False, False, False,  True, False, False,  True,  True, False,\n",
       "       False,  True, False, False, False,  True, False,  True,  True,\n",
       "        True, False,  True, False, False,  True, False, False, False,\n",
       "       False,  True,  True, False,  True, False, False, False, False,\n",
       "        True,  True, False, False, False, False, False, False,  True,\n",
       "       False, False, False, False,  True, False, False, False, False,\n",
       "       False, False, False,  True, False, False, False,  True, False,\n",
       "       False, False, False, False,  True, False, False, False, False,\n",
       "       False,  True, False, False, False, False, False, False,  True,\n",
       "       False, False,  True, False, False, False, False,  True, False,\n",
       "        True, False, False,  True, False, False, False,  True, False,\n",
       "       False, False, False,  True, False, False, False, False, False,\n",
       "        True,  True, False, False, False, False, False, False, False,\n",
       "       False, False,  True, False, False,  True,  True, False, False,\n",
       "       False,  True, False, False,  True, False,  True,  True,  True,\n",
       "        True, False,  True, False, False, False, False, False,  True,\n",
       "       False,  True, False,  True, False,  True, False, False,  True,\n",
       "        True, False, False, False,  True, False, False, False,  True,\n",
       "       False, False, False, False,  True, False, False, False, False,\n",
       "       False, False, False, False, False, False, False,  True, False,\n",
       "       False, False, False,  True, False,  True, False, False, False,\n",
       "       False,  True,  True, False, False, False, False, False,  True,\n",
       "       False,  True, False,  True, False, False,  True,  True,  True,\n",
       "       False, False,  True,  True, False, False,  True, False, False,\n",
       "       False, False,  True, False,  True, False,  True, False,  True,\n",
       "       False, False,  True, False, False, False, False,  True, False,\n",
       "       False, False,  True, False, False,  True, False, False, False,\n",
       "        True, False, False, False, False, False, False, False, False,\n",
       "        True,  True, False, False, False, False, False,  True,  True,\n",
       "        True,  True, False, False, False,  True,  True, False,  True,\n",
       "       False, False, False, False,  True, False, False, False,  True,\n",
       "       False, False, False, False, False, False,  True, False,  True,\n",
       "       False, False, False, False,  True, False, False, False,  True,\n",
       "       False, False, False,  True, False,  True, False, False, False,\n",
       "        True, False, False, False,  True,  True, False, False, False,\n",
       "       False, False,  True, False, False,  True, False, False, False,\n",
       "        True, False,  True,  True,  True, False, False, False,  True,\n",
       "        True,  True, False, False,  True, False,  True, False, False,\n",
       "       False, False,  True, False,  True,  True, False, False, False,\n",
       "       False,  True, False, False, False, False,  True,  True,  True,\n",
       "       False,  True, False, False, False, False, False, False, False,\n",
       "        True,  True,  True, False, False, False, False, False, False,\n",
       "       False, False, False, False, False, False, False, False, False,\n",
       "        True, False,  True,  True, False, False,  True,  True, False,\n",
       "       False, False,  True, False, False,  True,  True,  True,  True,\n",
       "       False,  True,  True,  True, False, False, False, False, False,\n",
       "        True, False, False, False, False,  True,  True, False,  True,\n",
       "        True,  True, False,  True,  True, False, False, False,  True,\n",
       "        True, False, False])"
      ]
     },
     "execution_count": 67,
     "metadata": {},
     "output_type": "execute_result"
    }
   ],
   "source": [
    "wrong_classified_RawStem"
   ]
  },
  {
   "cell_type": "code",
   "execution_count": 68,
   "metadata": {},
   "outputs": [],
   "source": [
    "wrong_data_RawStem = dfTest_RawStem[wrong_classified_RawStem == True]\n",
    "wrong_labels_RawStem = Pred_YRawStem[wrong_classified_RawStem == True]"
   ]
  },
  {
   "cell_type": "code",
   "execution_count": 69,
   "metadata": {},
   "outputs": [
    {
     "data": {
      "text/html": [
       "<div>\n",
       "<style scoped>\n",
       "    .dataframe tbody tr th:only-of-type {\n",
       "        vertical-align: middle;\n",
       "    }\n",
       "\n",
       "    .dataframe tbody tr th {\n",
       "        vertical-align: top;\n",
       "    }\n",
       "\n",
       "    .dataframe thead th {\n",
       "        text-align: right;\n",
       "    }\n",
       "</style>\n",
       "<table border=\"1\" class=\"dataframe\">\n",
       "  <thead>\n",
       "    <tr style=\"text-align: right;\">\n",
       "      <th></th>\n",
       "      <th>tweet</th>\n",
       "      <th>label</th>\n",
       "    </tr>\n",
       "  </thead>\n",
       "  <tbody>\n",
       "    <tr>\n",
       "      <td>3</td>\n",
       "      <td>lagi pula pindah ibu kota ke kaltim kes jadi p...</td>\n",
       "      <td>-1</td>\n",
       "    </tr>\n",
       "    <tr>\n",
       "      <td>7</td>\n",
       "      <td>pindah ibu kota ke kalimantan timur bagaimana ...</td>\n",
       "      <td>0</td>\n",
       "    </tr>\n",
       "    <tr>\n",
       "      <td>11</td>\n",
       "      <td>tanya sederhana adalah jk anda turut komentar ...</td>\n",
       "      <td>0</td>\n",
       "    </tr>\n",
       "    <tr>\n",
       "      <td>14</td>\n",
       "      <td>bapak tdk tolak tp bapak cuma jelas kakurangan...</td>\n",
       "      <td>0</td>\n",
       "    </tr>\n",
       "    <tr>\n",
       "      <td>20</td>\n",
       "      <td>pindah ibu kota baik lalu undang</td>\n",
       "      <td>-1</td>\n",
       "    </tr>\n",
       "    <tr>\n",
       "      <td>...</td>\n",
       "      <td>...</td>\n",
       "      <td>...</td>\n",
       "    </tr>\n",
       "    <tr>\n",
       "      <td>788</td>\n",
       "      <td>mendagri soal wacana pindah ibu kota jabar sia...</td>\n",
       "      <td>0</td>\n",
       "    </tr>\n",
       "    <tr>\n",
       "      <td>789</td>\n",
       "      <td>amein rais minta jokowi batal pindah ibu kota ...</td>\n",
       "      <td>-1</td>\n",
       "    </tr>\n",
       "    <tr>\n",
       "      <td>791</td>\n",
       "      <td>pindah ibu kota ke kaltim akan turun aktivitas...</td>\n",
       "      <td>-1</td>\n",
       "    </tr>\n",
       "    <tr>\n",
       "      <td>793</td>\n",
       "      <td>amien rais perintah tunggu kaji tiongkok soal ...</td>\n",
       "      <td>-1</td>\n",
       "    </tr>\n",
       "    <tr>\n",
       "      <td>795</td>\n",
       "      <td>survei median mayoritas tolak ibu kota pindah ...</td>\n",
       "      <td>-1</td>\n",
       "    </tr>\n",
       "  </tbody>\n",
       "</table>\n",
       "<p>110 rows × 2 columns</p>\n",
       "</div>"
      ],
      "text/plain": [
       "                                                 tweet  label\n",
       "3    lagi pula pindah ibu kota ke kaltim kes jadi p...     -1\n",
       "7    pindah ibu kota ke kalimantan timur bagaimana ...      0\n",
       "11   tanya sederhana adalah jk anda turut komentar ...      0\n",
       "14   bapak tdk tolak tp bapak cuma jelas kakurangan...      0\n",
       "20                   pindah ibu kota baik lalu undang      -1\n",
       "..                                                 ...    ...\n",
       "788  mendagri soal wacana pindah ibu kota jabar sia...      0\n",
       "789  amein rais minta jokowi batal pindah ibu kota ...     -1\n",
       "791  pindah ibu kota ke kaltim akan turun aktivitas...     -1\n",
       "793  amien rais perintah tunggu kaji tiongkok soal ...     -1\n",
       "795  survei median mayoritas tolak ibu kota pindah ...     -1\n",
       "\n",
       "[110 rows x 2 columns]"
      ]
     },
     "execution_count": 69,
     "metadata": {},
     "output_type": "execute_result"
    }
   ],
   "source": [
    "false_pronet_RawStem = wrong_data_RawStem[wrong_labels_RawStem == 1]\n",
    "false_pronet_RawStem"
   ]
  },
  {
   "cell_type": "code",
   "execution_count": 70,
   "metadata": {},
   "outputs": [
    {
     "data": {
      "text/html": [
       "<div>\n",
       "<style scoped>\n",
       "    .dataframe tbody tr th:only-of-type {\n",
       "        vertical-align: middle;\n",
       "    }\n",
       "\n",
       "    .dataframe tbody tr th {\n",
       "        vertical-align: top;\n",
       "    }\n",
       "\n",
       "    .dataframe thead th {\n",
       "        text-align: right;\n",
       "    }\n",
       "</style>\n",
       "<table border=\"1\" class=\"dataframe\">\n",
       "  <thead>\n",
       "    <tr style=\"text-align: right;\">\n",
       "      <th></th>\n",
       "      <th>tweet</th>\n",
       "      <th>label</th>\n",
       "    </tr>\n",
       "  </thead>\n",
       "  <tbody>\n",
       "    <tr>\n",
       "      <td>12</td>\n",
       "      <td>abis ngumumin pindah ibu kota negara biasa jaw...</td>\n",
       "      <td>-1</td>\n",
       "    </tr>\n",
       "    <tr>\n",
       "      <td>18</td>\n",
       "      <td>proses pindah makan biaya 466 t bagi tanggung ...</td>\n",
       "      <td>-1</td>\n",
       "    </tr>\n",
       "    <tr>\n",
       "      <td>24</td>\n",
       "      <td>timbang untuk tambah utang gitu maksud dan nik...</td>\n",
       "      <td>-1</td>\n",
       "    </tr>\n",
       "    <tr>\n",
       "      <td>35</td>\n",
       "      <td>pak dar tanya yah apakah ada yang jamin kalo p...</td>\n",
       "      <td>-1</td>\n",
       "    </tr>\n",
       "    <tr>\n",
       "      <td>53</td>\n",
       "      <td>masyarakat gunung mas minta hormat putus pinda...</td>\n",
       "      <td>1</td>\n",
       "    </tr>\n",
       "    <tr>\n",
       "      <td>...</td>\n",
       "      <td>...</td>\n",
       "      <td>...</td>\n",
       "    </tr>\n",
       "    <tr>\n",
       "      <td>756</td>\n",
       "      <td>pindah ibu kota pasti butuh dana dong pak dana...</td>\n",
       "      <td>-1</td>\n",
       "    </tr>\n",
       "    <tr>\n",
       "      <td>758</td>\n",
       "      <td>fadli zon pindah ibu kota kes dadak dan gesa  ...</td>\n",
       "      <td>-1</td>\n",
       "    </tr>\n",
       "    <tr>\n",
       "      <td>759</td>\n",
       "      <td>cara geopolitik pindah ibu kota negara sangat ...</td>\n",
       "      <td>-1</td>\n",
       "    </tr>\n",
       "    <tr>\n",
       "      <td>771</td>\n",
       "      <td>fadli zon yakin pindah ibu kota di tahun 2024 ...</td>\n",
       "      <td>-1</td>\n",
       "    </tr>\n",
       "    <tr>\n",
       "      <td>792</td>\n",
       "      <td>fadli zon saran dana pindah ibu kota pakai unt...</td>\n",
       "      <td>-1</td>\n",
       "    </tr>\n",
       "  </tbody>\n",
       "</table>\n",
       "<p>86 rows × 2 columns</p>\n",
       "</div>"
      ],
      "text/plain": [
       "                                                 tweet  label\n",
       "12   abis ngumumin pindah ibu kota negara biasa jaw...     -1\n",
       "18   proses pindah makan biaya 466 t bagi tanggung ...     -1\n",
       "24   timbang untuk tambah utang gitu maksud dan nik...     -1\n",
       "35   pak dar tanya yah apakah ada yang jamin kalo p...     -1\n",
       "53   masyarakat gunung mas minta hormat putus pinda...      1\n",
       "..                                                 ...    ...\n",
       "756  pindah ibu kota pasti butuh dana dong pak dana...     -1\n",
       "758  fadli zon pindah ibu kota kes dadak dan gesa  ...     -1\n",
       "759  cara geopolitik pindah ibu kota negara sangat ...     -1\n",
       "771  fadli zon yakin pindah ibu kota di tahun 2024 ...     -1\n",
       "792  fadli zon saran dana pindah ibu kota pakai unt...     -1\n",
       "\n",
       "[86 rows x 2 columns]"
      ]
     },
     "execution_count": 70,
     "metadata": {},
     "output_type": "execute_result"
    }
   ],
   "source": [
    "false_procon_RawStem = wrong_data_RawStem[wrong_labels_RawStem == 0]\n",
    "false_procon_RawStem"
   ]
  },
  {
   "cell_type": "code",
   "execution_count": 71,
   "metadata": {},
   "outputs": [
    {
     "data": {
      "text/html": [
       "<div>\n",
       "<style scoped>\n",
       "    .dataframe tbody tr th:only-of-type {\n",
       "        vertical-align: middle;\n",
       "    }\n",
       "\n",
       "    .dataframe tbody tr th {\n",
       "        vertical-align: top;\n",
       "    }\n",
       "\n",
       "    .dataframe thead th {\n",
       "        text-align: right;\n",
       "    }\n",
       "</style>\n",
       "<table border=\"1\" class=\"dataframe\">\n",
       "  <thead>\n",
       "    <tr style=\"text-align: right;\">\n",
       "      <th></th>\n",
       "      <th>tweet</th>\n",
       "      <th>label</th>\n",
       "    </tr>\n",
       "  </thead>\n",
       "  <tbody>\n",
       "    <tr>\n",
       "      <td>0</td>\n",
       "      <td>aspek historis calon ibu kota negara kuta kart...</td>\n",
       "      <td>0</td>\n",
       "    </tr>\n",
       "    <tr>\n",
       "      <td>8</td>\n",
       "      <td>ada beberapa aspek yang kaji dalam pindah ibu ...</td>\n",
       "      <td>0</td>\n",
       "    </tr>\n",
       "    <tr>\n",
       "      <td>13</td>\n",
       "      <td>kakak dapid td lg meeting pindah ibu kota kata</td>\n",
       "      <td>0</td>\n",
       "    </tr>\n",
       "    <tr>\n",
       "      <td>17</td>\n",
       "      <td>pindah ibu kota trending di twitter lihat kome...</td>\n",
       "      <td>0</td>\n",
       "    </tr>\n",
       "    <tr>\n",
       "      <td>22</td>\n",
       "      <td>masih ngebayangin gmna proses pindah ibu kota ...</td>\n",
       "      <td>0</td>\n",
       "    </tr>\n",
       "    <tr>\n",
       "      <td>...</td>\n",
       "      <td>...</td>\n",
       "      <td>...</td>\n",
       "    </tr>\n",
       "    <tr>\n",
       "      <td>770</td>\n",
       "      <td>pindah ibu kota ini tidak serta merta langsung...</td>\n",
       "      <td>0</td>\n",
       "    </tr>\n",
       "    <tr>\n",
       "      <td>773</td>\n",
       "      <td>bukankah pindah ibu kota adalah cita2 bung kar...</td>\n",
       "      <td>1</td>\n",
       "    </tr>\n",
       "    <tr>\n",
       "      <td>796</td>\n",
       "      <td>pindah ibu kota amien rais caper pdiperjuangan</td>\n",
       "      <td>0</td>\n",
       "    </tr>\n",
       "    <tr>\n",
       "      <td>800</td>\n",
       "      <td>pindah ibu kota dengan skema investasi dari ju...</td>\n",
       "      <td>1</td>\n",
       "    </tr>\n",
       "    <tr>\n",
       "      <td>801</td>\n",
       "      <td>moga hal rupa juga laku saat proses pindah ibu...</td>\n",
       "      <td>1</td>\n",
       "    </tr>\n",
       "  </tbody>\n",
       "</table>\n",
       "<p>78 rows × 2 columns</p>\n",
       "</div>"
      ],
      "text/plain": [
       "                                                 tweet  label\n",
       "0    aspek historis calon ibu kota negara kuta kart...      0\n",
       "8    ada beberapa aspek yang kaji dalam pindah ibu ...      0\n",
       "13      kakak dapid td lg meeting pindah ibu kota kata      0\n",
       "17   pindah ibu kota trending di twitter lihat kome...      0\n",
       "22   masih ngebayangin gmna proses pindah ibu kota ...      0\n",
       "..                                                 ...    ...\n",
       "770  pindah ibu kota ini tidak serta merta langsung...      0\n",
       "773  bukankah pindah ibu kota adalah cita2 bung kar...      1\n",
       "796    pindah ibu kota amien rais caper pdiperjuangan       0\n",
       "800  pindah ibu kota dengan skema investasi dari ju...      1\n",
       "801  moga hal rupa juga laku saat proses pindah ibu...      1\n",
       "\n",
       "[78 rows x 2 columns]"
      ]
     },
     "execution_count": 71,
     "metadata": {},
     "output_type": "execute_result"
    }
   ],
   "source": [
    "false_netcon_RawStem = wrong_data_RawStem[wrong_labels_RawStem == -1]\n",
    "false_netcon_RawStem"
   ]
  },
  {
   "cell_type": "markdown",
   "metadata": {},
   "source": [
    "# Raw"
   ]
  },
  {
   "cell_type": "code",
   "execution_count": 72,
   "metadata": {},
   "outputs": [],
   "source": [
    "dfTrain_Raw = pd.read_csv('dfTrain_Raw.csv')\n",
    "dfTest_Raw = pd.read_csv('dfTest_Raw.csv')\n",
    "\n",
    "fitur_raw = pd.read_csv('ig_raw.csv')"
   ]
  },
  {
   "cell_type": "code",
   "execution_count": 73,
   "metadata": {},
   "outputs": [
    {
     "data": {
      "text/html": [
       "<div>\n",
       "<style scoped>\n",
       "    .dataframe tbody tr th:only-of-type {\n",
       "        vertical-align: middle;\n",
       "    }\n",
       "\n",
       "    .dataframe tbody tr th {\n",
       "        vertical-align: top;\n",
       "    }\n",
       "\n",
       "    .dataframe thead th {\n",
       "        text-align: right;\n",
       "    }\n",
       "</style>\n",
       "<table border=\"1\" class=\"dataframe\">\n",
       "  <thead>\n",
       "    <tr style=\"text-align: right;\">\n",
       "      <th></th>\n",
       "      <th>Unnamed: 0</th>\n",
       "      <th>feature</th>\n",
       "      <th>tfidf</th>\n",
       "      <th>ig_value</th>\n",
       "    </tr>\n",
       "  </thead>\n",
       "  <tbody>\n",
       "    <tr>\n",
       "      <td>5864</td>\n",
       "      <td>5864</td>\n",
       "      <td>NaN</td>\n",
       "      <td>0.0</td>\n",
       "      <td>0.001751</td>\n",
       "    </tr>\n",
       "  </tbody>\n",
       "</table>\n",
       "</div>"
      ],
      "text/plain": [
       "      Unnamed: 0 feature  tfidf  ig_value\n",
       "5864        5864     NaN    0.0  0.001751"
      ]
     },
     "execution_count": 73,
     "metadata": {},
     "output_type": "execute_result"
    }
   ],
   "source": [
    "fitur_raw[fitur_raw['feature'].isnull() == True]"
   ]
  },
  {
   "cell_type": "code",
   "execution_count": 74,
   "metadata": {},
   "outputs": [
    {
     "data": {
      "text/html": [
       "<div>\n",
       "<style scoped>\n",
       "    .dataframe tbody tr th:only-of-type {\n",
       "        vertical-align: middle;\n",
       "    }\n",
       "\n",
       "    .dataframe tbody tr th {\n",
       "        vertical-align: top;\n",
       "    }\n",
       "\n",
       "    .dataframe thead th {\n",
       "        text-align: right;\n",
       "    }\n",
       "</style>\n",
       "<table border=\"1\" class=\"dataframe\">\n",
       "  <thead>\n",
       "    <tr style=\"text-align: right;\">\n",
       "      <th></th>\n",
       "      <th>feature</th>\n",
       "      <th>tfidf</th>\n",
       "      <th>ig_value</th>\n",
       "    </tr>\n",
       "  </thead>\n",
       "  <tbody>\n",
       "    <tr>\n",
       "      <td>0</td>\n",
       "      <td>00</td>\n",
       "      <td>0.0</td>\n",
       "      <td>0.006409</td>\n",
       "    </tr>\n",
       "    <tr>\n",
       "      <td>1</td>\n",
       "      <td>000</td>\n",
       "      <td>0.0</td>\n",
       "      <td>0.001569</td>\n",
       "    </tr>\n",
       "    <tr>\n",
       "      <td>2</td>\n",
       "      <td>03</td>\n",
       "      <td>0.0</td>\n",
       "      <td>0.000784</td>\n",
       "    </tr>\n",
       "    <tr>\n",
       "      <td>3</td>\n",
       "      <td>03PersatuanIndonesia</td>\n",
       "      <td>0.0</td>\n",
       "      <td>0.001582</td>\n",
       "    </tr>\n",
       "    <tr>\n",
       "      <td>4</td>\n",
       "      <td>05</td>\n",
       "      <td>0.0</td>\n",
       "      <td>0.002718</td>\n",
       "    </tr>\n",
       "    <tr>\n",
       "      <td>...</td>\n",
       "      <td>...</td>\n",
       "      <td>...</td>\n",
       "      <td>...</td>\n",
       "    </tr>\n",
       "    <tr>\n",
       "      <td>7559</td>\n",
       "      <td>zul</td>\n",
       "      <td>0.0</td>\n",
       "      <td>0.002366</td>\n",
       "    </tr>\n",
       "    <tr>\n",
       "      <td>7560</td>\n",
       "      <td>اطلبوا</td>\n",
       "      <td>0.0</td>\n",
       "      <td>0.000784</td>\n",
       "    </tr>\n",
       "    <tr>\n",
       "      <td>7561</td>\n",
       "      <td>العلم</td>\n",
       "      <td>0.0</td>\n",
       "      <td>0.000784</td>\n",
       "    </tr>\n",
       "    <tr>\n",
       "      <td>7562</td>\n",
       "      <td>بالصين</td>\n",
       "      <td>0.0</td>\n",
       "      <td>0.000784</td>\n",
       "    </tr>\n",
       "    <tr>\n",
       "      <td>7563</td>\n",
       "      <td>ولو</td>\n",
       "      <td>0.0</td>\n",
       "      <td>0.000784</td>\n",
       "    </tr>\n",
       "  </tbody>\n",
       "</table>\n",
       "<p>7564 rows × 3 columns</p>\n",
       "</div>"
      ],
      "text/plain": [
       "                   feature  tfidf  ig_value\n",
       "0                       00    0.0  0.006409\n",
       "1                      000    0.0  0.001569\n",
       "2                       03    0.0  0.000784\n",
       "3     03PersatuanIndonesia    0.0  0.001582\n",
       "4                       05    0.0  0.002718\n",
       "...                    ...    ...       ...\n",
       "7559                   zul    0.0  0.002366\n",
       "7560                اطلبوا    0.0  0.000784\n",
       "7561                 العلم    0.0  0.000784\n",
       "7562                بالصين    0.0  0.000784\n",
       "7563                   ولو    0.0  0.000784\n",
       "\n",
       "[7564 rows x 3 columns]"
      ]
     },
     "execution_count": 74,
     "metadata": {},
     "output_type": "execute_result"
    }
   ],
   "source": [
    "fitur_raw = fitur_raw.drop(columns=['Unnamed: 0'])\n",
    "fitur_raw"
   ]
  },
  {
   "cell_type": "code",
   "execution_count": 75,
   "metadata": {},
   "outputs": [
    {
     "data": {
      "text/html": [
       "<div>\n",
       "<style scoped>\n",
       "    .dataframe tbody tr th:only-of-type {\n",
       "        vertical-align: middle;\n",
       "    }\n",
       "\n",
       "    .dataframe tbody tr th {\n",
       "        vertical-align: top;\n",
       "    }\n",
       "\n",
       "    .dataframe thead th {\n",
       "        text-align: right;\n",
       "    }\n",
       "</style>\n",
       "<table border=\"1\" class=\"dataframe\">\n",
       "  <thead>\n",
       "    <tr style=\"text-align: right;\">\n",
       "      <th></th>\n",
       "      <th>feature</th>\n",
       "      <th>tfidf</th>\n",
       "      <th>ig_value</th>\n",
       "    </tr>\n",
       "  </thead>\n",
       "  <tbody>\n",
       "    <tr>\n",
       "      <td>0</td>\n",
       "      <td>00</td>\n",
       "      <td>0.0</td>\n",
       "      <td>0.006409</td>\n",
       "    </tr>\n",
       "    <tr>\n",
       "      <td>1</td>\n",
       "      <td>000</td>\n",
       "      <td>0.0</td>\n",
       "      <td>0.001569</td>\n",
       "    </tr>\n",
       "    <tr>\n",
       "      <td>2</td>\n",
       "      <td>03</td>\n",
       "      <td>0.0</td>\n",
       "      <td>0.000784</td>\n",
       "    </tr>\n",
       "    <tr>\n",
       "      <td>3</td>\n",
       "      <td>03PersatuanIndonesia</td>\n",
       "      <td>0.0</td>\n",
       "      <td>0.001582</td>\n",
       "    </tr>\n",
       "    <tr>\n",
       "      <td>4</td>\n",
       "      <td>05</td>\n",
       "      <td>0.0</td>\n",
       "      <td>0.002718</td>\n",
       "    </tr>\n",
       "    <tr>\n",
       "      <td>...</td>\n",
       "      <td>...</td>\n",
       "      <td>...</td>\n",
       "      <td>...</td>\n",
       "    </tr>\n",
       "    <tr>\n",
       "      <td>7559</td>\n",
       "      <td>zul</td>\n",
       "      <td>0.0</td>\n",
       "      <td>0.002366</td>\n",
       "    </tr>\n",
       "    <tr>\n",
       "      <td>7560</td>\n",
       "      <td>اطلبوا</td>\n",
       "      <td>0.0</td>\n",
       "      <td>0.000784</td>\n",
       "    </tr>\n",
       "    <tr>\n",
       "      <td>7561</td>\n",
       "      <td>العلم</td>\n",
       "      <td>0.0</td>\n",
       "      <td>0.000784</td>\n",
       "    </tr>\n",
       "    <tr>\n",
       "      <td>7562</td>\n",
       "      <td>بالصين</td>\n",
       "      <td>0.0</td>\n",
       "      <td>0.000784</td>\n",
       "    </tr>\n",
       "    <tr>\n",
       "      <td>7563</td>\n",
       "      <td>ولو</td>\n",
       "      <td>0.0</td>\n",
       "      <td>0.000784</td>\n",
       "    </tr>\n",
       "  </tbody>\n",
       "</table>\n",
       "<p>7563 rows × 3 columns</p>\n",
       "</div>"
      ],
      "text/plain": [
       "                   feature  tfidf  ig_value\n",
       "0                       00    0.0  0.006409\n",
       "1                      000    0.0  0.001569\n",
       "2                       03    0.0  0.000784\n",
       "3     03PersatuanIndonesia    0.0  0.001582\n",
       "4                       05    0.0  0.002718\n",
       "...                    ...    ...       ...\n",
       "7559                   zul    0.0  0.002366\n",
       "7560                اطلبوا    0.0  0.000784\n",
       "7561                 العلم    0.0  0.000784\n",
       "7562                بالصين    0.0  0.000784\n",
       "7563                   ولو    0.0  0.000784\n",
       "\n",
       "[7563 rows x 3 columns]"
      ]
     },
     "execution_count": 75,
     "metadata": {},
     "output_type": "execute_result"
    }
   ],
   "source": [
    "fitur_raw = fitur_raw.dropna()\n",
    "fitur_raw"
   ]
  },
  {
   "cell_type": "code",
   "execution_count": 76,
   "metadata": {},
   "outputs": [],
   "source": [
    "X_train_raw = dfTrain_Raw['tweet'].values\n",
    "y_train_raw = dfTrain_Raw['label'].values\n",
    "\n",
    "X_test_raw = dfTest_Raw['tweet'].values\n",
    "y_test_raw = dfTest_Raw['label'].values"
   ]
  },
  {
   "cell_type": "code",
   "execution_count": 77,
   "metadata": {},
   "outputs": [],
   "source": [
    "# Get feature train and test for dfRaw\n",
    "tfidf_vectorizer = TfidfVectorizer(max_df=1.0, min_df=1, lowercase = False, stop_words=None)\n",
    "\n",
    "# Fit transform to data train\n",
    "tfidf_train_raw = tfidf_vectorizer.fit_transform(X_train_raw)\n",
    "tfidf_test_raw = tfidf_vectorizer.transform(X_test_raw)\n",
    "\n",
    "# Get feature matrix for dfTrain_Raw\n",
    "fitur_train_raw = tfidf_train_raw.toarray()\n",
    "fitur_tr3 = tfidf_vectorizer.get_feature_names()\n",
    "train_raw_mtx = pd.DataFrame(data=fitur_train_raw,columns=fitur_tr3)\n",
    "\n",
    "# Get feature matrix for dfTest_Raw\n",
    "fitur_test_raw = tfidf_test_raw.toarray()\n",
    "fitur_te3 = tfidf_vectorizer.get_feature_names()\n",
    "test_raw_mtx = pd.DataFrame(data=fitur_test_raw,columns=fitur_te3)"
   ]
  },
  {
   "cell_type": "code",
   "execution_count": 78,
   "metadata": {},
   "outputs": [],
   "source": [
    "train_raw_mtx['label_value'] = y_train_raw"
   ]
  },
  {
   "cell_type": "code",
   "execution_count": 79,
   "metadata": {},
   "outputs": [],
   "source": [
    "# Sort each fitur dataframe based on ig_value\n",
    "fitur_raw_sorted = fitur_raw.sort_values(by='ig_value', ascending=False)\n",
    "fitur_raw_sorted = list(fitur_raw_sorted.feature)"
   ]
  },
  {
   "cell_type": "code",
   "execution_count": 80,
   "metadata": {},
   "outputs": [],
   "source": [
    "# Fungsi mengambil banyak top-k fitur yang harus diambil\n",
    "\n",
    "def perc_fitur(train_vector):\n",
    "    panjang = train_vector.shape[1]\n",
    "    lenFitur = []\n",
    "    for i in range (1,10):\n",
    "      lenFitur.append(round((i/10)*panjang))\n",
    "    lenFitur.reverse()\n",
    "    \n",
    "    return lenFitur\n",
    "\n",
    "def generate_vec(train_data, test_data):\n",
    "    X_train = train_data['tweet'].values\n",
    "    y_train = train_data['label'].values\n",
    "\n",
    "    X_test = test_data['tweet'].values\n",
    "    y_test = test_data['label'].values\n",
    "    \n",
    "    tfidf_vectorizer = TfidfVectorizer(max_df=1.0, min_df=1, lowercase = False, stop_words=None)\n",
    "\n",
    "    # Fit transform to data train\n",
    "    tfidf_train = tfidf_vectorizer.fit_transform(X_train)\n",
    "    tfidf_test = tfidf_vectorizer.transform(X_test)\n",
    "    \n",
    "    return [tfidf_train, tfidf_test]"
   ]
  },
  {
   "cell_type": "code",
   "execution_count": 81,
   "metadata": {},
   "outputs": [],
   "source": [
    "# Generate feature vector for each dataset\n",
    "vec_raw = generate_vec(dfTrain_Raw, dfTest_Raw)"
   ]
  },
  {
   "cell_type": "code",
   "execution_count": 82,
   "metadata": {},
   "outputs": [],
   "source": [
    "# Ambil top-fitur setiap dataset dengan ukuran descending\n",
    "lenFitur_raw = perc_fitur(vec_raw[0])"
   ]
  },
  {
   "cell_type": "code",
   "execution_count": 83,
   "metadata": {},
   "outputs": [
    {
     "name": "stdout",
     "output_type": "stream",
     "text": [
      "SVM Testing Accuracy Score ->  68.65671641791045\n",
      "SVM Testing Accuracy Score ->  68.65671641791045\n",
      "SVM Testing Accuracy Score ->  68.53233830845771\n",
      "SVM Testing Accuracy Score ->  67.7860696517413\n",
      "SVM Testing Accuracy Score ->  67.66169154228857\n",
      "SVM Testing Accuracy Score ->  66.54228855721394\n",
      "SVM Testing Accuracy Score ->  65.4228855721393\n",
      "SVM Testing Accuracy Score ->  64.80099502487562\n",
      "SVM Testing Accuracy Score ->  62.68656716417911\n"
     ]
    }
   ],
   "source": [
    "# Accuracy for dfRawStem\n",
    "acc_ig_raw = []\n",
    "for i in range(len(lenFitur_raw)):\n",
    "    # Create subset feature based on top-n lenFitur\n",
    "    subset_feature = fitur_raw_sorted[:lenFitur_raw[i]]\n",
    "    \n",
    "    # Create feature matrix for train and test\n",
    "    features_train = scipy.sparse.csr_matrix(train_raw_mtx[subset_feature].values)\n",
    "    features_test = scipy.sparse.csr_matrix(test_raw_mtx[subset_feature].values)\n",
    "       \n",
    "    # Classifier - Algorithm - SVM\n",
    "    # fit the training dataset on the classifier\n",
    "    SVM = svm.SVC(kernel = 'linear')\n",
    "    SVM.fit(features_train, y_train_raw)\n",
    "\n",
    "    # Use accuracy_score function to get the accuracy\n",
    "#     print(\"SVM Training Accuracy Score -> \", SVM.score(features_train, y_train_prestem)*100)\n",
    "    print(\"SVM Testing Accuracy Score -> \", SVM.score(features_test, y_test_raw)*100)"
   ]
  },
  {
   "cell_type": "code",
   "execution_count": 84,
   "metadata": {},
   "outputs": [
    {
     "data": {
      "text/plain": [
       "[6808, 6051, 5295, 4538, 3782, 3026, 2269, 1513, 756]"
      ]
     },
     "execution_count": 84,
     "metadata": {},
     "output_type": "execute_result"
    }
   ],
   "source": [
    "lenFitur_raw"
   ]
  },
  {
   "cell_type": "code",
   "execution_count": 85,
   "metadata": {},
   "outputs": [],
   "source": [
    "linear_grid = {'tfidf__max_features': [500, 1000, 5000, None],\n",
    "    'tfidf__ngram_range': [(1, 1), (1, 2), (1, 3)],\n",
    "    'clf__C': np.logspace(-1, 3, 5),\n",
    "    'clf__kernel' : ['linear']}\n",
    "    \n",
    "poly_grid = {'tfidf__max_features': [500, 1000, 5000, None],\n",
    "    'tfidf__ngram_range': [(1, 1), (1, 2), (1, 3)],\n",
    "    'clf__C': np.logspace(-1, 3, 5),\n",
    "    'clf__kernel' : ['poly'],\n",
    "    'clf__degree' : [2, 3],\n",
    "    'clf__gamma': np.logspace(-2, 2, 5)}\n",
    "\n",
    "rbf_grid = {'tfidf__max_features': [500, 1000, 5000, None],\n",
    "    'tfidf__ngram_range': [(1, 1), (1, 2), (1, 3)],\n",
    "    'clf__C': np.logspace(-1, 3, 5),\n",
    "    'clf__kernel' : ['rbf'],\n",
    "    'clf__gamma': np.logspace(-2, 2, 5)}"
   ]
  },
  {
   "cell_type": "code",
   "execution_count": 86,
   "metadata": {},
   "outputs": [],
   "source": [
    "clfRaw = svm.SVC()\n",
    "tfidfRaw = TfidfVectorizer()\n",
    "\n",
    "pipeRaw = Pipeline([\n",
    "    ('tfidf', tfidfRaw),\n",
    "    ('clf', clfRaw)\n",
    "])"
   ]
  },
  {
   "cell_type": "code",
   "execution_count": 87,
   "metadata": {},
   "outputs": [
    {
     "name": "stdout",
     "output_type": "stream",
     "text": [
      "Fitting 5 folds for each of 10 candidates, totalling 50 fits\n"
     ]
    },
    {
     "name": "stderr",
     "output_type": "stream",
     "text": [
      "[Parallel(n_jobs=-1)]: Using backend LokyBackend with 8 concurrent workers.\n",
      "[Parallel(n_jobs=-1)]: Done  25 tasks      | elapsed:   17.4s\n",
      "[Parallel(n_jobs=-1)]: Done  50 out of  50 | elapsed:   31.7s finished\n"
     ]
    }
   ],
   "source": [
    "scv_linear = RandomizedSearchCV(pipeRaw, param_distributions = linear_grid, n_iter = 10, cv = 5, verbose = 2, n_jobs = -1, return_train_score = True, random_state = 42)\n",
    "scv_linear.fit(X_train_raw, y_train_raw);"
   ]
  },
  {
   "cell_type": "code",
   "execution_count": 88,
   "metadata": {},
   "outputs": [
    {
     "name": "stdout",
     "output_type": "stream",
     "text": [
      "Fitting 5 folds for each of 10 candidates, totalling 50 fits\n"
     ]
    },
    {
     "name": "stderr",
     "output_type": "stream",
     "text": [
      "[Parallel(n_jobs=-1)]: Using backend LokyBackend with 8 concurrent workers.\n",
      "[Parallel(n_jobs=-1)]: Done  25 tasks      | elapsed:   23.0s\n",
      "[Parallel(n_jobs=-1)]: Done  50 out of  50 | elapsed:   47.9s finished\n"
     ]
    }
   ],
   "source": [
    "#using a randomized grid search to find the optimal value of the hyperparameters over a 5-fold cross-validation\n",
    "scv_poly = RandomizedSearchCV(pipeRaw, param_distributions = poly_grid, n_iter = 10, cv = 5, verbose = 2, n_jobs = -1, return_train_score = True, random_state = 42)\n",
    "scv_poly.fit(X_train_raw, y_train_raw);"
   ]
  },
  {
   "cell_type": "code",
   "execution_count": 89,
   "metadata": {},
   "outputs": [
    {
     "name": "stdout",
     "output_type": "stream",
     "text": [
      "Fitting 5 folds for each of 10 candidates, totalling 50 fits\n"
     ]
    },
    {
     "name": "stderr",
     "output_type": "stream",
     "text": [
      "[Parallel(n_jobs=-1)]: Using backend LokyBackend with 8 concurrent workers.\n",
      "[Parallel(n_jobs=-1)]: Done  25 tasks      | elapsed:   29.2s\n",
      "[Parallel(n_jobs=-1)]: Done  50 out of  50 | elapsed:   51.5s finished\n"
     ]
    }
   ],
   "source": [
    "#using a randomized grid search to find the optimal value of the hyperparameters over a 5-fold cross-validation\n",
    "scv_rbf = RandomizedSearchCV(pipeRaw, param_distributions = rbf_grid, n_iter = 10, cv = 5, verbose = 2, n_jobs = -1, return_train_score = True, random_state = 42)\n",
    "scv_rbf.fit(X_train_raw, y_train_rawstem);"
   ]
  },
  {
   "cell_type": "code",
   "execution_count": 90,
   "metadata": {},
   "outputs": [
    {
     "data": {
      "text/plain": [
       "{'tfidf__ngram_range': (1, 1),\n",
       " 'tfidf__max_features': None,\n",
       " 'clf__kernel': 'linear',\n",
       " 'clf__C': 10.0}"
      ]
     },
     "execution_count": 90,
     "metadata": {},
     "output_type": "execute_result"
    }
   ],
   "source": [
    "#preview the best parameters as found by the gridsearch\n",
    "scv_linear.best_params_"
   ]
  },
  {
   "cell_type": "code",
   "execution_count": 91,
   "metadata": {},
   "outputs": [
    {
     "data": {
      "text/plain": [
       "{'tfidf__ngram_range': (1, 3),\n",
       " 'tfidf__max_features': None,\n",
       " 'clf__kernel': 'poly',\n",
       " 'clf__gamma': 100.0,\n",
       " 'clf__degree': 2,\n",
       " 'clf__C': 100.0}"
      ]
     },
     "execution_count": 91,
     "metadata": {},
     "output_type": "execute_result"
    }
   ],
   "source": [
    "#preview the best parameters as found by the gridsearch\n",
    "scv_poly.best_params_"
   ]
  },
  {
   "cell_type": "code",
   "execution_count": 92,
   "metadata": {},
   "outputs": [
    {
     "data": {
      "text/plain": [
       "{'tfidf__ngram_range': (1, 3),\n",
       " 'tfidf__max_features': None,\n",
       " 'clf__kernel': 'rbf',\n",
       " 'clf__gamma': 0.1,\n",
       " 'clf__C': 100.0}"
      ]
     },
     "execution_count": 92,
     "metadata": {},
     "output_type": "execute_result"
    }
   ],
   "source": [
    "#preview the best parameters as found by the gridsearch\n",
    "scv_rbf.best_params_"
   ]
  },
  {
   "cell_type": "code",
   "execution_count": 93,
   "metadata": {},
   "outputs": [
    {
     "data": {
      "text/plain": [
       "[6808, 6051, 5295, 4538, 3782, 3026, 2269, 1513, 756]"
      ]
     },
     "execution_count": 93,
     "metadata": {},
     "output_type": "execute_result"
    }
   ],
   "source": [
    "lenFitur_raw"
   ]
  },
  {
   "cell_type": "code",
   "execution_count": 95,
   "metadata": {},
   "outputs": [
    {
     "name": "stdout",
     "output_type": "stream",
     "text": [
      "SVM Testing Accuracy Score ->  68.28358208955224\n",
      "SVM Testing Accuracy Score ->  68.28358208955224\n",
      "SVM Testing Accuracy Score ->  67.66169154228857\n",
      "SVM Testing Accuracy Score ->  68.03482587064677\n",
      "SVM Testing Accuracy Score ->  68.03482587064677\n",
      "SVM Testing Accuracy Score ->  66.91542288557214\n",
      "SVM Testing Accuracy Score ->  66.4179104477612\n",
      "SVM Testing Accuracy Score ->  64.80099502487562\n",
      "SVM Testing Accuracy Score ->  61.69154228855721\n"
     ]
    }
   ],
   "source": [
    "# Accuracy for dfRawStem\n",
    "acc_ig_raw = []\n",
    "for i in range(len(lenFitur_raw)):\n",
    "    # Create subset feature based on top-n lenFitur\n",
    "    subset_feature = fitur_raw_sorted[:lenFitur_raw[i]]\n",
    "    \n",
    "    # Create feature matrix for train and test\n",
    "    features_train = scipy.sparse.csr_matrix(train_raw_mtx[subset_feature].values)\n",
    "    features_test = scipy.sparse.csr_matrix(test_raw_mtx[subset_feature].values)\n",
    "       \n",
    "    # Classifier - Algorithm - SVM\n",
    "    # fit the training dataset on the classifier\n",
    "    SVML3 = svm.SVC(kernel = 'linear', C= 10)\n",
    "    SVML3.fit(features_train, y_train_raw)\n",
    "\n",
    "    # Use accuracy_score function to get the accuracy\n",
    "#     print(\"SVM Training Accuracy Score -> \", SVM.score(features_train, y_train_prestem)*100)\n",
    "    print(\"SVM Testing Accuracy Score -> \", SVML3.score(features_test, y_test_raw)*100)"
   ]
  },
  {
   "cell_type": "code",
   "execution_count": 96,
   "metadata": {},
   "outputs": [
    {
     "name": "stdout",
     "output_type": "stream",
     "text": [
      "SVM Testing Accuracy Score ->  67.66169154228857\n",
      "SVM Testing Accuracy Score ->  59.950248756218905\n",
      "SVM Testing Accuracy Score ->  63.43283582089553\n",
      "SVM Testing Accuracy Score ->  65.67164179104478\n",
      "SVM Testing Accuracy Score ->  65.54726368159204\n",
      "SVM Testing Accuracy Score ->  68.28358208955224\n",
      "SVM Testing Accuracy Score ->  61.318407960199\n",
      "SVM Testing Accuracy Score ->  52.736318407960205\n",
      "SVM Testing Accuracy Score ->  59.5771144278607\n"
     ]
    }
   ],
   "source": [
    "# Accuracy for dfRawStem\n",
    "acc_ig_raw = []\n",
    "for i in range(len(lenFitur_raw)):\n",
    "    # Create subset feature based on top-n lenFitur\n",
    "    subset_feature = fitur_raw_sorted[:lenFitur_raw[i]]\n",
    "    \n",
    "    # Create feature matrix for train and test\n",
    "    features_train = scipy.sparse.csr_matrix(train_raw_mtx[subset_feature].values)\n",
    "    features_test = scipy.sparse.csr_matrix(test_raw_mtx[subset_feature].values)\n",
    "       \n",
    "    # Classifier - Algorithm - SVM\n",
    "    # fit the training dataset on the classifier\n",
    "    SVMP3 = svm.SVC(kernel = 'poly', C= 100, gamma = 100, degree = 2)\n",
    "    SVMP3.fit(features_train, y_train_raw)\n",
    "\n",
    "    # Use accuracy_score function to get the accuracy\n",
    "#     print(\"SVM Training Accuracy Score -> \", SVM.score(features_train, y_train_prestem)*100)\n",
    "    print(\"SVM Testing Accuracy Score -> \", SVMP3.score(features_test, y_test_raw)*100)"
   ]
  },
  {
   "cell_type": "code",
   "execution_count": 97,
   "metadata": {},
   "outputs": [
    {
     "name": "stdout",
     "output_type": "stream",
     "text": [
      "SVM Testing Accuracy Score ->  69.02985074626866\n",
      "SVM Testing Accuracy Score ->  68.1592039800995\n",
      "SVM Testing Accuracy Score ->  67.91044776119402\n",
      "SVM Testing Accuracy Score ->  67.16417910447761\n",
      "SVM Testing Accuracy Score ->  66.29353233830845\n",
      "SVM Testing Accuracy Score ->  67.28855721393035\n",
      "SVM Testing Accuracy Score ->  66.29353233830845\n",
      "SVM Testing Accuracy Score ->  65.4228855721393\n",
      "SVM Testing Accuracy Score ->  63.557213930348254\n"
     ]
    }
   ],
   "source": [
    "# Accuracy for dfRawStem\n",
    "acc_ig_raw = []\n",
    "for i in range(len(lenFitur_raw)):\n",
    "    # Create subset feature based on top-n lenFitur\n",
    "    subset_feature = fitur_raw_sorted[:lenFitur_raw[i]]\n",
    "    \n",
    "    # Create feature matrix for train and test\n",
    "    features_train = scipy.sparse.csr_matrix(train_raw_mtx[subset_feature].values)\n",
    "    features_test = scipy.sparse.csr_matrix(test_raw_mtx[subset_feature].values)\n",
    "       \n",
    "    # Classifier - Algorithm - SVM\n",
    "    # fit the training dataset on the classifier\n",
    "    SVMR3 = svm.SVC(kernel = 'rbf', C= 100, gamma = 0.1)\n",
    "    SVMR3.fit(features_train, y_train_raw)\n",
    "\n",
    "    # Use accuracy_score function to get the accuracy\n",
    "#     print(\"SVM Training Accuracy Score -> \", SVM.score(features_train, y_train_prestem)*100)\n",
    "    print(\"SVM Testing Accuracy Score -> \", SVMR3.score(features_test, y_test_raw)*100)"
   ]
  },
  {
   "cell_type": "code",
   "execution_count": 98,
   "metadata": {},
   "outputs": [
    {
     "data": {
      "text/plain": [
       "[6808, 6051, 5295, 4538, 3782, 3026, 2269, 1513, 756]"
      ]
     },
     "execution_count": 98,
     "metadata": {},
     "output_type": "execute_result"
    }
   ],
   "source": [
    "lenFitur_raw"
   ]
  },
  {
   "cell_type": "code",
   "execution_count": 99,
   "metadata": {},
   "outputs": [],
   "source": [
    "Pred_YRaw = SVMR3.predict(features_test)"
   ]
  },
  {
   "cell_type": "code",
   "execution_count": 100,
   "metadata": {},
   "outputs": [],
   "source": [
    "wrong_classified_Raw = Pred_YRaw != y_test_raw"
   ]
  },
  {
   "cell_type": "code",
   "execution_count": 101,
   "metadata": {},
   "outputs": [
    {
     "data": {
      "text/plain": [
       "array([ True, False, False, False, False, False,  True,  True, False,\n",
       "       False, False,  True, False,  True,  True, False, False,  True,\n",
       "        True,  True,  True, False,  True,  True,  True,  True, False,\n",
       "        True,  True,  True,  True,  True, False,  True,  True,  True,\n",
       "       False, False, False, False,  True, False, False, False, False,\n",
       "       False, False,  True, False, False, False, False, False,  True,\n",
       "        True,  True, False, False, False,  True, False, False, False,\n",
       "       False, False,  True, False, False, False,  True, False,  True,\n",
       "        True, False, False, False, False,  True,  True,  True, False,\n",
       "        True,  True,  True,  True,  True, False,  True, False, False,\n",
       "       False,  True,  True, False, False,  True, False, False, False,\n",
       "        True,  True, False,  True, False,  True, False, False,  True,\n",
       "       False, False, False, False, False, False,  True, False,  True,\n",
       "       False,  True, False, False, False,  True,  True, False,  True,\n",
       "       False, False,  True,  True, False,  True, False,  True, False,\n",
       "        True, False,  True, False, False,  True,  True,  True, False,\n",
       "       False,  True, False, False, False,  True, False, False,  True,\n",
       "        True,  True, False, False, False, False, False, False, False,\n",
       "        True, False,  True,  True, False,  True, False, False, False,\n",
       "       False, False, False,  True, False, False,  True, False, False,\n",
       "       False, False, False,  True, False,  True, False,  True,  True,\n",
       "       False,  True, False, False, False, False, False,  True,  True,\n",
       "       False, False,  True,  True,  True, False, False, False, False,\n",
       "       False,  True,  True, False,  True,  True,  True, False, False,\n",
       "       False, False, False,  True, False, False,  True,  True, False,\n",
       "        True,  True,  True, False, False, False,  True,  True, False,\n",
       "        True,  True, False,  True, False, False, False, False,  True,\n",
       "       False,  True, False,  True, False,  True, False, False,  True,\n",
       "        True,  True, False, False,  True, False, False,  True, False,\n",
       "        True, False, False, False, False,  True, False,  True,  True,\n",
       "        True,  True,  True, False, False, False,  True, False,  True,\n",
       "       False,  True,  True, False, False,  True, False, False, False,\n",
       "        True,  True, False,  True,  True, False, False,  True,  True,\n",
       "       False,  True,  True, False, False, False, False, False,  True,\n",
       "       False, False,  True, False, False,  True, False,  True, False,\n",
       "       False, False, False, False, False,  True,  True,  True, False,\n",
       "        True,  True,  True, False,  True, False, False, False, False,\n",
       "       False, False,  True,  True,  True, False,  True,  True,  True,\n",
       "       False, False,  True,  True,  True, False, False,  True,  True,\n",
       "       False, False, False, False,  True,  True, False, False, False,\n",
       "       False,  True, False,  True, False, False, False,  True, False,\n",
       "       False,  True, False, False, False, False,  True,  True, False,\n",
       "        True,  True, False,  True, False, False, False, False,  True,\n",
       "        True, False, False, False, False,  True, False, False, False,\n",
       "       False, False, False, False,  True, False, False, False,  True,\n",
       "       False,  True, False, False, False,  True, False, False,  True,\n",
       "       False, False, False,  True,  True, False, False, False, False,\n",
       "        True, False, False,  True, False, False, False,  True, False,\n",
       "       False, False,  True, False, False, False,  True, False,  True,\n",
       "        True,  True, False, False, False,  True, False, False,  True,\n",
       "       False,  True, False, False, False, False, False, False, False,\n",
       "       False, False, False, False, False, False, False,  True,  True,\n",
       "       False, False, False,  True, False,  True, False, False, False,\n",
       "        True,  True,  True, False,  True, False, False,  True, False,\n",
       "       False, False, False,  True, False, False, False, False,  True,\n",
       "        True,  True, False, False, False, False, False, False,  True,\n",
       "        True, False,  True, False, False, False, False, False, False,\n",
       "       False,  True, False,  True,  True, False, False, False,  True,\n",
       "       False, False,  True, False,  True, False, False, False,  True,\n",
       "        True, False,  True, False, False, False,  True, False, False,\n",
       "        True, False, False, False, False, False, False,  True,  True,\n",
       "       False, False,  True, False, False, False,  True, False, False,\n",
       "       False,  True,  True, False, False, False, False, False,  True,\n",
       "       False,  True,  True, False, False, False,  True,  True,  True,\n",
       "       False, False,  True,  True, False, False, False, False, False,\n",
       "       False, False,  True,  True,  True, False,  True, False, False,\n",
       "       False,  True, False, False,  True, False, False, False, False,\n",
       "       False, False,  True, False, False,  True, False, False, False,\n",
       "       False, False,  True, False,  True, False, False, False, False,\n",
       "        True,  True, False, False, False, False, False,  True,  True,\n",
       "        True,  True,  True, False, False, False, False, False, False,\n",
       "       False, False, False, False,  True, False, False, False,  True,\n",
       "        True,  True, False,  True, False, False, False, False, False,\n",
       "       False, False, False,  True,  True, False, False, False,  True,\n",
       "       False, False, False,  True, False,  True,  True,  True, False,\n",
       "       False,  True, False, False,  True, False, False, False,  True,\n",
       "       False, False,  True, False, False,  True, False, False, False,\n",
       "       False,  True,  True, False, False, False, False, False, False,\n",
       "        True,  True, False,  True,  True, False,  True,  True, False,\n",
       "       False,  True,  True, False,  True,  True, False, False, False,\n",
       "       False, False, False,  True, False, False, False,  True, False,\n",
       "       False,  True, False, False, False, False, False, False, False,\n",
       "        True, False,  True,  True, False, False, False, False, False,\n",
       "       False, False, False, False, False, False, False, False, False,\n",
       "       False,  True, False,  True,  True, False,  True,  True, False,\n",
       "       False, False, False, False, False,  True, False, False, False,\n",
       "       False,  True, False,  True, False, False,  True, False, False,\n",
       "       False, False, False, False, False, False, False, False,  True,\n",
       "       False,  True, False,  True,  True,  True, False,  True, False,\n",
       "        True, False, False])"
      ]
     },
     "execution_count": 101,
     "metadata": {},
     "output_type": "execute_result"
    }
   ],
   "source": [
    "wrong_classified_Raw"
   ]
  },
  {
   "cell_type": "code",
   "execution_count": 102,
   "metadata": {},
   "outputs": [],
   "source": [
    "wrong_data_Raw = dfTest_Raw[wrong_classified_Raw == True]\n",
    "wrong_labels_Raw = Pred_YRaw[wrong_classified_Raw == True]"
   ]
  },
  {
   "cell_type": "code",
   "execution_count": 104,
   "metadata": {},
   "outputs": [
    {
     "data": {
      "text/html": [
       "<div>\n",
       "<style scoped>\n",
       "    .dataframe tbody tr th:only-of-type {\n",
       "        vertical-align: middle;\n",
       "    }\n",
       "\n",
       "    .dataframe tbody tr th {\n",
       "        vertical-align: top;\n",
       "    }\n",
       "\n",
       "    .dataframe thead th {\n",
       "        text-align: right;\n",
       "    }\n",
       "</style>\n",
       "<table border=\"1\" class=\"dataframe\">\n",
       "  <thead>\n",
       "    <tr style=\"text-align: right;\">\n",
       "      <th></th>\n",
       "      <th>tweet</th>\n",
       "      <th>label</th>\n",
       "    </tr>\n",
       "  </thead>\n",
       "  <tbody>\n",
       "    <tr>\n",
       "      <td>0</td>\n",
       "      <td>Aspek historis calon ibu kota negara  Kutai Ka...</td>\n",
       "      <td>0</td>\n",
       "    </tr>\n",
       "    <tr>\n",
       "      <td>6</td>\n",
       "      <td>Mudah2an biaya pemindahan ibu kota tidak menja...</td>\n",
       "      <td>-1</td>\n",
       "    </tr>\n",
       "    <tr>\n",
       "      <td>7</td>\n",
       "      <td>Pemindahan ibu kota ke Kalimantan Timur bagaim...</td>\n",
       "      <td>0</td>\n",
       "    </tr>\n",
       "    <tr>\n",
       "      <td>17</td>\n",
       "      <td>Pemindahan Ibu Kota Trending di Twitter, Lihat...</td>\n",
       "      <td>0</td>\n",
       "    </tr>\n",
       "    <tr>\n",
       "      <td>23</td>\n",
       "      <td>F-PDIP: Pemindahan Ibu Kota Pernah Dibicarakan...</td>\n",
       "      <td>0</td>\n",
       "    </tr>\n",
       "    <tr>\n",
       "      <td>...</td>\n",
       "      <td>...</td>\n",
       "      <td>...</td>\n",
       "    </tr>\n",
       "    <tr>\n",
       "      <td>738</td>\n",
       "      <td>Dualisme Konseptual antara Perbaikan atau Pemi...</td>\n",
       "      <td>0</td>\n",
       "    </tr>\n",
       "    <tr>\n",
       "      <td>740</td>\n",
       "      <td>Median merilis pendapat masyarakat terkait pem...</td>\n",
       "      <td>-1</td>\n",
       "    </tr>\n",
       "    <tr>\n",
       "      <td>741</td>\n",
       "      <td>Gegap gempita soal pemindahan ibu kota...gilir...</td>\n",
       "      <td>-1</td>\n",
       "    </tr>\n",
       "    <tr>\n",
       "      <td>759</td>\n",
       "      <td>Secara Geopolitik, Pemindahan Ibu Kota Negara ...</td>\n",
       "      <td>-1</td>\n",
       "    </tr>\n",
       "    <tr>\n",
       "      <td>795</td>\n",
       "      <td>Survei Median: Mayoritas Tolak Ibu Kota Pindah...</td>\n",
       "      <td>-1</td>\n",
       "    </tr>\n",
       "  </tbody>\n",
       "</table>\n",
       "<p>96 rows × 2 columns</p>\n",
       "</div>"
      ],
      "text/plain": [
       "                                                 tweet  label\n",
       "0    Aspek historis calon ibu kota negara  Kutai Ka...      0\n",
       "6    Mudah2an biaya pemindahan ibu kota tidak menja...     -1\n",
       "7    Pemindahan ibu kota ke Kalimantan Timur bagaim...      0\n",
       "17   Pemindahan Ibu Kota Trending di Twitter, Lihat...      0\n",
       "23   F-PDIP: Pemindahan Ibu Kota Pernah Dibicarakan...      0\n",
       "..                                                 ...    ...\n",
       "738  Dualisme Konseptual antara Perbaikan atau Pemi...      0\n",
       "740  Median merilis pendapat masyarakat terkait pem...     -1\n",
       "741  Gegap gempita soal pemindahan ibu kota...gilir...     -1\n",
       "759  Secara Geopolitik, Pemindahan Ibu Kota Negara ...     -1\n",
       "795  Survei Median: Mayoritas Tolak Ibu Kota Pindah...     -1\n",
       "\n",
       "[96 rows x 2 columns]"
      ]
     },
     "execution_count": 104,
     "metadata": {},
     "output_type": "execute_result"
    }
   ],
   "source": [
    "false_pronet_Raw = wrong_data_Raw[wrong_labels_Raw == 1]\n",
    "false_pronet_Raw"
   ]
  },
  {
   "cell_type": "code",
   "execution_count": 105,
   "metadata": {},
   "outputs": [
    {
     "data": {
      "text/html": [
       "<div>\n",
       "<style scoped>\n",
       "    .dataframe tbody tr th:only-of-type {\n",
       "        vertical-align: middle;\n",
       "    }\n",
       "\n",
       "    .dataframe tbody tr th {\n",
       "        vertical-align: top;\n",
       "    }\n",
       "\n",
       "    .dataframe thead th {\n",
       "        text-align: right;\n",
       "    }\n",
       "</style>\n",
       "<table border=\"1\" class=\"dataframe\">\n",
       "  <thead>\n",
       "    <tr style=\"text-align: right;\">\n",
       "      <th></th>\n",
       "      <th>tweet</th>\n",
       "      <th>label</th>\n",
       "    </tr>\n",
       "  </thead>\n",
       "  <tbody>\n",
       "    <tr>\n",
       "      <td>18</td>\n",
       "      <td>proses pemindahan memakan biaya 466 T, sebagia...</td>\n",
       "      <td>-1</td>\n",
       "    </tr>\n",
       "    <tr>\n",
       "      <td>20</td>\n",
       "      <td>Pemindahan Ibu Kota Sebaiknya Melalui Undang-u...</td>\n",
       "      <td>-1</td>\n",
       "    </tr>\n",
       "    <tr>\n",
       "      <td>24</td>\n",
       "      <td>Dipetimbangkan untuk menambah utang gitu maksu...</td>\n",
       "      <td>-1</td>\n",
       "    </tr>\n",
       "    <tr>\n",
       "      <td>31</td>\n",
       "      <td>Bisnis Ekspedisi Bakal Meningkat, Seiring Pemi...</td>\n",
       "      <td>1</td>\n",
       "    </tr>\n",
       "    <tr>\n",
       "      <td>35</td>\n",
       "      <td>Pak sekedar tanya yah apakah ada yang menjamin...</td>\n",
       "      <td>-1</td>\n",
       "    </tr>\n",
       "    <tr>\n",
       "      <td>...</td>\n",
       "      <td>...</td>\n",
       "      <td>...</td>\n",
       "    </tr>\n",
       "    <tr>\n",
       "      <td>723</td>\n",
       "      <td>Bumi Resources (BUMI) melihat potensi untung d...</td>\n",
       "      <td>1</td>\n",
       "    </tr>\n",
       "    <tr>\n",
       "      <td>775</td>\n",
       "      <td>≈. ≈. Soal Pemindahan Ibu Kota, Amien Rais: Ba...</td>\n",
       "      <td>-1</td>\n",
       "    </tr>\n",
       "    <tr>\n",
       "      <td>777</td>\n",
       "      <td>//. Soal Pemindahan Ibu Kota, Amien Rais: Bata...</td>\n",
       "      <td>-1</td>\n",
       "    </tr>\n",
       "    <tr>\n",
       "      <td>791</td>\n",
       "      <td>Pemindahan ibu kota ke Kaltim akan turunkan ak...</td>\n",
       "      <td>-1</td>\n",
       "    </tr>\n",
       "    <tr>\n",
       "      <td>793</td>\n",
       "      <td>Amien Rais: Pemerintah Menunggu Kajian Tiongko...</td>\n",
       "      <td>-1</td>\n",
       "    </tr>\n",
       "  </tbody>\n",
       "</table>\n",
       "<p>88 rows × 2 columns</p>\n",
       "</div>"
      ],
      "text/plain": [
       "                                                 tweet  label\n",
       "18   proses pemindahan memakan biaya 466 T, sebagia...     -1\n",
       "20   Pemindahan Ibu Kota Sebaiknya Melalui Undang-u...     -1\n",
       "24   Dipetimbangkan untuk menambah utang gitu maksu...     -1\n",
       "31   Bisnis Ekspedisi Bakal Meningkat, Seiring Pemi...      1\n",
       "35   Pak sekedar tanya yah apakah ada yang menjamin...     -1\n",
       "..                                                 ...    ...\n",
       "723  Bumi Resources (BUMI) melihat potensi untung d...      1\n",
       "775  ≈. ≈. Soal Pemindahan Ibu Kota, Amien Rais: Ba...     -1\n",
       "777  //. Soal Pemindahan Ibu Kota, Amien Rais: Bata...     -1\n",
       "791  Pemindahan ibu kota ke Kaltim akan turunkan ak...     -1\n",
       "793  Amien Rais: Pemerintah Menunggu Kajian Tiongko...     -1\n",
       "\n",
       "[88 rows x 2 columns]"
      ]
     },
     "execution_count": 105,
     "metadata": {},
     "output_type": "execute_result"
    }
   ],
   "source": [
    "false_procon_Raw = wrong_data_Raw[wrong_labels_Raw == 0]\n",
    "false_procon_Raw"
   ]
  },
  {
   "cell_type": "code",
   "execution_count": 106,
   "metadata": {},
   "outputs": [
    {
     "data": {
      "text/html": [
       "<div>\n",
       "<style scoped>\n",
       "    .dataframe tbody tr th:only-of-type {\n",
       "        vertical-align: middle;\n",
       "    }\n",
       "\n",
       "    .dataframe tbody tr th {\n",
       "        vertical-align: top;\n",
       "    }\n",
       "\n",
       "    .dataframe thead th {\n",
       "        text-align: right;\n",
       "    }\n",
       "</style>\n",
       "<table border=\"1\" class=\"dataframe\">\n",
       "  <thead>\n",
       "    <tr style=\"text-align: right;\">\n",
       "      <th></th>\n",
       "      <th>tweet</th>\n",
       "      <th>label</th>\n",
       "    </tr>\n",
       "  </thead>\n",
       "  <tbody>\n",
       "    <tr>\n",
       "      <td>11</td>\n",
       "      <td>Pertanyaan sederhananya adalah, jk Anda turut ...</td>\n",
       "      <td>0</td>\n",
       "    </tr>\n",
       "    <tr>\n",
       "      <td>13</td>\n",
       "      <td>Kakak dapid td lg meeting pemindahan ibu kota ...</td>\n",
       "      <td>0</td>\n",
       "    </tr>\n",
       "    <tr>\n",
       "      <td>14</td>\n",
       "      <td>bapak tdk menolak tp bapak cuma menjelaskan ka...</td>\n",
       "      <td>0</td>\n",
       "    </tr>\n",
       "    <tr>\n",
       "      <td>19</td>\n",
       "      <td>Terkait rencana pemindahan Ibu Kota di kaliman...</td>\n",
       "      <td>1</td>\n",
       "    </tr>\n",
       "    <tr>\n",
       "      <td>22</td>\n",
       "      <td>Masih ngebayangin gmna proses pemindahan ibu k...</td>\n",
       "      <td>0</td>\n",
       "    </tr>\n",
       "    <tr>\n",
       "      <td>...</td>\n",
       "      <td>...</td>\n",
       "      <td>...</td>\n",
       "    </tr>\n",
       "    <tr>\n",
       "      <td>780</td>\n",
       "      <td>PPP menilai kritik Ketua Dewan Kehormatan PAN ...</td>\n",
       "      <td>1</td>\n",
       "    </tr>\n",
       "    <tr>\n",
       "      <td>796</td>\n",
       "      <td>Pemindahan Ibu kota, Amien Rais Caper!   #pdip...</td>\n",
       "      <td>0</td>\n",
       "    </tr>\n",
       "    <tr>\n",
       "      <td>797</td>\n",
       "      <td>Pemindahan Ibu Kota RI dari Perspektif Pertaha...</td>\n",
       "      <td>0</td>\n",
       "    </tr>\n",
       "    <tr>\n",
       "      <td>799</td>\n",
       "      <td>Fadli Zon Pertanyakan Urgensi Pemindahan Ibu K...</td>\n",
       "      <td>0</td>\n",
       "    </tr>\n",
       "    <tr>\n",
       "      <td>801</td>\n",
       "      <td>Semoga hal serupa juga dilakukan saat proses p...</td>\n",
       "      <td>1</td>\n",
       "    </tr>\n",
       "  </tbody>\n",
       "</table>\n",
       "<p>109 rows × 2 columns</p>\n",
       "</div>"
      ],
      "text/plain": [
       "                                                 tweet  label\n",
       "11   Pertanyaan sederhananya adalah, jk Anda turut ...      0\n",
       "13   Kakak dapid td lg meeting pemindahan ibu kota ...      0\n",
       "14   bapak tdk menolak tp bapak cuma menjelaskan ka...      0\n",
       "19   Terkait rencana pemindahan Ibu Kota di kaliman...      1\n",
       "22   Masih ngebayangin gmna proses pemindahan ibu k...      0\n",
       "..                                                 ...    ...\n",
       "780  PPP menilai kritik Ketua Dewan Kehormatan PAN ...      1\n",
       "796  Pemindahan Ibu kota, Amien Rais Caper!   #pdip...      0\n",
       "797  Pemindahan Ibu Kota RI dari Perspektif Pertaha...      0\n",
       "799  Fadli Zon Pertanyakan Urgensi Pemindahan Ibu K...      0\n",
       "801  Semoga hal serupa juga dilakukan saat proses p...      1\n",
       "\n",
       "[109 rows x 2 columns]"
      ]
     },
     "execution_count": 106,
     "metadata": {},
     "output_type": "execute_result"
    }
   ],
   "source": [
    "false_netcon_Raw = wrong_data_Raw[wrong_labels_Raw == -1]\n",
    "false_netcon_Raw"
   ]
  },
  {
   "cell_type": "markdown",
   "metadata": {},
   "source": [
    "# Pre"
   ]
  },
  {
   "cell_type": "code",
   "execution_count": 107,
   "metadata": {},
   "outputs": [],
   "source": [
    "dfTrain_Pre = pd.read_csv('dfTrain_Pre.csv')\n",
    "dfTest_Pre = pd.read_csv('dfTest_Pre.csv')\n",
    "\n",
    "fitur_pre = pd.read_csv('ig_pre.csv')"
   ]
  },
  {
   "cell_type": "code",
   "execution_count": 108,
   "metadata": {},
   "outputs": [
    {
     "data": {
      "text/html": [
       "<div>\n",
       "<style scoped>\n",
       "    .dataframe tbody tr th:only-of-type {\n",
       "        vertical-align: middle;\n",
       "    }\n",
       "\n",
       "    .dataframe tbody tr th {\n",
       "        vertical-align: top;\n",
       "    }\n",
       "\n",
       "    .dataframe thead th {\n",
       "        text-align: right;\n",
       "    }\n",
       "</style>\n",
       "<table border=\"1\" class=\"dataframe\">\n",
       "  <thead>\n",
       "    <tr style=\"text-align: right;\">\n",
       "      <th></th>\n",
       "      <th>Unnamed: 0</th>\n",
       "      <th>feature</th>\n",
       "      <th>tfidf</th>\n",
       "      <th>ig_value</th>\n",
       "    </tr>\n",
       "  </thead>\n",
       "  <tbody>\n",
       "    <tr>\n",
       "      <td>3532</td>\n",
       "      <td>3532</td>\n",
       "      <td>NaN</td>\n",
       "      <td>0.0</td>\n",
       "      <td>0.001751</td>\n",
       "    </tr>\n",
       "  </tbody>\n",
       "</table>\n",
       "</div>"
      ],
      "text/plain": [
       "      Unnamed: 0 feature  tfidf  ig_value\n",
       "3532        3532     NaN    0.0  0.001751"
      ]
     },
     "execution_count": 108,
     "metadata": {},
     "output_type": "execute_result"
    }
   ],
   "source": [
    "fitur_pre[fitur_pre['feature'].isnull() == True]"
   ]
  },
  {
   "cell_type": "code",
   "execution_count": 109,
   "metadata": {},
   "outputs": [
    {
     "data": {
      "text/html": [
       "<div>\n",
       "<style scoped>\n",
       "    .dataframe tbody tr th:only-of-type {\n",
       "        vertical-align: middle;\n",
       "    }\n",
       "\n",
       "    .dataframe tbody tr th {\n",
       "        vertical-align: top;\n",
       "    }\n",
       "\n",
       "    .dataframe thead th {\n",
       "        text-align: right;\n",
       "    }\n",
       "</style>\n",
       "<table border=\"1\" class=\"dataframe\">\n",
       "  <thead>\n",
       "    <tr style=\"text-align: right;\">\n",
       "      <th></th>\n",
       "      <th>feature</th>\n",
       "      <th>tfidf</th>\n",
       "      <th>ig_value</th>\n",
       "    </tr>\n",
       "  </thead>\n",
       "  <tbody>\n",
       "    <tr>\n",
       "      <td>0</td>\n",
       "      <td>aaaccchhh</td>\n",
       "      <td>0.0</td>\n",
       "      <td>0.000798</td>\n",
       "    </tr>\n",
       "    <tr>\n",
       "      <td>1</td>\n",
       "      <td>aaeu</td>\n",
       "      <td>0.0</td>\n",
       "      <td>0.000784</td>\n",
       "    </tr>\n",
       "    <tr>\n",
       "      <td>2</td>\n",
       "      <td>aamiin</td>\n",
       "      <td>0.0</td>\n",
       "      <td>0.001751</td>\n",
       "    </tr>\n",
       "    <tr>\n",
       "      <td>3</td>\n",
       "      <td>ab</td>\n",
       "      <td>0.0</td>\n",
       "      <td>0.000798</td>\n",
       "    </tr>\n",
       "    <tr>\n",
       "      <td>4</td>\n",
       "      <td>abad</td>\n",
       "      <td>0.0</td>\n",
       "      <td>0.000784</td>\n",
       "    </tr>\n",
       "    <tr>\n",
       "      <td>...</td>\n",
       "      <td>...</td>\n",
       "      <td>...</td>\n",
       "      <td>...</td>\n",
       "    </tr>\n",
       "    <tr>\n",
       "      <td>5794</td>\n",
       "      <td>zuudhvtnbc</td>\n",
       "      <td>0.0</td>\n",
       "      <td>0.000967</td>\n",
       "    </tr>\n",
       "    <tr>\n",
       "      <td>5795</td>\n",
       "      <td>zw</td>\n",
       "      <td>0.0</td>\n",
       "      <td>0.000784</td>\n",
       "    </tr>\n",
       "    <tr>\n",
       "      <td>5796</td>\n",
       "      <td>zww</td>\n",
       "      <td>0.0</td>\n",
       "      <td>0.000784</td>\n",
       "    </tr>\n",
       "    <tr>\n",
       "      <td>5797</td>\n",
       "      <td>zygzu</td>\n",
       "      <td>0.0</td>\n",
       "      <td>0.000967</td>\n",
       "    </tr>\n",
       "    <tr>\n",
       "      <td>5798</td>\n",
       "      <td>zzdysjods</td>\n",
       "      <td>0.0</td>\n",
       "      <td>0.000967</td>\n",
       "    </tr>\n",
       "  </tbody>\n",
       "</table>\n",
       "<p>5799 rows × 3 columns</p>\n",
       "</div>"
      ],
      "text/plain": [
       "         feature  tfidf  ig_value\n",
       "0      aaaccchhh    0.0  0.000798\n",
       "1           aaeu    0.0  0.000784\n",
       "2         aamiin    0.0  0.001751\n",
       "3             ab    0.0  0.000798\n",
       "4           abad    0.0  0.000784\n",
       "...          ...    ...       ...\n",
       "5794  zuudhvtnbc    0.0  0.000967\n",
       "5795          zw    0.0  0.000784\n",
       "5796         zww    0.0  0.000784\n",
       "5797       zygzu    0.0  0.000967\n",
       "5798   zzdysjods    0.0  0.000967\n",
       "\n",
       "[5799 rows x 3 columns]"
      ]
     },
     "execution_count": 109,
     "metadata": {},
     "output_type": "execute_result"
    }
   ],
   "source": [
    "fitur_pre = fitur_pre.drop(columns=['Unnamed: 0'])\n",
    "fitur_pre"
   ]
  },
  {
   "cell_type": "code",
   "execution_count": 110,
   "metadata": {},
   "outputs": [
    {
     "data": {
      "text/html": [
       "<div>\n",
       "<style scoped>\n",
       "    .dataframe tbody tr th:only-of-type {\n",
       "        vertical-align: middle;\n",
       "    }\n",
       "\n",
       "    .dataframe tbody tr th {\n",
       "        vertical-align: top;\n",
       "    }\n",
       "\n",
       "    .dataframe thead th {\n",
       "        text-align: right;\n",
       "    }\n",
       "</style>\n",
       "<table border=\"1\" class=\"dataframe\">\n",
       "  <thead>\n",
       "    <tr style=\"text-align: right;\">\n",
       "      <th></th>\n",
       "      <th>feature</th>\n",
       "      <th>tfidf</th>\n",
       "      <th>ig_value</th>\n",
       "    </tr>\n",
       "  </thead>\n",
       "  <tbody>\n",
       "    <tr>\n",
       "      <td>0</td>\n",
       "      <td>aaaccchhh</td>\n",
       "      <td>0.0</td>\n",
       "      <td>0.000798</td>\n",
       "    </tr>\n",
       "    <tr>\n",
       "      <td>1</td>\n",
       "      <td>aaeu</td>\n",
       "      <td>0.0</td>\n",
       "      <td>0.000784</td>\n",
       "    </tr>\n",
       "    <tr>\n",
       "      <td>2</td>\n",
       "      <td>aamiin</td>\n",
       "      <td>0.0</td>\n",
       "      <td>0.001751</td>\n",
       "    </tr>\n",
       "    <tr>\n",
       "      <td>3</td>\n",
       "      <td>ab</td>\n",
       "      <td>0.0</td>\n",
       "      <td>0.000798</td>\n",
       "    </tr>\n",
       "    <tr>\n",
       "      <td>4</td>\n",
       "      <td>abad</td>\n",
       "      <td>0.0</td>\n",
       "      <td>0.000784</td>\n",
       "    </tr>\n",
       "    <tr>\n",
       "      <td>...</td>\n",
       "      <td>...</td>\n",
       "      <td>...</td>\n",
       "      <td>...</td>\n",
       "    </tr>\n",
       "    <tr>\n",
       "      <td>5794</td>\n",
       "      <td>zuudhvtnbc</td>\n",
       "      <td>0.0</td>\n",
       "      <td>0.000967</td>\n",
       "    </tr>\n",
       "    <tr>\n",
       "      <td>5795</td>\n",
       "      <td>zw</td>\n",
       "      <td>0.0</td>\n",
       "      <td>0.000784</td>\n",
       "    </tr>\n",
       "    <tr>\n",
       "      <td>5796</td>\n",
       "      <td>zww</td>\n",
       "      <td>0.0</td>\n",
       "      <td>0.000784</td>\n",
       "    </tr>\n",
       "    <tr>\n",
       "      <td>5797</td>\n",
       "      <td>zygzu</td>\n",
       "      <td>0.0</td>\n",
       "      <td>0.000967</td>\n",
       "    </tr>\n",
       "    <tr>\n",
       "      <td>5798</td>\n",
       "      <td>zzdysjods</td>\n",
       "      <td>0.0</td>\n",
       "      <td>0.000967</td>\n",
       "    </tr>\n",
       "  </tbody>\n",
       "</table>\n",
       "<p>5798 rows × 3 columns</p>\n",
       "</div>"
      ],
      "text/plain": [
       "         feature  tfidf  ig_value\n",
       "0      aaaccchhh    0.0  0.000798\n",
       "1           aaeu    0.0  0.000784\n",
       "2         aamiin    0.0  0.001751\n",
       "3             ab    0.0  0.000798\n",
       "4           abad    0.0  0.000784\n",
       "...          ...    ...       ...\n",
       "5794  zuudhvtnbc    0.0  0.000967\n",
       "5795          zw    0.0  0.000784\n",
       "5796         zww    0.0  0.000784\n",
       "5797       zygzu    0.0  0.000967\n",
       "5798   zzdysjods    0.0  0.000967\n",
       "\n",
       "[5798 rows x 3 columns]"
      ]
     },
     "execution_count": 110,
     "metadata": {},
     "output_type": "execute_result"
    }
   ],
   "source": [
    "fitur_pre = fitur_pre.dropna()\n",
    "fitur_pre"
   ]
  },
  {
   "cell_type": "code",
   "execution_count": 111,
   "metadata": {},
   "outputs": [],
   "source": [
    "X_train_pre = dfTrain_Pre['tweet'].values\n",
    "y_train_pre = dfTrain_Pre['label'].values\n",
    "\n",
    "X_test_pre = dfTest_Pre['tweet'].values\n",
    "y_test_pre = dfTest_Pre['label'].values"
   ]
  },
  {
   "cell_type": "code",
   "execution_count": 112,
   "metadata": {},
   "outputs": [],
   "source": [
    "# Get feature train and test for dfPre\n",
    "tfidf_vectorizer = TfidfVectorizer(max_df=1.0, min_df=1, lowercase = False, stop_words=None)\n",
    "\n",
    "# Fit transform to data train\n",
    "tfidf_train_pre = tfidf_vectorizer.fit_transform(X_train_pre)\n",
    "tfidf_test_pre = tfidf_vectorizer.transform(X_test_pre)\n",
    "\n",
    "# Get feature matrix for dfTrain_Pre\n",
    "fitur_train_pre = tfidf_train_pre.toarray()\n",
    "fitur_tr1 = tfidf_vectorizer.get_feature_names()\n",
    "train_pre_mtx = pd.DataFrame(data=fitur_train_pre,columns=fitur_tr1)\n",
    "\n",
    "# Get feature matrix for dfTest_Pre\n",
    "fitur_test_pre = tfidf_test_pre.toarray()\n",
    "fitur_te1 = tfidf_vectorizer.get_feature_names()\n",
    "test_pre_mtx = pd.DataFrame(data=fitur_test_pre,columns=fitur_te1)"
   ]
  },
  {
   "cell_type": "code",
   "execution_count": 113,
   "metadata": {},
   "outputs": [],
   "source": [
    "train_pre_mtx['label_value'] = y_train_pre"
   ]
  },
  {
   "cell_type": "code",
   "execution_count": 114,
   "metadata": {},
   "outputs": [],
   "source": [
    "# Sort each fitur dataframe based on ig_value\n",
    "fitur_pre_sorted = fitur_pre.sort_values(by='ig_value', ascending=False)\n",
    "fitur_pre_sorted = list(fitur_pre_sorted.feature)"
   ]
  },
  {
   "cell_type": "code",
   "execution_count": 115,
   "metadata": {},
   "outputs": [],
   "source": [
    "# Fungsi mengambil banyak top-k fitur yang harus diambil\n",
    "\n",
    "def perc_fitur(train_vector):\n",
    "    panjang = train_vector.shape[1]\n",
    "    lenFitur = []\n",
    "    for i in range (1,10):\n",
    "      lenFitur.append(round((i/10)*panjang))\n",
    "    lenFitur.reverse()\n",
    "    \n",
    "    return lenFitur\n",
    "\n",
    "def generate_vec(train_data, test_data):\n",
    "    X_train = train_data['tweet'].values\n",
    "    y_train = train_data['label'].values\n",
    "\n",
    "    X_test = test_data['tweet'].values\n",
    "    y_test = test_data['label'].values\n",
    "    \n",
    "    tfidf_vectorizer = TfidfVectorizer(max_df=1.0, min_df=1, lowercase = False, stop_words=None)\n",
    "\n",
    "    # Fit transform to data train\n",
    "    tfidf_train = tfidf_vectorizer.fit_transform(X_train)\n",
    "    tfidf_test = tfidf_vectorizer.transform(X_test)\n",
    "    \n",
    "    return [tfidf_train, tfidf_test]"
   ]
  },
  {
   "cell_type": "code",
   "execution_count": 116,
   "metadata": {},
   "outputs": [],
   "source": [
    "# Generate feature vector for each dataset\n",
    "vec_pre = generate_vec(dfTrain_Pre, dfTest_Pre)"
   ]
  },
  {
   "cell_type": "code",
   "execution_count": 117,
   "metadata": {},
   "outputs": [],
   "source": [
    "# Ambil top-fitur setiap dataset dengan ukuran descending\n",
    "lenFitur_pre = perc_fitur(vec_pre[0])"
   ]
  },
  {
   "cell_type": "code",
   "execution_count": 118,
   "metadata": {},
   "outputs": [
    {
     "name": "stdout",
     "output_type": "stream",
     "text": [
      "SVM Testing Accuracy Score ->  70.52238805970148\n",
      "SVM Testing Accuracy Score ->  70.27363184079603\n",
      "SVM Testing Accuracy Score ->  70.1492537313433\n",
      "SVM Testing Accuracy Score ->  70.52238805970148\n",
      "SVM Testing Accuracy Score ->  69.77611940298507\n",
      "SVM Testing Accuracy Score ->  69.27860696517413\n",
      "SVM Testing Accuracy Score ->  68.65671641791045\n",
      "SVM Testing Accuracy Score ->  68.65671641791045\n",
      "SVM Testing Accuracy Score ->  64.80099502487562\n"
     ]
    }
   ],
   "source": [
    "# Accuracy for df_pre1\n",
    "acc_ig_pre = []\n",
    "for i in range(len(lenFitur_pre)):\n",
    "    # Create subset feature based on top-n lenFitur\n",
    "    subset_feature = fitur_pre_sorted[:lenFitur_pre[i]]\n",
    "    \n",
    "    # Create feature matrix for train and test\n",
    "    features_train = scipy.sparse.csr_matrix(train_pre_mtx[subset_feature].values)\n",
    "    features_test = scipy.sparse.csr_matrix(test_pre_mtx[subset_feature].values)\n",
    "    \n",
    "    # Classifier - Algorithm - SVM\n",
    "    # fit the training dataset on the classifier\n",
    "    SVM = svm.SVC(kernel = 'linear')\n",
    "    SVM.fit(features_train, y_train_pre)\n",
    "\n",
    "    # Use accuracy_score function to get the accuracy\n",
    "#     print(\"SVM Training Accuracy Score -> \", SVM.score(features_train, y_train_prestem)*100)\n",
    "    print(\"SVM Testing Accuracy Score -> \", SVM.score(features_test, y_test_pre)*100)"
   ]
  },
  {
   "cell_type": "code",
   "execution_count": 119,
   "metadata": {},
   "outputs": [
    {
     "data": {
      "text/plain": [
       "[5219, 4639, 4059, 3479, 2900, 2320, 1740, 1160, 580]"
      ]
     },
     "execution_count": 119,
     "metadata": {},
     "output_type": "execute_result"
    }
   ],
   "source": [
    "lenFitur_pre"
   ]
  },
  {
   "cell_type": "code",
   "execution_count": 120,
   "metadata": {},
   "outputs": [],
   "source": [
    "linear_grid = {'tfidf__max_features': [500, 1000, 5000, None],\n",
    "    'tfidf__ngram_range': [(1, 1), (1, 2), (1, 3)],\n",
    "    'clf__C': np.logspace(-1, 3, 5),\n",
    "    'clf__kernel' : ['linear']}\n",
    "    \n",
    "poly_grid = {'tfidf__max_features': [500, 1000, 5000, None],\n",
    "    'tfidf__ngram_range': [(1, 1), (1, 2), (1, 3)],\n",
    "    'clf__C': np.logspace(-1, 3, 5),\n",
    "    'clf__kernel' : ['poly'],\n",
    "    'clf__degree' : [2, 3],\n",
    "    'clf__gamma': np.logspace(-2, 2, 5)}\n",
    "\n",
    "rbf_grid = {'tfidf__max_features': [500, 1000, 5000, None],\n",
    "    'tfidf__ngram_range': [(1, 1), (1, 2), (1, 3)],\n",
    "    'clf__C': np.logspace(-1, 3, 5),\n",
    "    'clf__kernel' : ['rbf'],\n",
    "    'clf__gamma': np.logspace(-2, 2, 5)}"
   ]
  },
  {
   "cell_type": "code",
   "execution_count": 121,
   "metadata": {},
   "outputs": [],
   "source": [
    "clfPre = svm.SVC()\n",
    "tfidfPre = TfidfVectorizer()\n",
    "\n",
    "pipePre = Pipeline([\n",
    "    ('tfidf', tfidfPre),\n",
    "    ('clf', clfPre)\n",
    "])"
   ]
  },
  {
   "cell_type": "code",
   "execution_count": 122,
   "metadata": {},
   "outputs": [
    {
     "name": "stdout",
     "output_type": "stream",
     "text": [
      "Fitting 5 folds for each of 10 candidates, totalling 50 fits\n"
     ]
    },
    {
     "name": "stderr",
     "output_type": "stream",
     "text": [
      "[Parallel(n_jobs=-1)]: Using backend LokyBackend with 8 concurrent workers.\n",
      "[Parallel(n_jobs=-1)]: Done  25 tasks      | elapsed:   14.3s\n",
      "[Parallel(n_jobs=-1)]: Done  50 out of  50 | elapsed:   27.3s finished\n"
     ]
    }
   ],
   "source": [
    "scv_linear = RandomizedSearchCV(pipePre, param_distributions = linear_grid, n_iter = 10, cv = 5, verbose = 2, n_jobs = -1, return_train_score = True, random_state = 42)\n",
    "scv_linear.fit(X_train_pre, y_train_pre);"
   ]
  },
  {
   "cell_type": "code",
   "execution_count": 123,
   "metadata": {},
   "outputs": [
    {
     "name": "stdout",
     "output_type": "stream",
     "text": [
      "Fitting 5 folds for each of 10 candidates, totalling 50 fits\n"
     ]
    },
    {
     "name": "stderr",
     "output_type": "stream",
     "text": [
      "[Parallel(n_jobs=-1)]: Using backend LokyBackend with 8 concurrent workers.\n",
      "[Parallel(n_jobs=-1)]: Done  25 tasks      | elapsed:   18.9s\n",
      "[Parallel(n_jobs=-1)]: Done  50 out of  50 | elapsed:   34.8s finished\n"
     ]
    }
   ],
   "source": [
    "#using a randomized grid search to find the optimal value of the hyperparameters over a 5-fold cross-validation\n",
    "scv_poly = RandomizedSearchCV(pipePre, param_distributions = poly_grid, n_iter = 10, cv = 5, verbose = 2, n_jobs = -1, return_train_score = True, random_state = 42)\n",
    "scv_poly.fit(X_train_pre, y_train_pre);"
   ]
  },
  {
   "cell_type": "code",
   "execution_count": 124,
   "metadata": {},
   "outputs": [
    {
     "name": "stdout",
     "output_type": "stream",
     "text": [
      "Fitting 5 folds for each of 10 candidates, totalling 50 fits\n"
     ]
    },
    {
     "name": "stderr",
     "output_type": "stream",
     "text": [
      "[Parallel(n_jobs=-1)]: Using backend LokyBackend with 8 concurrent workers.\n",
      "[Parallel(n_jobs=-1)]: Done  25 tasks      | elapsed:   21.7s\n",
      "[Parallel(n_jobs=-1)]: Done  50 out of  50 | elapsed:   39.0s finished\n"
     ]
    }
   ],
   "source": [
    "#using a randomized grid search to find the optimal value of the hyperparameters over a 5-fold cross-validation\n",
    "scv_rbf = RandomizedSearchCV(pipePre, param_distributions = rbf_grid, n_iter = 10, cv = 5, verbose = 2, n_jobs = -1, return_train_score = True, random_state = 42)\n",
    "scv_rbf.fit(X_train_pre, y_train_pre);"
   ]
  },
  {
   "cell_type": "code",
   "execution_count": 125,
   "metadata": {},
   "outputs": [
    {
     "data": {
      "text/plain": [
       "{'tfidf__ngram_range': (1, 1),\n",
       " 'tfidf__max_features': None,\n",
       " 'clf__kernel': 'linear',\n",
       " 'clf__C': 10.0}"
      ]
     },
     "execution_count": 125,
     "metadata": {},
     "output_type": "execute_result"
    }
   ],
   "source": [
    "#preview the best parameters as found by the gridsearch\n",
    "scv_linear.best_params_"
   ]
  },
  {
   "cell_type": "code",
   "execution_count": 126,
   "metadata": {},
   "outputs": [
    {
     "data": {
      "text/plain": [
       "{'tfidf__ngram_range': (1, 3),\n",
       " 'tfidf__max_features': None,\n",
       " 'clf__kernel': 'poly',\n",
       " 'clf__gamma': 100.0,\n",
       " 'clf__degree': 2,\n",
       " 'clf__C': 100.0}"
      ]
     },
     "execution_count": 126,
     "metadata": {},
     "output_type": "execute_result"
    }
   ],
   "source": [
    "scv_poly.best_params_"
   ]
  },
  {
   "cell_type": "code",
   "execution_count": 127,
   "metadata": {},
   "outputs": [
    {
     "data": {
      "text/plain": [
       "{'tfidf__ngram_range': (1, 3),\n",
       " 'tfidf__max_features': None,\n",
       " 'clf__kernel': 'rbf',\n",
       " 'clf__gamma': 0.1,\n",
       " 'clf__C': 100.0}"
      ]
     },
     "execution_count": 127,
     "metadata": {},
     "output_type": "execute_result"
    }
   ],
   "source": [
    "scv_rbf.best_params_"
   ]
  },
  {
   "cell_type": "code",
   "execution_count": 128,
   "metadata": {},
   "outputs": [
    {
     "data": {
      "text/plain": [
       "[5219, 4639, 4059, 3479, 2900, 2320, 1740, 1160, 580]"
      ]
     },
     "execution_count": 128,
     "metadata": {},
     "output_type": "execute_result"
    }
   ],
   "source": [
    "lenFitur_pre"
   ]
  },
  {
   "cell_type": "code",
   "execution_count": 129,
   "metadata": {},
   "outputs": [
    {
     "name": "stdout",
     "output_type": "stream",
     "text": [
      "SVM Testing Accuracy Score ->  68.28358208955224\n",
      "SVM Testing Accuracy Score ->  68.40796019900498\n",
      "SVM Testing Accuracy Score ->  68.03482587064677\n",
      "SVM Testing Accuracy Score ->  68.65671641791045\n",
      "SVM Testing Accuracy Score ->  67.41293532338308\n",
      "SVM Testing Accuracy Score ->  68.03482587064677\n",
      "SVM Testing Accuracy Score ->  66.7910447761194\n",
      "SVM Testing Accuracy Score ->  64.92537313432835\n",
      "SVM Testing Accuracy Score ->  65.17412935323384\n"
     ]
    }
   ],
   "source": [
    "# Accuracy for df_pre1\n",
    "acc_ig_pre = []\n",
    "for i in range(len(lenFitur_pre)):\n",
    "    # Create subset feature based on top-n lenFitur\n",
    "    subset_feature = fitur_pre_sorted[:lenFitur_pre[i]]\n",
    "    \n",
    "    # Create feature matrix for train and test\n",
    "    features_train = scipy.sparse.csr_matrix(train_pre_mtx[subset_feature].values)\n",
    "    features_test = scipy.sparse.csr_matrix(test_pre_mtx[subset_feature].values)\n",
    "    \n",
    "    # Classifier - Algorithm - SVM\n",
    "    # fit the training dataset on the classifier\n",
    "    SVML4 = svm.SVC(kernel = 'linear', C = 10)\n",
    "    SVML4.fit(features_train, y_train_pre)\n",
    "\n",
    "    # Use accuracy_score function to get the accuracy\n",
    "#     print(\"SVM Training Accuracy Score -> \", SVM.score(features_train, y_train_prestem)*100)\n",
    "    print(\"SVM Testing Accuracy Score -> \", SVML4.score(features_test, y_test_pre)*100)"
   ]
  },
  {
   "cell_type": "code",
   "execution_count": 130,
   "metadata": {},
   "outputs": [
    {
     "name": "stdout",
     "output_type": "stream",
     "text": [
      "SVM Testing Accuracy Score ->  67.66169154228857\n",
      "SVM Testing Accuracy Score ->  63.18407960199005\n",
      "SVM Testing Accuracy Score ->  64.6766169154229\n",
      "SVM Testing Accuracy Score ->  67.28855721393035\n",
      "SVM Testing Accuracy Score ->  67.7860696517413\n",
      "SVM Testing Accuracy Score ->  62.56218905472637\n",
      "SVM Testing Accuracy Score ->  54.975124378109456\n",
      "SVM Testing Accuracy Score ->  55.348258706467654\n",
      "SVM Testing Accuracy Score ->  53.85572139303483\n"
     ]
    }
   ],
   "source": [
    "# Accuracy for df_pre1\n",
    "acc_ig_pre = []\n",
    "for i in range(len(lenFitur_pre)):\n",
    "    # Create subset feature based on top-n lenFitur\n",
    "    subset_feature = fitur_pre_sorted[:lenFitur_pre[i]]\n",
    "    \n",
    "    # Create feature matrix for train and test\n",
    "    features_train = scipy.sparse.csr_matrix(train_pre_mtx[subset_feature].values)\n",
    "    features_test = scipy.sparse.csr_matrix(test_pre_mtx[subset_feature].values)\n",
    "    \n",
    "    # Classifier - Algorithm - SVM\n",
    "    # fit the training dataset on the classifier\n",
    "    SVMP4 = svm.SVC(kernel = 'poly', C = 100, gamma = 100, degree = 2)\n",
    "    SVMP4.fit(features_train, y_train_pre)\n",
    "\n",
    "    # Use accuracy_score function to get the accuracy\n",
    "#     print(\"SVM Training Accuracy Score -> \", SVM.score(features_train, y_train_prestem)*100)\n",
    "    print(\"SVM Testing Accuracy Score -> \", SVMP4.score(features_test, y_test_pre)*100)"
   ]
  },
  {
   "cell_type": "code",
   "execution_count": 131,
   "metadata": {},
   "outputs": [
    {
     "name": "stdout",
     "output_type": "stream",
     "text": [
      "SVM Testing Accuracy Score ->  68.1592039800995\n",
      "SVM Testing Accuracy Score ->  66.54228855721394\n",
      "SVM Testing Accuracy Score ->  65.4228855721393\n",
      "SVM Testing Accuracy Score ->  64.92537313432835\n",
      "SVM Testing Accuracy Score ->  64.80099502487562\n",
      "SVM Testing Accuracy Score ->  66.7910447761194\n",
      "SVM Testing Accuracy Score ->  65.29850746268657\n",
      "SVM Testing Accuracy Score ->  64.55223880597015\n",
      "SVM Testing Accuracy Score ->  63.681592039801\n"
     ]
    }
   ],
   "source": [
    "# Accuracy for df_pre1\n",
    "acc_ig_pre = []\n",
    "for i in range(len(lenFitur_pre)):\n",
    "    # Create subset feature based on top-n lenFitur\n",
    "    subset_feature = fitur_pre_sorted[:lenFitur_pre[i]]\n",
    "    \n",
    "    # Create feature matrix for train and test\n",
    "    features_train = scipy.sparse.csr_matrix(train_pre_mtx[subset_feature].values)\n",
    "    features_test = scipy.sparse.csr_matrix(test_pre_mtx[subset_feature].values)\n",
    "    \n",
    "    # Classifier - Algorithm - SVM\n",
    "    # fit the training dataset on the classifier\n",
    "    SVMR4 = svm.SVC(kernel = 'rbf', C = 100, gamma = 0.1)\n",
    "    SVMR4.fit(features_train, y_train_pre)\n",
    "\n",
    "    # Use accuracy_score function to get the accuracy\n",
    "#     print(\"SVM Training Accuracy Score -> \", SVM.score(features_train, y_train_prestem)*100)\n",
    "    print(\"SVM Testing Accuracy Score -> \", SVMR4.score(features_test, y_test_pre)*100)"
   ]
  },
  {
   "cell_type": "code",
   "execution_count": 109,
   "metadata": {},
   "outputs": [
    {
     "data": {
      "text/plain": [
       "[5219, 4639, 4059, 3479, 2900, 2320, 1740, 1160, 580]"
      ]
     },
     "execution_count": 109,
     "metadata": {},
     "output_type": "execute_result"
    }
   ],
   "source": [
    "lenFitur_pre"
   ]
  },
  {
   "cell_type": "code",
   "execution_count": 132,
   "metadata": {},
   "outputs": [],
   "source": [
    "Pred_YPre = SVML4.predict(features_test)"
   ]
  },
  {
   "cell_type": "code",
   "execution_count": 133,
   "metadata": {},
   "outputs": [
    {
     "data": {
      "text/plain": [
       "array([ True, False, False, False,  True, False,  True, False, False,\n",
       "       False, False, False, False,  True,  True, False, False,  True,\n",
       "        True,  True, False, False, False, False,  True, False, False,\n",
       "       False, False,  True,  True, False,  True,  True,  True, False,\n",
       "       False, False, False,  True, False, False, False, False, False,\n",
       "        True, False, False,  True, False,  True,  True,  True,  True,\n",
       "        True,  True, False,  True,  True, False, False, False, False,\n",
       "       False, False,  True, False, False, False,  True, False,  True,\n",
       "        True,  True,  True, False,  True, False,  True, False,  True,\n",
       "        True,  True, False, False,  True, False,  True, False, False,\n",
       "       False, False,  True,  True, False,  True, False, False, False,\n",
       "        True,  True, False, False, False, False, False, False,  True,\n",
       "       False, False, False, False, False,  True,  True, False, False,\n",
       "        True, False, False,  True, False, False,  True, False,  True,\n",
       "       False, False,  True,  True, False,  True, False,  True,  True,\n",
       "        True, False,  True, False, False, False,  True,  True, False,\n",
       "        True,  True, False, False, False,  True,  True, False,  True,\n",
       "       False, False, False,  True,  True, False,  True, False, False,\n",
       "        True, False, False, False, False,  True, False, False, False,\n",
       "       False, False, False, False, False, False,  True, False, False,\n",
       "       False, False, False, False, False,  True, False, False, False,\n",
       "       False,  True, False, False, False, False, False,  True, False,\n",
       "       False, False,  True,  True, False, False, False,  True,  True,\n",
       "       False,  True,  True,  True,  True,  True,  True, False, False,\n",
       "        True, False, False,  True,  True, False,  True, False, False,\n",
       "        True,  True,  True, False, False, False,  True,  True,  True,\n",
       "       False, False,  True,  True, False, False, False,  True, False,\n",
       "       False,  True, False,  True, False,  True, False, False, False,\n",
       "        True, False,  True, False,  True, False, False,  True, False,\n",
       "        True, False, False, False, False,  True, False,  True, False,\n",
       "        True,  True,  True, False, False, False,  True, False,  True,\n",
       "       False,  True,  True, False, False,  True, False, False, False,\n",
       "        True,  True, False, False,  True, False,  True,  True,  True,\n",
       "        True,  True,  True, False, False, False, False, False, False,\n",
       "       False, False,  True, False,  True,  True,  True,  True,  True,\n",
       "       False, False, False, False, False,  True,  True,  True, False,\n",
       "        True,  True,  True, False,  True, False, False, False, False,\n",
       "       False, False,  True,  True, False,  True, False, False, False,\n",
       "       False, False, False,  True, False, False, False,  True, False,\n",
       "       False, False, False, False,  True,  True,  True,  True,  True,\n",
       "       False, False, False, False,  True, False, False,  True, False,\n",
       "       False, False, False,  True, False, False,  True,  True, False,\n",
       "       False,  True,  True, False, False, False, False, False,  True,\n",
       "        True, False, False, False, False,  True, False, False, False,\n",
       "        True,  True, False, False,  True,  True, False, False,  True,\n",
       "       False, False, False, False, False, False, False,  True,  True,\n",
       "       False, False, False,  True,  True, False, False,  True, False,\n",
       "       False, False, False,  True, False, False, False,  True, False,\n",
       "        True, False,  True, False,  True, False, False, False,  True,\n",
       "        True,  True, False, False, False, False, False, False,  True,\n",
       "       False, False, False, False, False,  True, False,  True, False,\n",
       "        True,  True, False,  True, False, False, False, False, False,\n",
       "       False, False, False, False, False,  True, False, False, False,\n",
       "       False,  True,  True, False, False, False, False, False, False,\n",
       "        True, False,  True,  True, False,  True,  True, False,  True,\n",
       "       False,  True, False, False, False, False,  True, False, False,\n",
       "        True, False,  True, False, False, False, False, False,  True,\n",
       "       False,  True, False,  True,  True,  True, False, False,  True,\n",
       "       False, False,  True, False, False, False, False, False,  True,\n",
       "       False, False, False, False,  True, False, False, False, False,\n",
       "       False, False, False, False, False, False, False,  True, False,\n",
       "       False, False, False, False, False, False, False, False, False,\n",
       "       False, False, False, False, False, False, False, False, False,\n",
       "       False,  True, False,  True, False, False, False,  True,  True,\n",
       "       False,  True,  True, False, False, False, False, False, False,\n",
       "       False, False,  True,  True,  True, False,  True, False, False,\n",
       "       False,  True, False, False, False, False, False,  True, False,\n",
       "       False, False,  True, False, False, False, False, False, False,\n",
       "        True, False, False, False,  True, False, False, False, False,\n",
       "        True,  True,  True,  True, False, False, False,  True,  True,\n",
       "        True,  True,  True, False, False,  True, False, False,  True,\n",
       "        True, False, False, False,  True, False, False, False,  True,\n",
       "        True,  True, False,  True, False, False, False, False, False,\n",
       "       False, False, False,  True,  True,  True, False,  True,  True,\n",
       "       False, False,  True,  True, False,  True,  True, False, False,\n",
       "        True, False, False, False, False, False,  True, False, False,\n",
       "       False, False,  True, False,  True, False, False, False, False,\n",
       "       False, False,  True, False, False, False, False,  True,  True,\n",
       "        True, False, False,  True,  True, False,  True, False, False,\n",
       "       False, False,  True, False,  True,  True, False, False, False,\n",
       "       False, False, False, False, False, False, False,  True, False,\n",
       "       False, False, False,  True, False, False, False, False, False,\n",
       "       False,  True,  True, False, False, False, False, False, False,\n",
       "       False, False,  True, False,  True,  True, False, False, False,\n",
       "       False,  True, False,  True,  True, False,  True,  True, False,\n",
       "       False, False,  True, False, False,  True,  True, False, False,\n",
       "       False, False, False, False, False, False,  True, False, False,\n",
       "        True, False, False, False, False, False, False, False,  True,\n",
       "       False,  True, False, False,  True, False, False,  True, False,\n",
       "        True, False, False])"
      ]
     },
     "execution_count": 133,
     "metadata": {},
     "output_type": "execute_result"
    }
   ],
   "source": [
    "wrong_classified_Pre = Pred_YPre != y_test_pre\n",
    "wrong_classified_Pre"
   ]
  },
  {
   "cell_type": "code",
   "execution_count": 134,
   "metadata": {},
   "outputs": [],
   "source": [
    "wrong_data_Pre = dfTest_Pre[wrong_classified_Pre == True]\n",
    "wrong_labels_Pre = Pred_YPre[wrong_classified_Pre == True]"
   ]
  },
  {
   "cell_type": "code",
   "execution_count": 135,
   "metadata": {},
   "outputs": [
    {
     "data": {
      "text/html": [
       "<div>\n",
       "<style scoped>\n",
       "    .dataframe tbody tr th:only-of-type {\n",
       "        vertical-align: middle;\n",
       "    }\n",
       "\n",
       "    .dataframe tbody tr th {\n",
       "        vertical-align: top;\n",
       "    }\n",
       "\n",
       "    .dataframe thead th {\n",
       "        text-align: right;\n",
       "    }\n",
       "</style>\n",
       "<table border=\"1\" class=\"dataframe\">\n",
       "  <thead>\n",
       "    <tr style=\"text-align: right;\">\n",
       "      <th></th>\n",
       "      <th>tweet</th>\n",
       "      <th>label</th>\n",
       "    </tr>\n",
       "  </thead>\n",
       "  <tbody>\n",
       "    <tr>\n",
       "      <td>0</td>\n",
       "      <td>aspek historis calon ibu kota negara kutai kar...</td>\n",
       "      <td>0</td>\n",
       "    </tr>\n",
       "    <tr>\n",
       "      <td>4</td>\n",
       "      <td>negara dikelola  sporadis</td>\n",
       "      <td>0</td>\n",
       "    </tr>\n",
       "    <tr>\n",
       "      <td>17</td>\n",
       "      <td>pemindahan ibu kota trending  twitter lihat ko...</td>\n",
       "      <td>0</td>\n",
       "    </tr>\n",
       "    <tr>\n",
       "      <td>29</td>\n",
       "      <td>skema pembiayan pemindahan ibu kota negara lew...</td>\n",
       "      <td>0</td>\n",
       "    </tr>\n",
       "    <tr>\n",
       "      <td>30</td>\n",
       "      <td>pemindahan ibu kota pindah thn pemilihan presi...</td>\n",
       "      <td>0</td>\n",
       "    </tr>\n",
       "    <tr>\n",
       "      <td>...</td>\n",
       "      <td>...</td>\n",
       "      <td>...</td>\n",
       "    </tr>\n",
       "    <tr>\n",
       "      <td>715</td>\n",
       "      <td>sebut kondisi bangsa menjerit jalih pitoeng mi...</td>\n",
       "      <td>-1</td>\n",
       "    </tr>\n",
       "    <tr>\n",
       "      <td>727</td>\n",
       "      <td>menjual negara  halus pemindahan ibu kota dgn ...</td>\n",
       "      <td>-1</td>\n",
       "    </tr>\n",
       "    <tr>\n",
       "      <td>759</td>\n",
       "      <td>geopolitik pemindahan ibu kota negara sangat ...</td>\n",
       "      <td>-1</td>\n",
       "    </tr>\n",
       "    <tr>\n",
       "      <td>783</td>\n",
       "      <td>soal pemindahan ibu kota  kaltim amien rais ke...</td>\n",
       "      <td>0</td>\n",
       "    </tr>\n",
       "    <tr>\n",
       "      <td>793</td>\n",
       "      <td>amien rais pemerintah menunggu kajian tiongkok...</td>\n",
       "      <td>-1</td>\n",
       "    </tr>\n",
       "  </tbody>\n",
       "</table>\n",
       "<p>103 rows × 2 columns</p>\n",
       "</div>"
      ],
      "text/plain": [
       "                                                 tweet  label\n",
       "0    aspek historis calon ibu kota negara kutai kar...      0\n",
       "4                            negara dikelola  sporadis      0\n",
       "17   pemindahan ibu kota trending  twitter lihat ko...      0\n",
       "29   skema pembiayan pemindahan ibu kota negara lew...      0\n",
       "30   pemindahan ibu kota pindah thn pemilihan presi...      0\n",
       "..                                                 ...    ...\n",
       "715  sebut kondisi bangsa menjerit jalih pitoeng mi...     -1\n",
       "727  menjual negara  halus pemindahan ibu kota dgn ...     -1\n",
       "759   geopolitik pemindahan ibu kota negara sangat ...     -1\n",
       "783  soal pemindahan ibu kota  kaltim amien rais ke...      0\n",
       "793  amien rais pemerintah menunggu kajian tiongkok...     -1\n",
       "\n",
       "[103 rows x 2 columns]"
      ]
     },
     "execution_count": 135,
     "metadata": {},
     "output_type": "execute_result"
    }
   ],
   "source": [
    "false_pronet_Pre = wrong_data_Pre[wrong_labels_Pre == 1]\n",
    "false_pronet_Pre"
   ]
  },
  {
   "cell_type": "code",
   "execution_count": 136,
   "metadata": {},
   "outputs": [
    {
     "data": {
      "text/html": [
       "<div>\n",
       "<style scoped>\n",
       "    .dataframe tbody tr th:only-of-type {\n",
       "        vertical-align: middle;\n",
       "    }\n",
       "\n",
       "    .dataframe tbody tr th {\n",
       "        vertical-align: top;\n",
       "    }\n",
       "\n",
       "    .dataframe thead th {\n",
       "        text-align: right;\n",
       "    }\n",
       "</style>\n",
       "<table border=\"1\" class=\"dataframe\">\n",
       "  <thead>\n",
       "    <tr style=\"text-align: right;\">\n",
       "      <th></th>\n",
       "      <th>tweet</th>\n",
       "      <th>label</th>\n",
       "    </tr>\n",
       "  </thead>\n",
       "  <tbody>\n",
       "    <tr>\n",
       "      <td>6</td>\n",
       "      <td>mudah an biaya pemindahan ibu kota  menjadi aj...</td>\n",
       "      <td>-1</td>\n",
       "    </tr>\n",
       "    <tr>\n",
       "      <td>18</td>\n",
       "      <td>proses pemindahan memakan biaya t sebagian dit...</td>\n",
       "      <td>-1</td>\n",
       "    </tr>\n",
       "    <tr>\n",
       "      <td>24</td>\n",
       "      <td>dipetimbangkan  menambah utang gitu maksudnya ...</td>\n",
       "      <td>-1</td>\n",
       "    </tr>\n",
       "    <tr>\n",
       "      <td>32</td>\n",
       "      <td>sepertinya    besar  sengaja ditutupi dibalik ...</td>\n",
       "      <td>-1</td>\n",
       "    </tr>\n",
       "    <tr>\n",
       "      <td>48</td>\n",
       "      <td>kondisi   plus hutang negara  t berbanggalah ...</td>\n",
       "      <td>-1</td>\n",
       "    </tr>\n",
       "    <tr>\n",
       "      <td>...</td>\n",
       "      <td>...</td>\n",
       "      <td>...</td>\n",
       "    </tr>\n",
       "    <tr>\n",
       "      <td>739</td>\n",
       "      <td>pemindahan ibu kota  hak presiden pic twitter ...</td>\n",
       "      <td>1</td>\n",
       "    </tr>\n",
       "    <tr>\n",
       "      <td>740</td>\n",
       "      <td>median merilis pendapat masyarakat terkait pem...</td>\n",
       "      <td>-1</td>\n",
       "    </tr>\n",
       "    <tr>\n",
       "      <td>752</td>\n",
       "      <td>masa bodo  isu pemindahan ibu kota sing pentin...</td>\n",
       "      <td>-1</td>\n",
       "    </tr>\n",
       "    <tr>\n",
       "      <td>771</td>\n",
       "      <td>fadli zon yakini pemindahan ibu kota  tahun sulit</td>\n",
       "      <td>-1</td>\n",
       "    </tr>\n",
       "    <tr>\n",
       "      <td>791</td>\n",
       "      <td>pemindahan ibu kota  kaltim  turunkan aktivita...</td>\n",
       "      <td>-1</td>\n",
       "    </tr>\n",
       "  </tbody>\n",
       "</table>\n",
       "<p>87 rows × 2 columns</p>\n",
       "</div>"
      ],
      "text/plain": [
       "                                                 tweet  label\n",
       "6    mudah an biaya pemindahan ibu kota  menjadi aj...     -1\n",
       "18   proses pemindahan memakan biaya t sebagian dit...     -1\n",
       "24   dipetimbangkan  menambah utang gitu maksudnya ...     -1\n",
       "32   sepertinya    besar  sengaja ditutupi dibalik ...     -1\n",
       "48    kondisi   plus hutang negara  t berbanggalah ...     -1\n",
       "..                                                 ...    ...\n",
       "739  pemindahan ibu kota  hak presiden pic twitter ...      1\n",
       "740  median merilis pendapat masyarakat terkait pem...     -1\n",
       "752  masa bodo  isu pemindahan ibu kota sing pentin...     -1\n",
       "771  fadli zon yakini pemindahan ibu kota  tahun sulit     -1\n",
       "791  pemindahan ibu kota  kaltim  turunkan aktivita...     -1\n",
       "\n",
       "[87 rows x 2 columns]"
      ]
     },
     "execution_count": 136,
     "metadata": {},
     "output_type": "execute_result"
    }
   ],
   "source": [
    "false_procon_Pre = wrong_data_Pre[wrong_labels_Pre == 0]\n",
    "false_procon_Pre"
   ]
  },
  {
   "cell_type": "code",
   "execution_count": 137,
   "metadata": {},
   "outputs": [
    {
     "data": {
      "text/html": [
       "<div>\n",
       "<style scoped>\n",
       "    .dataframe tbody tr th:only-of-type {\n",
       "        vertical-align: middle;\n",
       "    }\n",
       "\n",
       "    .dataframe tbody tr th {\n",
       "        vertical-align: top;\n",
       "    }\n",
       "\n",
       "    .dataframe thead th {\n",
       "        text-align: right;\n",
       "    }\n",
       "</style>\n",
       "<table border=\"1\" class=\"dataframe\">\n",
       "  <thead>\n",
       "    <tr style=\"text-align: right;\">\n",
       "      <th></th>\n",
       "      <th>tweet</th>\n",
       "      <th>label</th>\n",
       "    </tr>\n",
       "  </thead>\n",
       "  <tbody>\n",
       "    <tr>\n",
       "      <td>13</td>\n",
       "      <td>kakak dapid td lg meeting pemindahan ibu kota ...</td>\n",
       "      <td>0</td>\n",
       "    </tr>\n",
       "    <tr>\n",
       "      <td>14</td>\n",
       "      <td>bapak tdk menolak tp bapak cuma menjelaskan ka...</td>\n",
       "      <td>0</td>\n",
       "    </tr>\n",
       "    <tr>\n",
       "      <td>19</td>\n",
       "      <td>terkait rencana pemindahan ibu kota  kalimanta...</td>\n",
       "      <td>1</td>\n",
       "    </tr>\n",
       "    <tr>\n",
       "      <td>33</td>\n",
       "      <td>terpecah belah cuma gara gara kepentingan poli...</td>\n",
       "      <td>0</td>\n",
       "    </tr>\n",
       "    <tr>\n",
       "      <td>34</td>\n",
       "      <td>kepikiran klo pemindahan ibu kota bukan pemiki...</td>\n",
       "      <td>0</td>\n",
       "    </tr>\n",
       "    <tr>\n",
       "      <td>...</td>\n",
       "      <td>...</td>\n",
       "      <td>...</td>\n",
       "    </tr>\n",
       "    <tr>\n",
       "      <td>770</td>\n",
       "      <td>pemindahan ibu kota    merta berlangsung   per...</td>\n",
       "      <td>0</td>\n",
       "    </tr>\n",
       "    <tr>\n",
       "      <td>780</td>\n",
       "      <td>ppp menilai kritik ketua dewan kehormatan pan ...</td>\n",
       "      <td>1</td>\n",
       "    </tr>\n",
       "    <tr>\n",
       "      <td>796</td>\n",
       "      <td>pemindahan ibu kota amien rais caper</td>\n",
       "      <td>0</td>\n",
       "    </tr>\n",
       "    <tr>\n",
       "      <td>799</td>\n",
       "      <td>fadli zon pertanyakan urgensi pemindahan ibu k...</td>\n",
       "      <td>0</td>\n",
       "    </tr>\n",
       "    <tr>\n",
       "      <td>801</td>\n",
       "      <td>semoga  serupa  dilakukan  proses pemindahan i...</td>\n",
       "      <td>1</td>\n",
       "    </tr>\n",
       "  </tbody>\n",
       "</table>\n",
       "<p>90 rows × 2 columns</p>\n",
       "</div>"
      ],
      "text/plain": [
       "                                                 tweet  label\n",
       "13   kakak dapid td lg meeting pemindahan ibu kota ...      0\n",
       "14   bapak tdk menolak tp bapak cuma menjelaskan ka...      0\n",
       "19   terkait rencana pemindahan ibu kota  kalimanta...      1\n",
       "33   terpecah belah cuma gara gara kepentingan poli...      0\n",
       "34   kepikiran klo pemindahan ibu kota bukan pemiki...      0\n",
       "..                                                 ...    ...\n",
       "770  pemindahan ibu kota    merta berlangsung   per...      0\n",
       "780  ppp menilai kritik ketua dewan kehormatan pan ...      1\n",
       "796               pemindahan ibu kota amien rais caper      0\n",
       "799  fadli zon pertanyakan urgensi pemindahan ibu k...      0\n",
       "801  semoga  serupa  dilakukan  proses pemindahan i...      1\n",
       "\n",
       "[90 rows x 2 columns]"
      ]
     },
     "execution_count": 137,
     "metadata": {},
     "output_type": "execute_result"
    }
   ],
   "source": [
    "false_netcon_Pre = wrong_data_Pre[wrong_labels_Pre == -1]\n",
    "false_netcon_Pre"
   ]
  },
  {
   "cell_type": "code",
   "execution_count": null,
   "metadata": {},
   "outputs": [],
   "source": []
  }
 ],
 "metadata": {
  "kernelspec": {
   "display_name": "Python 3",
   "language": "python",
   "name": "python3"
  },
  "language_info": {
   "codemirror_mode": {
    "name": "ipython",
    "version": 3
   },
   "file_extension": ".py",
   "mimetype": "text/x-python",
   "name": "python",
   "nbconvert_exporter": "python",
   "pygments_lexer": "ipython3",
   "version": "3.7.4"
  }
 },
 "nbformat": 4,
 "nbformat_minor": 2
}
